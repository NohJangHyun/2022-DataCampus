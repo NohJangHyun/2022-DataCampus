{
 "cells": [
  {
   "cell_type": "code",
   "execution_count": 191,
   "id": "125b735e",
   "metadata": {},
   "outputs": [
    {
     "name": "stdout",
     "output_type": "stream",
     "text": [
      "[ 1  2  3  4  5  6  7  8  9 10 11 12 13 14 15 16 17 18 19 20] \n",
      "\n",
      "[20 19 18 17 16 15 14 13 12 11 10  9  8  7  6  5  4  3  2  1] \n",
      "\n",
      "[[ 1  2  3  4]\n",
      " [ 5  6  7  8]\n",
      " [ 9 10 11 12]\n",
      " [13 14 15 16]\n",
      " [17 18 19 20]] \n",
      "\n"
     ]
    }
   ],
   "source": [
    "#실습 문제 1\n",
    "import numpy as np\n",
    "\n",
    "num_arr = np.arange(1, 21)\n",
    "print(num_arr, \"\\n\")\n",
    "\n",
    "print(num_arr[::-1], \"\\n\")\n",
    "\n",
    "num_arr= num_arr.reshape(5,4)\n",
    "print(num_arr, \"\\n\")"
   ]
  },
  {
   "cell_type": "code",
   "execution_count": 192,
   "id": "1340cfe9",
   "metadata": {},
   "outputs": [
    {
     "name": "stdout",
     "output_type": "stream",
     "text": [
      "[[ 0  1  2  3  4]\n",
      " [ 5  6  7  8  9]\n",
      " [10 11 12 13 14]\n",
      " [15 16 17 18 19]\n",
      " [20 21 22 23 24]]\n"
     ]
    }
   ],
   "source": [
    "#실습 문제 2-1\n",
    "n_arr = np.arange(25).reshape(5,5)\n",
    "print(n_arr)"
   ]
  },
  {
   "cell_type": "code",
   "execution_count": 195,
   "id": "ad62fa96",
   "metadata": {},
   "outputs": [
    {
     "name": "stdout",
     "output_type": "stream",
     "text": [
      "첫 원소 : 0\n",
      "마지막 원소 : 24\n"
     ]
    }
   ],
   "source": [
    "#실습 문제 2-2\n",
    "print(\"첫 원소 :\", n_arr[0][0])\n",
    "print(\"마지막 원소 :\",n_arr[4][4])\n",
    "# print(\"마지막 원소 :\",n_arr[-1][-1])"
   ]
  },
  {
   "cell_type": "code",
   "execution_count": 196,
   "id": "dba1ecd9",
   "metadata": {},
   "outputs": [
    {
     "name": "stdout",
     "output_type": "stream",
     "text": [
      "[[0 1 2 3 4]\n",
      " [5 6 7 8 9]]\n"
     ]
    }
   ],
   "source": [
    "#실습 문제 2-3\n",
    "print(n_arr[:2])"
   ]
  },
  {
   "cell_type": "code",
   "execution_count": 199,
   "id": "8973ed57",
   "metadata": {},
   "outputs": [
    {
     "name": "stdout",
     "output_type": "stream",
     "text": [
      "[[10 11 12 13 14]\n",
      " [15 16 17 18 19]\n",
      " [20 21 22 23 24]] \n",
      "\n",
      "[[10 11 12 13 14]\n",
      " [15 16 17 18 19]\n",
      " [20 21 22 23 24]]\n"
     ]
    }
   ],
   "source": [
    "#실습 문제 2-4\n",
    "print(n_arr[2:], \"\\n\")\n",
    "\n",
    "#응용\n",
    "print(n_arr[:3][:5]+10)"
   ]
  },
  {
   "cell_type": "code",
   "execution_count": 201,
   "id": "e8c5a521",
   "metadata": {
    "scrolled": true
   },
   "outputs": [
    {
     "name": "stdout",
     "output_type": "stream",
     "text": [
      "[[ 0  2  4]\n",
      " [ 5  7  9]\n",
      " [10 12 14]\n",
      " [15 17 19]\n",
      " [20 22 24]]\n"
     ]
    }
   ],
   "source": [
    "#실습 문제 2-5\n",
    "print(n_arr[:, ::2]) #행전체, 열은 2씩 띄어서 슬라이싱"
   ]
  },
  {
   "cell_type": "code",
   "execution_count": 135,
   "id": "7477aaae",
   "metadata": {},
   "outputs": [
    {
     "name": "stdout",
     "output_type": "stream",
     "text": [
      "[[ 0  2  4]\n",
      " [10 12 14]\n",
      " [20 22 24]]\n"
     ]
    }
   ],
   "source": [
    "#실습 문제 2-6\n",
    "print(n_arr[::2,::2])"
   ]
  },
  {
   "cell_type": "code",
   "execution_count": 163,
   "id": "c21f8058",
   "metadata": {},
   "outputs": [
    {
     "name": "stdout",
     "output_type": "stream",
     "text": [
      "[[0 1]\n",
      " [2 3]\n",
      " [4 5]\n",
      " [6 7]\n",
      " [8 9]]\n"
     ]
    }
   ],
   "source": [
    "#실습 문제 2-7\n",
    "print(n_arr[0:2].reshape(5,2))"
   ]
  },
  {
   "cell_type": "code",
   "execution_count": 211,
   "id": "4c8cf0f6",
   "metadata": {},
   "outputs": [
    {
     "name": "stdout",
     "output_type": "stream",
     "text": [
      "[[[0.54340494 0.27836939 0.42451759]\n",
      "  [0.84477613 0.00471886 0.12156912]\n",
      "  [0.67074908 0.82585276 0.13670659]]\n",
      "\n",
      " [[0.57509333 0.89132195 0.20920212]\n",
      "  [0.18532822 0.10837689 0.21969749]\n",
      "  [0.97862378 0.81168315 0.17194101]]\n",
      "\n",
      " [[0.81622475 0.27407375 0.43170418]\n",
      "  [0.94002982 0.81764938 0.33611195]\n",
      "  [0.17541045 0.37283205 0.00568851]]]\n"
     ]
    }
   ],
   "source": [
    "#실습 문제 3-1\n",
    "np.random.seed(100)\n",
    "a = np.random.rand(3,3,3)\n",
    "print(a)"
   ]
  },
  {
   "cell_type": "code",
   "execution_count": 212,
   "id": "086faab9",
   "metadata": {},
   "outputs": [
    {
     "name": "stdout",
     "output_type": "stream",
     "text": [
      "a의 원소들 중 최댓값 : 0.9786237847073697\n",
      "a의 원소들 중 최댓값 : 0.9786237847073697\n"
     ]
    }
   ],
   "source": [
    "#실습 문제 3-2\n",
    "print(\"a의 원소들 중 최댓값 :\", a.max())\n",
    "# print(\"a의 원소들 중 최댓값 :\", np.max(a))"
   ]
  },
  {
   "cell_type": "code",
   "execution_count": 213,
   "id": "995f155b",
   "metadata": {},
   "outputs": [
    {
     "name": "stdout",
     "output_type": "stream",
     "text": [
      "a의 원소들 중 최댓값의 위치 : 15\n",
      "a의 원소들 중 최댓값의 위치 : 15\n"
     ]
    }
   ],
   "source": [
    "#실습 문제 3-3\n",
    "print(\"a의 원소들 중 최댓값의 위치 :\", a.argmax())\n",
    "# print(\"a의 원소들 중 최댓값의 위치 :\", np.argmax(a))"
   ]
  },
  {
   "cell_type": "code",
   "execution_count": 214,
   "id": "220d3db9",
   "metadata": {},
   "outputs": [
    {
     "name": "stdout",
     "output_type": "stream",
     "text": [
      "[[0. 0. 0. 0. 0.]\n",
      " [0. 0. 0. 0. 0.]\n",
      " [0. 0. 0. 0. 0.]\n",
      " [0. 0. 0. 0. 0.]\n",
      " [0. 0. 0. 0. 0.]]\n",
      "\n",
      "[[1 0 1 0 1]\n",
      " [0 1 0 1 0]\n",
      " [1 0 1 0 1]\n",
      " [0 1 0 1 0]\n",
      " [1 0 1 0 1]]\n"
     ]
    }
   ],
   "source": [
    "#실습 문제 4-1\n",
    "n_arr = (np.arange(1, 26)%2).reshape(5,5)\n",
    "print(n_arr)"
   ]
  },
  {
   "cell_type": "code",
   "execution_count": 215,
   "id": "5a3c4edd",
   "metadata": {},
   "outputs": [
    {
     "name": "stdout",
     "output_type": "stream",
     "text": [
      "행렬의 행 방향 성분의 합 :\n",
      "[[1.93472302 1.44376509 1.0654239 ]\n",
      " [1.97013417 0.93074513 0.67737856]\n",
      " [1.82478332 2.01036795 0.31433611]]\n"
     ]
    }
   ],
   "source": [
    "#실습 문제 4-2\n",
    "print(\"행렬의 행 방향 성분의 합 :\")\n",
    "print(a.sum(axis=0)) #행 방향 합"
   ]
  },
  {
   "cell_type": "code",
   "execution_count": 78,
   "id": "fae58c67",
   "metadata": {},
   "outputs": [
    {
     "name": "stdout",
     "output_type": "stream",
     "text": [
      "10번째 원소 : 9\n",
      "20번째 원소 : 19\n"
     ]
    }
   ],
   "source": [
    "#실습 문제 5\n",
    "a = np.arange(32).reshape(4,4,2)\n",
    "a = a.flatten()\n",
    "print(\"10번째 원소 :\", a[9])\n",
    "print(\"20번째 원소 :\", a[19])"
   ]
  },
  {
   "cell_type": "code",
   "execution_count": 222,
   "id": "eccc815d",
   "metadata": {},
   "outputs": [
    {
     "name": "stdout",
     "output_type": "stream",
     "text": [
      "[[1.         0.99597396 0.88903291 0.67814257]\n",
      " [0.99597396 1.         0.88273092 0.66949994]\n",
      " [0.88903291 0.88273092 1.         0.56706953]\n",
      " [0.67814257 0.66949994 0.56706953 1.        ]]\n"
     ]
    }
   ],
   "source": [
    "#실습 문제 6\n",
    "x1 = [i for i in range(100)]\n",
    "x2 = [i + np.random.randint(1,10) for i in range(100)]\n",
    "x3 = [i + np.random.randint(1,50) for i in range(100)]\n",
    "x4 = [i + np.random.randint(1,100) for i in range(100)]\n",
    "\n",
    "result = np.corrcoef( [x1, x2, x3, x4])\n",
    "print(result)\n",
    "#1) x1과 가장 상관관계가 높은 리스트는?\n",
    "# x2 리스트\n",
    "\n",
    "#2) x1과 가장 상관관계가 낮은 리스트는?\n",
    "# x3 리스트"
   ]
  }
 ],
 "metadata": {
  "kernelspec": {
   "display_name": "Python 3 (ipykernel)",
   "language": "python",
   "name": "python3"
  },
  "language_info": {
   "codemirror_mode": {
    "name": "ipython",
    "version": 3
   },
   "file_extension": ".py",
   "mimetype": "text/x-python",
   "name": "python",
   "nbconvert_exporter": "python",
   "pygments_lexer": "ipython3",
   "version": "3.9.12"
  }
 },
 "nbformat": 4,
 "nbformat_minor": 5
}
