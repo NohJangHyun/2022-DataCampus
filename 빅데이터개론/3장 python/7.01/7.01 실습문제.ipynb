{
 "cells": [
  {
   "cell_type": "code",
   "execution_count": 25,
   "id": "418e1f4d",
   "metadata": {},
   "outputs": [
    {
     "name": "stdout",
     "output_type": "stream",
     "text": [
      "[ 1  2  3  4  5  6  7  8  9 10 11 12 13 14 15 16 17 18 19 20]\n",
      "\n",
      "[20 19 18 17 16 15 14 13 12 11 10  9  8  7  6  5  4  3  2  1]\n",
      "\n",
      "[[ 1  2  3  4]\n",
      " [ 5  6  7  8]\n",
      " [ 9 10 11 12]\n",
      " [13 14 15 16]\n",
      " [17 18 19 20]]\n"
     ]
    }
   ],
   "source": [
    "#실습 문제 1\n",
    "import numpy as np\n",
    "\n",
    "num_arr = np.arange(1, 21)\n",
    "print(num_arr)\n",
    "print()\n",
    "\n",
    "num_arr = np.arange(20, 0, -1)\n",
    "print(num_arr)\n",
    "print()\n",
    "\n",
    "num_arr= np.arange(1,21).reshape(5,4)\n",
    "print(num_arr)"
   ]
  },
  {
   "cell_type": "code",
   "execution_count": 41,
   "id": "cd835b2b",
   "metadata": {},
   "outputs": [
    {
     "name": "stdout",
     "output_type": "stream",
     "text": [
      "[[ 0  1  2  3  4]\n",
      " [ 5  6  7  8  9]\n",
      " [10 11 12 13 14]\n",
      " [15 16 17 18 19]\n",
      " [20 21 22 23 24]]\n"
     ]
    }
   ],
   "source": [
    "#실습 문제 2-1\n",
    "n_arr = np.arange(0, 25).reshape(5,5)\n",
    "print(n_arr)"
   ]
  },
  {
   "cell_type": "code",
   "execution_count": 28,
   "id": "e34ebb54",
   "metadata": {},
   "outputs": [
    {
     "name": "stdout",
     "output_type": "stream",
     "text": [
      "첫 원소 : 0\n",
      "마지막 원소 : 24\n"
     ]
    }
   ],
   "source": [
    "#실습 문제 2-2\n",
    "print(\"첫 원소 :\", n_arr[0][0])\n",
    "print(\"마지막 원소 :\",n_arr[4][4])"
   ]
  },
  {
   "cell_type": "code",
   "execution_count": 35,
   "id": "16989453",
   "metadata": {},
   "outputs": [
    {
     "name": "stdout",
     "output_type": "stream",
     "text": [
      "[[0 1 2 3 4]\n",
      " [5 6 7 8 9]]\n"
     ]
    }
   ],
   "source": [
    "#실습 문제 2-3\n",
    "print(n_arr[:2][:5])"
   ]
  },
  {
   "cell_type": "code",
   "execution_count": 49,
   "id": "44d74d5c",
   "metadata": {},
   "outputs": [
    {
     "name": "stdout",
     "output_type": "stream",
     "text": [
      "[[10 11 12 13 14]\n",
      " [15 16 17 18 19]\n",
      " [20 21 22 23 24]]\n"
     ]
    }
   ],
   "source": [
    "#실습 문제 2-4\n",
    "print(n_arr[:3][:5]+10)"
   ]
  },
  {
   "cell_type": "code",
   "execution_count": 134,
   "id": "ea0cd25f",
   "metadata": {
    "scrolled": true
   },
   "outputs": [
    {
     "name": "stdout",
     "output_type": "stream",
     "text": [
      "[[ 0  2  4]\n",
      " [ 5  7  9]\n",
      " [10 12 14]\n",
      " [15 17 19]\n",
      " [20 22 24]]\n"
     ]
    }
   ],
   "source": [
    "#실습 문제 2-5\n",
    "print(n_arr[:5,::2])"
   ]
  },
  {
   "cell_type": "code",
   "execution_count": 135,
   "id": "5b995464",
   "metadata": {},
   "outputs": [
    {
     "name": "stdout",
     "output_type": "stream",
     "text": [
      "[[ 0  2  4]\n",
      " [10 12 14]\n",
      " [20 22 24]]\n"
     ]
    }
   ],
   "source": [
    "#실습 문제 2-6\n",
    "print(n_arr[::2,::2])"
   ]
  },
  {
   "cell_type": "code",
   "execution_count": 163,
   "id": "c4165eac",
   "metadata": {},
   "outputs": [
    {
     "name": "stdout",
     "output_type": "stream",
     "text": [
      "[[0 1]\n",
      " [2 3]\n",
      " [4 5]\n",
      " [6 7]\n",
      " [8 9]]\n"
     ]
    }
   ],
   "source": [
    "#실습 문제 2-7\n",
    "print(n_arr[0:2].reshape(5,2))"
   ]
  },
  {
   "cell_type": "code",
   "execution_count": 55,
   "id": "7c016da1",
   "metadata": {},
   "outputs": [
    {
     "name": "stdout",
     "output_type": "stream",
     "text": [
      "[[[0.54340494 0.27836939 0.42451759]\n",
      "  [0.84477613 0.00471886 0.12156912]\n",
      "  [0.67074908 0.82585276 0.13670659]]\n",
      "\n",
      " [[0.57509333 0.89132195 0.20920212]\n",
      "  [0.18532822 0.10837689 0.21969749]\n",
      "  [0.97862378 0.81168315 0.17194101]]\n",
      "\n",
      " [[0.81622475 0.27407375 0.43170418]\n",
      "  [0.94002982 0.81764938 0.33611195]\n",
      "  [0.17541045 0.37283205 0.00568851]]]\n"
     ]
    }
   ],
   "source": [
    "#실습 문제 3-1\n",
    "np.random.seed(100)\n",
    "a = np.random.rand(3,3,3)\n",
    "print(a)"
   ]
  },
  {
   "cell_type": "code",
   "execution_count": 58,
   "id": "d12a0487",
   "metadata": {},
   "outputs": [
    {
     "name": "stdout",
     "output_type": "stream",
     "text": [
      "a의 원소들 중 최댓값 : 0.9786237847073697\n"
     ]
    }
   ],
   "source": [
    "#실습 문제 3-2\n",
    "print(\"a의 원소들 중 최댓값 :\", a.max())"
   ]
  },
  {
   "cell_type": "code",
   "execution_count": 59,
   "id": "4b3ac892",
   "metadata": {},
   "outputs": [
    {
     "name": "stdout",
     "output_type": "stream",
     "text": [
      "a의 원소들 중 최댓값의 위치 : 15\n"
     ]
    }
   ],
   "source": [
    "#실습 문제 3-3\n",
    "print(\"a의 원소들 중 최댓값의 위치 :\", a.argmax())"
   ]
  },
  {
   "cell_type": "code",
   "execution_count": 179,
   "id": "d406d9cb",
   "metadata": {},
   "outputs": [
    {
     "name": "stdout",
     "output_type": "stream",
     "text": [
      "[[0. 0. 0. 0. 0.]\n",
      " [0. 0. 0. 0. 0.]\n",
      " [0. 0. 0. 0. 0.]\n",
      " [0. 0. 0. 0. 0.]\n",
      " [0. 0. 0. 0. 0.]]\n",
      "\n",
      "[[1 0 1 0 1]\n",
      " [0 1 0 1 0]\n",
      " [1 0 1 0 1]\n",
      " [0 1 0 1 0]\n",
      " [1 0 1 0 1]]\n"
     ]
    }
   ],
   "source": [
    "#실습 문제 4-1\n",
    "x = np.zeros((5,5))\n",
    "print(x)\n",
    "print()\n",
    "\n",
    "list =[1, 0, 1, 0, 1, 0, 1, 0, 1, 0, 1, 0, 1, 0, 1, 0, 1, 0, 1, 0, 1, 0, 1, 0, 1]\n",
    "a = np.array(list).reshape(5,5)\n",
    "print(a)\n",
    "\n"
   ]
  },
  {
   "cell_type": "code",
   "execution_count": 186,
   "id": "41ef376b",
   "metadata": {},
   "outputs": [
    {
     "name": "stdout",
     "output_type": "stream",
     "text": [
      "행렬의 행 방향 성분의 합 :\n",
      "[3 2 3 2 3]\n"
     ]
    }
   ],
   "source": [
    "#실습 문제 4-2\n",
    "print(\"행렬의 행 방향 성분의 합 :\")\n",
    "print(a.sum(axis=1))"
   ]
  },
  {
   "cell_type": "code",
   "execution_count": 78,
   "id": "47b64bc6",
   "metadata": {},
   "outputs": [
    {
     "name": "stdout",
     "output_type": "stream",
     "text": [
      "10번째 원소 : 9\n",
      "20번째 원소 : 19\n"
     ]
    }
   ],
   "source": [
    "#실습 문제 5\n",
    "a = np.arange(32).reshape(4,4,2)\n",
    "a = a.flatten()\n",
    "print(\"10번째 원소 :\", a[9])\n",
    "print(\"20번째 원소 :\", a[19])"
   ]
  },
  {
   "cell_type": "code",
   "execution_count": 83,
   "id": "8719b617",
   "metadata": {},
   "outputs": [
    {
     "name": "stdout",
     "output_type": "stream",
     "text": [
      "x2와의 상관관계 :  [[1.         0.99617509]\n",
      " [0.99617509 1.        ]]\n",
      "x3와의 상관관계 :  [[1.         0.90523548]\n",
      " [0.90523548 1.        ]]\n",
      "x4와의 상관관계 :  [[1.         0.72034595]\n",
      " [0.72034595 1.        ]]\n"
     ]
    }
   ],
   "source": [
    "#실습 문제 6\n",
    "x1 = [i for i in range(100)]\n",
    "x2 = [i + np.random.randint(1,10) for i in range(100)]\n",
    "x3 = [i + np.random.randint(1,50) for i in range(100)]\n",
    "x4 = [i + np.random.randint(1,100) for i in range(100)]\n",
    "\n",
    "print(\"x2와의 상관관계 : \",np.corrcoef(x1, x2))\n",
    "print(\"x3와의 상관관계 : \",np.corrcoef(x1, x3))\n",
    "print(\"x4와의 상관관계 : \",np.corrcoef(x1, x4))\n",
    "\n",
    "#1) x1과 가장 상관관계가 높은 리스트는?\n",
    "# x2 리스트\n",
    "\n",
    "#2) x1과 가장 상관관계가 낮은 리스트는?\n",
    "# x3 리스트"
   ]
  },
  {
   "cell_type": "code",
   "execution_count": null,
   "id": "3f04f14b",
   "metadata": {},
   "outputs": [],
   "source": []
  }
 ],
 "metadata": {
  "kernelspec": {
   "display_name": "Python 3 (ipykernel)",
   "language": "python",
   "name": "python3"
  },
  "language_info": {
   "codemirror_mode": {
    "name": "ipython",
    "version": 3
   },
   "file_extension": ".py",
   "mimetype": "text/x-python",
   "name": "python",
   "nbconvert_exporter": "python",
   "pygments_lexer": "ipython3",
   "version": "3.9.12"
  }
 },
 "nbformat": 4,
 "nbformat_minor": 5
}
