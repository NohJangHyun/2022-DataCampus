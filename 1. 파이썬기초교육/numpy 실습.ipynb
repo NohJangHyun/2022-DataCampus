{
 "cells": [
  {
   "cell_type": "markdown",
   "id": "f9d31c3b",
   "metadata": {},
   "source": [
    "Python - numpy 실습"
   ]
  },
  {
   "cell_type": "code",
   "execution_count": 4,
   "id": "adf18aa6",
   "metadata": {},
   "outputs": [
    {
     "data": {
      "text/plain": [
       "array([0, 1, 2, 3, 4, 5, 6, 7, 8, 9])"
      ]
     },
     "execution_count": 4,
     "metadata": {},
     "output_type": "execute_result"
    }
   ],
   "source": [
    "# 1차원 배열 생성\n",
    "import numpy as np\n",
    "arr = np.array([0, 1, 2, 3, 4, 5, 6, 7, 8, 9])\n",
    "arr"
   ]
  },
  {
   "cell_type": "code",
   "execution_count": 5,
   "id": "659e3d0a",
   "metadata": {},
   "outputs": [
    {
     "data": {
      "text/plain": [
       "numpy.ndarray"
      ]
     },
     "execution_count": 5,
     "metadata": {},
     "output_type": "execute_result"
    }
   ],
   "source": [
    "# 타입 확인\n",
    "type(arr)"
   ]
  },
  {
   "cell_type": "code",
   "execution_count": 6,
   "id": "7bbaa554",
   "metadata": {},
   "outputs": [
    {
     "data": {
      "text/plain": [
       "(10,)"
      ]
     },
     "execution_count": 6,
     "metadata": {},
     "output_type": "execute_result"
    }
   ],
   "source": [
    "# array의 형태(크기)를 확인 \n",
    "arr.shape"
   ]
  },
  {
   "cell_type": "code",
   "execution_count": 7,
   "id": "1ff9057e",
   "metadata": {},
   "outputs": [
    {
     "data": {
      "text/plain": [
       "dtype('int32')"
      ]
     },
     "execution_count": 7,
     "metadata": {},
     "output_type": "execute_result"
    }
   ],
   "source": [
    "# array의 자료형을 확인 \n",
    "arr.dtype"
   ]
  },
  {
   "cell_type": "code",
   "execution_count": 31,
   "id": "3d525dd4",
   "metadata": {},
   "outputs": [
    {
     "data": {
      "text/plain": [
       "array([ 2,  3,  4,  5,  6,  7,  8,  9, 10, 11])"
      ]
     },
     "execution_count": 31,
     "metadata": {},
     "output_type": "execute_result"
    }
   ],
   "source": [
    "# data 리스트 데이터 생성 후 벡터화 연산\n",
    "data = [0, 1, 2, 3, 4, 5, 6, 7, 8, 9]\n",
    "x = np.array(data)\n",
    "x + 2"
   ]
  },
  {
   "cell_type": "code",
   "execution_count": 25,
   "id": "eeeb5324",
   "metadata": {},
   "outputs": [
    {
     "data": {
      "text/plain": [
       "array([11, 22, 33])"
      ]
     },
     "execution_count": 25,
     "metadata": {},
     "output_type": "execute_result"
    }
   ],
   "source": [
    "# array 배열 끼리 연산\n",
    "a = np.array([1, 2, 3])\n",
    "b = np.array([10, 20, 30])\n",
    "a + b"
   ]
  },
  {
   "cell_type": "code",
   "execution_count": 14,
   "id": "d2812b2a",
   "metadata": {},
   "outputs": [
    {
     "data": {
      "text/plain": [
       "array([False,  True, False])"
      ]
     },
     "execution_count": 14,
     "metadata": {},
     "output_type": "execute_result"
    }
   ],
   "source": [
    "#조건연산(True, False)\n",
    "a == 2"
   ]
  },
  {
   "cell_type": "code",
   "execution_count": 28,
   "id": "ce522b88",
   "metadata": {},
   "outputs": [
    {
     "name": "stdout",
     "output_type": "stream",
     "text": [
      "행의 갯수 :  2\n",
      "열의 갯수 :  3\n"
     ]
    }
   ],
   "source": [
    "# 2 x 3 배열 생성\n",
    "c = np.array([[0, 1, 2], [3, 4, 5]])\n",
    "print(\"행의 갯수 : \", len(c))\n",
    "print(\"열의 갯수 : \", len(c[0]))"
   ]
  },
  {
   "cell_type": "code",
   "execution_count": 27,
   "id": "89182893",
   "metadata": {},
   "outputs": [
    {
     "data": {
      "text/plain": [
       "(2, 3, 4)"
      ]
     },
     "execution_count": 27,
     "metadata": {},
     "output_type": "execute_result"
    }
   ],
   "source": [
    "# 2 x 3 x 4 배열 생성\n",
    "d = np.array([[[1, 2, 3, 4],\n",
    "               [5, 6, 7, 8],\n",
    "               [9, 10, 11, 12]],\n",
    "              [[11, 12, 13, 14],\n",
    "               [15, 16, 17, 18],\n",
    "               [19, 20, 21, 22]]])\n",
    "# 인덱싱으로 배열크기 확인\n",
    "len(d), len(d[0]), len(d[0][0])"
   ]
  },
  {
   "cell_type": "code",
   "execution_count": 26,
   "id": "2deee396",
   "metadata": {},
   "outputs": [
    {
     "name": "stdout",
     "output_type": "stream",
     "text": [
      "차원 확인 :  1\n",
      "크기 확인 :  (3,)\n"
     ]
    }
   ],
   "source": [
    "# 배열 생성\n",
    "ab = np.array([1, 2, 3])\n",
    "print(\"차원 확인 : \", ab.ndim)\n",
    "print(\"크기 확인 : \", ab.shape)"
   ]
  },
  {
   "cell_type": "code",
   "execution_count": 37,
   "id": "5a270e75",
   "metadata": {},
   "outputs": [
    {
     "data": {
      "text/plain": [
       "array([0, 1, 2, 3, 4])"
      ]
     },
     "execution_count": 37,
     "metadata": {},
     "output_type": "execute_result"
    }
   ],
   "source": [
    "# 1차원 배열 인덱싱\n",
    "a = np.array([0, 1, 2, 3, 4])\n",
    "a"
   ]
  },
  {
   "cell_type": "code",
   "execution_count": 38,
   "id": "cba87efd",
   "metadata": {},
   "outputs": [
    {
     "name": "stdout",
     "output_type": "stream",
     "text": [
      "0\n",
      "4\n"
     ]
    }
   ],
   "source": [
    "print(a[0])\n",
    "print(a[-1])"
   ]
  },
  {
   "cell_type": "code",
   "execution_count": 39,
   "id": "b664b30d",
   "metadata": {},
   "outputs": [
    {
     "data": {
      "text/plain": [
       "array([[0, 1, 2],\n",
       "       [3, 4, 5]])"
      ]
     },
     "execution_count": 39,
     "metadata": {},
     "output_type": "execute_result"
    }
   ],
   "source": [
    "# 2차원 배열 인덱싱\n",
    "b = np.array([[0, 1, 2], [3, 4, 5]])\n",
    "b"
   ]
  },
  {
   "cell_type": "code",
   "execution_count": 41,
   "id": "1f72204f",
   "metadata": {},
   "outputs": [
    {
     "name": "stdout",
     "output_type": "stream",
     "text": [
      "0\n",
      "1\n",
      "5\n"
     ]
    }
   ],
   "source": [
    "print(b[0, 0])\n",
    "print(b[0, 1])\n",
    "print(b[-1, -1])"
   ]
  },
  {
   "cell_type": "code",
   "execution_count": 47,
   "id": "7f4f55e8",
   "metadata": {},
   "outputs": [
    {
     "name": "stdout",
     "output_type": "stream",
     "text": [
      "[0 2 4 6 8]\n",
      "[0 1 0 1 0 1 0 1 0 1]\n",
      "[ True False  True False  True False  True False  True False]\n",
      "[0 2 4 6 8]\n"
     ]
    }
   ],
   "source": [
    "#불리언 인덱싱\n",
    "a = np.array([0, 1, 2, 3, 4, 5, 6, 7, 8, 9])\n",
    "idx = np.array([True, False, True, False, True, False, True, False, True, False])\n",
    "print(a[idx]) #idx가 True인 값 출력\n",
    "print(a%2) #2로 나눈 나머지 값 출력\n",
    "print(a % 2 == 0) #2로 나눈 나머지 값이 0인면 True 아니면 False 출력\n",
    "print(a[a % 2 == 0]) #2로 나눈 나머지 값이 0인 값 출력"
   ]
  },
  {
   "cell_type": "code",
   "execution_count": 49,
   "id": "d6ccd1e0",
   "metadata": {},
   "outputs": [
    {
     "name": "stdout",
     "output_type": "stream",
     "text": [
      "[0 1 2 3]\n",
      "[5 6 7]\n",
      "[[0 1]\n",
      " [4 5]]\n"
     ]
    }
   ],
   "source": [
    "#2차원 배열 슬라이싱\n",
    "a = np.array([[0, 1, 2, 3],[4, 5, 6, 7]])\n",
    "print(a[0, :]) #첫번째 행 전체 출력\n",
    "print(a[1, 1:]) #두번째 행의 두번째 열부터 끝까지 출력\n",
    "print(a[:2, :2]) #첫번째 행의 두번째 열, 두번째 행의 두번째 열까지 출력"
   ]
  },
  {
   "cell_type": "code",
   "execution_count": 50,
   "id": "d2280e96",
   "metadata": {},
   "outputs": [
    {
     "data": {
      "text/plain": [
       "dtype('int32')"
      ]
     },
     "execution_count": 50,
     "metadata": {},
     "output_type": "execute_result"
    }
   ],
   "source": [
    "#정수 배열 확인\n",
    "a = np.array([1, 2, 3])\n",
    "a.dtype"
   ]
  },
  {
   "cell_type": "code",
   "execution_count": 51,
   "id": "a4fad438",
   "metadata": {},
   "outputs": [
    {
     "data": {
      "text/plain": [
       "dtype('float64')"
      ]
     },
     "execution_count": 51,
     "metadata": {},
     "output_type": "execute_result"
    }
   ],
   "source": [
    "# 실수 배열 확인\n",
    "b = np.array([1.0, 2.0, 3.0])\n",
    "b.dtype"
   ]
  },
  {
   "cell_type": "code",
   "execution_count": 52,
   "id": "e82d281f",
   "metadata": {},
   "outputs": [
    {
     "data": {
      "text/plain": [
       "dtype('float64')"
      ]
     },
     "execution_count": 52,
     "metadata": {},
     "output_type": "execute_result"
    }
   ],
   "source": [
    "# 배열에 하나라도 실수인자가 있으면 실수형\n",
    "c = np.array([1, 2, 3.0])\n",
    "c.dtype"
   ]
  },
  {
   "cell_type": "code",
   "execution_count": 53,
   "id": "a74ed5c9",
   "metadata": {},
   "outputs": [
    {
     "data": {
      "text/plain": [
       "dtype('float32')"
      ]
     },
     "execution_count": 53,
     "metadata": {},
     "output_type": "execute_result"
    }
   ],
   "source": [
    "# 정수형을 실수형으로 바꾸기\n",
    "d = np.array([1, 2, 3], dtype=\"f\")\n",
    "d.dtype"
   ]
  },
  {
   "cell_type": "code",
   "execution_count": 55,
   "id": "6cd9f4ce",
   "metadata": {},
   "outputs": [
    {
     "data": {
      "text/plain": [
       "array([0., 0., 0., 0., 0.])"
      ]
     },
     "execution_count": 55,
     "metadata": {},
     "output_type": "execute_result"
    }
   ],
   "source": [
    "#배열 생성 - np.zeros()\n",
    "a = np.zeros(5)\n",
    "a #실수형으로 생성됨"
   ]
  },
  {
   "cell_type": "code",
   "execution_count": 56,
   "id": "483e34fb",
   "metadata": {},
   "outputs": [
    {
     "data": {
      "text/plain": [
       "array([[0., 0., 0.],\n",
       "       [0., 0., 0.]])"
      ]
     },
     "execution_count": 56,
     "metadata": {},
     "output_type": "execute_result"
    }
   ],
   "source": [
    "# 0으로 된 2x3 2차원 배열 생성\n",
    "b = np.zeros((2, 3))\n",
    "b"
   ]
  },
  {
   "cell_type": "code",
   "execution_count": 59,
   "id": "3264aa85",
   "metadata": {},
   "outputs": [
    {
     "data": {
      "text/plain": [
       "array([[0, 0],\n",
       "       [0, 0],\n",
       "       [0, 0],\n",
       "       [0, 0],\n",
       "       [0, 0]], dtype=int32)"
      ]
     },
     "execution_count": 59,
     "metadata": {},
     "output_type": "execute_result"
    }
   ],
   "source": [
    "# 0으로 된 5x2 정수형 배열 생성 방법, default는 float\n",
    "c = np.zeros((5, 2), dtype=\"i\")\n",
    "c"
   ]
  },
  {
   "cell_type": "code",
   "execution_count": 60,
   "id": "090b91ca",
   "metadata": {},
   "outputs": [
    {
     "data": {
      "text/plain": [
       "array([[[1, 1, 1, 1],\n",
       "        [1, 1, 1, 1],\n",
       "        [1, 1, 1, 1]],\n",
       "\n",
       "       [[1, 1, 1, 1],\n",
       "        [1, 1, 1, 1],\n",
       "        [1, 1, 1, 1]]], dtype=int64)"
      ]
     },
     "execution_count": 60,
     "metadata": {},
     "output_type": "execute_result"
    }
   ],
   "source": [
    "#배열 생성 - np.ones()\n",
    "d = np.ones((2, 3, 4), dtype=\"i8\")\n",
    "d #정수형으로 생성됨"
   ]
  },
  {
   "cell_type": "code",
   "execution_count": 63,
   "id": "45ca255a",
   "metadata": {},
   "outputs": [
    {
     "data": {
      "text/plain": [
       "array([0, 1, 2, 3, 4, 5, 6, 7, 8, 9])"
      ]
     },
     "execution_count": 63,
     "metadata": {},
     "output_type": "execute_result"
    }
   ],
   "source": [
    "#배열 생성 - np.arange()\n",
    "e = np.arange(10)\n",
    "e"
   ]
  },
  {
   "cell_type": "code",
   "execution_count": 64,
   "id": "8209ebc9",
   "metadata": {},
   "outputs": [
    {
     "data": {
      "text/plain": [
       "array([ 1,  3,  5,  7,  9, 11, 13, 15, 17, 19])"
      ]
     },
     "execution_count": 64,
     "metadata": {},
     "output_type": "execute_result"
    }
   ],
   "source": [
    "# np.arange(시작, 끝(포함하지 않음), 단계간격)\n",
    "f = np.arange(1, 21, 2) \n",
    "f"
   ]
  },
  {
   "cell_type": "code",
   "execution_count": 68,
   "id": "5ec7376d",
   "metadata": {},
   "outputs": [
    {
     "name": "stdout",
     "output_type": "stream",
     "text": [
      "[[1 2 3]\n",
      " [4 5 6]] \n",
      "\n",
      "[[1 4]\n",
      " [2 5]\n",
      " [3 6]]\n"
     ]
    }
   ],
   "source": [
    "#전치연산\n",
    "a = np.array([[1, 2, 3], [4, 5, 6]]) # 3x2 배열 생성\n",
    "print(a, \"\\n\")\n",
    "print(a.T) # 3x2 배열을 2x3 배열로 전치\n"
   ]
  },
  {
   "cell_type": "code",
   "execution_count": 70,
   "id": "f5bfc78c",
   "metadata": {},
   "outputs": [
    {
     "name": "stdout",
     "output_type": "stream",
     "text": [
      "[0 1 2 3 4 5 6 7 8 9] \n",
      "\n",
      "[[0 1 2 3 4]\n",
      " [5 6 7 8 9]]\n"
     ]
    }
   ],
   "source": [
    "#배열의 크기 변환\n",
    "a = np.arange(10) #10개의 원소를 가진 1차원 배열 생성\n",
    "print(a, \"\\n\")\n",
    "b = a.reshape(2,5) #reshape 매서드로 2X5 행렬로 변형\n",
    "print(b)"
   ]
  },
  {
   "cell_type": "code",
   "execution_count": 80,
   "id": "fb491334",
   "metadata": {},
   "outputs": [
    {
     "name": "stdout",
     "output_type": "stream",
     "text": [
      "[1 2 3 4 5 6 7 8 9] \n",
      "\n",
      "[11 12 13 14 15 16 17 18 19] \n",
      "\n",
      "[12 14 16 18 20 22 24 26 28]\n"
     ]
    }
   ],
   "source": [
    "#배열의 연산\n",
    "x = np.arange(1, 10)\n",
    "y = np.arange(11, 20)\n",
    "print(x, \"\\n\")\n",
    "print(y, \"\\n\")\n",
    "z = x+y\n",
    "print(z)"
   ]
  },
  {
   "cell_type": "code",
   "execution_count": 82,
   "id": "87380176",
   "metadata": {},
   "outputs": [
    {
     "name": "stdout",
     "output_type": "stream",
     "text": [
      "[0 1 2 3 4 5 6 7 8 9]\n",
      "[  0 100 200 300 400 500 600 700 800 900]\n"
     ]
    }
   ],
   "source": [
    "#스칼라 100과 x 벡터 연산\n",
    "x = np.arange(10)\n",
    "print(x)\n",
    "print(100 * x)"
   ]
  },
  {
   "cell_type": "code",
   "execution_count": 84,
   "id": "5249f097",
   "metadata": {},
   "outputs": [
    {
     "data": {
      "text/plain": [
       "array([[   0,  100,  200,  300],\n",
       "       [ 400,  500,  600,  700],\n",
       "       [ 800,  900, 1000, 1100]])"
      ]
     },
     "execution_count": 84,
     "metadata": {},
     "output_type": "execute_result"
    }
   ],
   "source": [
    "# 0~12까지 수열 생성 후 3x4 벡터 생성 후 스칼라 100과 x 벡터 곱하기\n",
    "x = np.arange(12).reshape(3, 4)\n",
    "100 * x"
   ]
  },
  {
   "cell_type": "code",
   "execution_count": 90,
   "id": "1e2cd5ec",
   "metadata": {},
   "outputs": [
    {
     "name": "stdout",
     "output_type": "stream",
     "text": [
      "[[0 1 2]\n",
      " [1 2 3]\n",
      " [2 3 4]\n",
      " [4 5 6]] \n",
      "\n",
      "[0 1 2] \n",
      "\n",
      "[[0 2 4]\n",
      " [1 3 5]\n",
      " [2 4 6]\n",
      " [4 6 8]] \n",
      "\n",
      "[[1 2 3]\n",
      " [2 3 4]\n",
      " [3 4 5]\n",
      " [5 6 7]] \n",
      "\n"
     ]
    }
   ],
   "source": [
    "#Broadcasting\n",
    "x = np.array([[0, 1, 2], [1, 2, 3], [2, 3, 4], [4, 5, 6]]) # 1차원 배열 생성\n",
    "y = np.arange(3) #1로 된 배열 생성\n",
    "print(x, \"\\n\")\n",
    "print(y, \"\\n\")\n",
    "print(x + y, \"\\n\") #연산하기\n",
    "print(x + 1, \"\\n\") #벡터와 스칼라 연산 "
   ]
  },
  {
   "cell_type": "code",
   "execution_count": 97,
   "id": "5bca8f3f",
   "metadata": {},
   "outputs": [
    {
     "name": "stdout",
     "output_type": "stream",
     "text": [
      "10\n",
      "1\n",
      "4\n",
      "0\n",
      "3\n",
      "2.5\n",
      "2.5\n"
     ]
    }
   ],
   "source": [
    "#1차원 배열의 차원축소 연산\n",
    "x = np.array([1, 2, 3, 4])\n",
    "print(x.sum()) #전체합, ==np.sum(x)\n",
    "print(x.min()) #최소값\n",
    "print(x.max()) #최대값\n",
    "print(x.argmin()) #최소값 위치\n",
    "print(x.argmax()) #최대값 위치\n",
    "print(x.mean()) #평균값\n",
    "print(np.median(x)) #중앙값"
   ]
  },
  {
   "cell_type": "code",
   "execution_count": 99,
   "id": "6b28106d",
   "metadata": {},
   "outputs": [
    {
     "name": "stdout",
     "output_type": "stream",
     "text": [
      "10\n",
      "[3 7]\n",
      "[4 6]\n"
     ]
    }
   ],
   "source": [
    "#2차원 배열의 차원축소 연산\n",
    "x = np.array([[1, 3], [2, 4]])\n",
    "print(x.sum())\n",
    "print(x.sum(axis=0)) #열 합계 구하기\n",
    "print(x.sum(axis=1)) #행 합계 구하기"
   ]
  },
  {
   "cell_type": "code",
   "execution_count": 100,
   "id": "72df88fe",
   "metadata": {},
   "outputs": [
    {
     "name": "stdout",
     "output_type": "stream",
     "text": [
      "26\n",
      "9.76923076923077\n",
      "637.9467455621302\n",
      "25.257607676938253\n"
     ]
    }
   ],
   "source": [
    "#numpy를 이용한 기술통계\n",
    "x = np.array([18, 5, 10, 23, 19, -5, 10, 0, 0, 5, 2, 126, 8, 2, 5, 5, 15, -3, 4, -1, -20 ,8, 9, -4, 25, -12])\n",
    "print(len(x)) #데이터의 개수\n",
    "print(np.mean(x)) #데이터의 평균\n",
    "print(np.var(x)) #데이터의 분산\n",
    "print(np.std(x)) #데이터의 표준편차"
   ]
  },
  {
   "cell_type": "code",
   "execution_count": 101,
   "id": "3a8e7f1c",
   "metadata": {},
   "outputs": [
    {
     "data": {
      "text/plain": [
       "array([0.81225535, 0.76547817, 0.51995698, 0.66462104, 0.6936077 ,\n",
       "       0.18520323, 0.820876  , 0.4227769 , 0.01658917, 0.73230123])"
      ]
     },
     "execution_count": 101,
     "metadata": {},
     "output_type": "execute_result"
    }
   ],
   "source": [
    "# rand로 1차원 벡터 난수 발생\n",
    "np.random.rand(10)"
   ]
  },
  {
   "cell_type": "code",
   "execution_count": 102,
   "id": "d0d6ae7c",
   "metadata": {},
   "outputs": [
    {
     "data": {
      "text/plain": [
       "array([[0.5432806 , 0.70153102],\n",
       "       [0.34030913, 0.32344484]])"
      ]
     },
     "execution_count": 102,
     "metadata": {},
     "output_type": "execute_result"
    }
   ],
   "source": [
    "# rand로 2x2 벡터 난수 발생\n",
    "np.random.rand(2, 2)"
   ]
  },
  {
   "cell_type": "code",
   "execution_count": 103,
   "id": "2f9a1830",
   "metadata": {},
   "outputs": [
    {
     "data": {
      "text/plain": [
       "array([11, 19, 15, 16, 15, 19, 19, 10, 17, 10])"
      ]
     },
     "execution_count": 103,
     "metadata": {},
     "output_type": "execute_result"
    }
   ],
   "source": [
    "# 10부터 20까지 10개 인자의 배열 생성\n",
    "np.random.randint(10, 20, size=10)"
   ]
  },
  {
   "cell_type": "code",
   "execution_count": 104,
   "id": "2b53bd3b",
   "metadata": {},
   "outputs": [
    {
     "data": {
      "text/plain": [
       "array([[11, 16, 16],\n",
       "       [16, 17, 11],\n",
       "       [16, 17, 17]])"
      ]
     },
     "execution_count": 104,
     "metadata": {},
     "output_type": "execute_result"
    }
   ],
   "source": [
    "# 10부터 20까지 3x3 벡터 생성\n",
    "np.random.randint(10, 20, size=(3, 3))"
   ]
  }
 ],
 "metadata": {
  "kernelspec": {
   "display_name": "Python 3 (ipykernel)",
   "language": "python",
   "name": "python3"
  },
  "language_info": {
   "codemirror_mode": {
    "name": "ipython",
    "version": 3
   },
   "file_extension": ".py",
   "mimetype": "text/x-python",
   "name": "python",
   "nbconvert_exporter": "python",
   "pygments_lexer": "ipython3",
   "version": "3.9.12"
  }
 },
 "nbformat": 4,
 "nbformat_minor": 5
}
