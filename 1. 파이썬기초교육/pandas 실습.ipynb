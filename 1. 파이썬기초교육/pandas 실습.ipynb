{
 "cells": [
  {
   "cell_type": "markdown",
   "id": "5b883847",
   "metadata": {},
   "source": [
    "Python - pandas 실습"
   ]
  },
  {
   "cell_type": "code",
   "execution_count": 1,
   "id": "d85e9731",
   "metadata": {},
   "outputs": [],
   "source": [
    "#pandas 패키지와 실습을 위한 numpy 패키지 import\n",
    "import pandas as pd\n",
    "import numpy as np"
   ]
  },
  {
   "cell_type": "code",
   "execution_count": 3,
   "id": "6d5b3cbb",
   "metadata": {},
   "outputs": [
    {
     "data": {
      "text/plain": [
       "0    4\n",
       "1    5\n",
       "2   -2\n",
       "3    8\n",
       "dtype: int64"
      ]
     },
     "execution_count": 3,
     "metadata": {},
     "output_type": "execute_result"
    }
   ],
   "source": [
    "#Series class 생성하기\n",
    "obj = pd.Series([4, 5, -2, 8]) \n",
    "obj "
   ]
  },
  {
   "cell_type": "code",
   "execution_count": 4,
   "id": "70599256",
   "metadata": {},
   "outputs": [
    {
     "data": {
      "text/plain": [
       "array([ 4,  5, -2,  8], dtype=int64)"
      ]
     },
     "execution_count": 4,
     "metadata": {},
     "output_type": "execute_result"
    }
   ],
   "source": [
    "#Series의 값만 확인하기 \n",
    "obj.values"
   ]
  },
  {
   "cell_type": "code",
   "execution_count": 5,
   "id": "75ef8a92",
   "metadata": {},
   "outputs": [
    {
     "data": {
      "text/plain": [
       "dtype('int64')"
      ]
     },
     "execution_count": 5,
     "metadata": {},
     "output_type": "execute_result"
    }
   ],
   "source": [
    "#Series의 데이터타입 확인하기\n",
    "obj.dtypes"
   ]
  },
  {
   "cell_type": "code",
   "execution_count": 7,
   "id": "ab5194a8",
   "metadata": {},
   "outputs": [
    {
     "data": {
      "text/plain": [
       "a    4\n",
       "b    5\n",
       "c   -2\n",
       "d    8\n",
       "dtype: int64"
      ]
     },
     "execution_count": 7,
     "metadata": {},
     "output_type": "execute_result"
    }
   ],
   "source": [
    "#리스트로 인덱스 별도 지정, 반드시 \" \" 쌍따옴표 사용해야함\n",
    "obj1 = pd.Series([4, 5, -2, 8], index=[\"a\", \"b\", \"c\", \"d\"]) \n",
    "obj1"
   ]
  },
  {
   "cell_type": "code",
   "execution_count": 9,
   "id": "092fef35",
   "metadata": {},
   "outputs": [
    {
     "data": {
      "text/plain": [
       "Kim     35000\n",
       "Park    67000\n",
       "Joon    12000\n",
       "Choi     4000\n",
       "dtype: int64"
      ]
     },
     "execution_count": 9,
     "metadata": {},
     "output_type": "execute_result"
    }
   ],
   "source": [
    "#딕셔너리 자료형을 Series data 생성\n",
    "data = {\"Kim\": 35000, \"Park\": 67000, \"Joon\": 12000, \"Choi\": 4000}\n",
    "obj2 = pd.Series(data) \n",
    "obj2"
   ]
  },
  {
   "cell_type": "code",
   "execution_count": 10,
   "id": "413e0f97",
   "metadata": {},
   "outputs": [
    {
     "data": {
      "text/plain": [
       "Names\n",
       "Kim     35000\n",
       "Park    67000\n",
       "Joon    12000\n",
       "Choi     4000\n",
       "Name: Salary, dtype: int64"
      ]
     },
     "execution_count": 10,
     "metadata": {},
     "output_type": "execute_result"
    }
   ],
   "source": [
    "#Series 이름과 index name 지정  \n",
    "obj2.name = \"Salary\" \n",
    "obj2.index.name = \"Names\" \n",
    "\n",
    "obj2"
   ]
  },
  {
   "cell_type": "code",
   "execution_count": 11,
   "id": "323fd272",
   "metadata": {},
   "outputs": [
    {
     "data": {
      "text/plain": [
       "A    35000\n",
       "B    67000\n",
       "C    12000\n",
       "D     4000\n",
       "Name: Salary, dtype: int64"
      ]
     },
     "execution_count": 11,
     "metadata": {},
     "output_type": "execute_result"
    }
   ],
   "source": [
    "#index 이름 변경 \n",
    "obj2.index = [\"A\", \"B\", \"C\", \"D\"] \n",
    "obj2 "
   ]
  },
  {
   "cell_type": "code",
   "execution_count": 12,
   "id": "1f1c761b",
   "metadata": {},
   "outputs": [
    {
     "data": {
      "text/plain": [
       "0    40\n",
       "1    50\n",
       "2   -20\n",
       "3    80\n",
       "dtype: int64"
      ]
     },
     "execution_count": 12,
     "metadata": {},
     "output_type": "execute_result"
    }
   ],
   "source": [
    "#Series 연산\n",
    "obj * 10"
   ]
  },
  {
   "cell_type": "code",
   "execution_count": 13,
   "id": "5e91f41e",
   "metadata": {},
   "outputs": [
    {
     "data": {
      "text/plain": [
       "a    16\n",
       "b    25\n",
       "c     4\n",
       "d    64\n",
       "dtype: int64"
      ]
     },
     "execution_count": 13,
     "metadata": {},
     "output_type": "execute_result"
    }
   ],
   "source": [
    "#인덱싱 끼리 연산\n",
    "obj1 * obj1"
   ]
  },
  {
   "cell_type": "code",
   "execution_count": 14,
   "id": "75a029c2",
   "metadata": {},
   "outputs": [
    {
     "data": {
      "text/plain": [
       "array([ 8, 10, -4, 16], dtype=int64)"
      ]
     },
     "execution_count": 14,
     "metadata": {},
     "output_type": "execute_result"
    }
   ],
   "source": [
    "#values 값끼리 연산\n",
    "obj1.values + obj.values"
   ]
  },
  {
   "cell_type": "code",
   "execution_count": 28,
   "id": "3eb495ba",
   "metadata": {},
   "outputs": [
    {
     "name": "stdout",
     "output_type": "stream",
     "text": [
      "서울    1024\n",
      "부산    2048\n",
      "인천    3096\n",
      "대구    6192\n",
      "dtype: int64 \n",
      "\n",
      "2048 2048 \n",
      "\n",
      "서울    1024\n",
      "대구    6192\n",
      "부산    2048\n",
      "dtype: int64\n"
     ]
    },
    {
     "data": {
      "text/plain": [
       "서울    1024\n",
       "대구    6192\n",
       "부산    2048\n",
       "dtype: int64"
      ]
     },
     "execution_count": 28,
     "metadata": {},
     "output_type": "execute_result"
    }
   ],
   "source": [
    "#Sereis 인덱싱\n",
    "a = pd.Series([1024, 2048, 3096, 6192],\n",
    "              index=[\"서울\", \"부산\", \"인천\", \"대구\"])\n",
    "print(a, \"\\n\") #Sereis 출력\n",
    "print(a[1], a[\"부산\"], \"\\n\") #인덱스 값이 1인 값과 label 값이 부산인 값 비교\n",
    "print(a[[0, 3, 1]]) #인덱스 값 0, 3, 1순으로 출력\n",
    "a[[\"서울\", \"대구\", \"부산\"]] #label 값 서울, 대구, 부산순으로 출력"
   ]
  },
  {
   "cell_type": "code",
   "execution_count": 22,
   "id": "129ac795",
   "metadata": {},
   "outputs": [
    {
     "data": {
      "text/plain": [
       "35000"
      ]
     },
     "execution_count": 22,
     "metadata": {},
     "output_type": "execute_result"
    }
   ],
   "source": [
    "#라벨 값이 영문 문자열인 경우에는 마치 속성인것처럼 점(.)을 이용하여 접근\n",
    "obj2.A"
   ]
  },
  {
   "cell_type": "code",
   "execution_count": 25,
   "id": "bc7d1c60",
   "metadata": {},
   "outputs": [
    {
     "name": "stdout",
     "output_type": "stream",
     "text": [
      "부산    2048\n",
      "인천    3096\n",
      "dtype: int64 \n",
      "\n",
      "부산    2048\n",
      "인천    3096\n",
      "대구    6192\n",
      "dtype: int64\n"
     ]
    }
   ],
   "source": [
    "#Series 슬라이싱\n",
    "print(a[1:3], \"\\n\") #배열 인덱싱\n",
    "print(a[\"부산\":\"대구\"]) #라벨 인덱싱"
   ]
  },
  {
   "cell_type": "code",
   "execution_count": 37,
   "id": "36f5916c",
   "metadata": {},
   "outputs": [
    {
     "name": "stdout",
     "output_type": "stream",
     "text": [
      "서울    1024\n",
      "부산    2048\n",
      "인천    3096\n",
      "대구    6192\n",
      "dtype: int64 \n",
      "\n",
      "서울    1024\n",
      "부산    1234\n",
      "인천    3096\n",
      "대구    6192\n",
      "dtype: int64\n"
     ]
    }
   ],
   "source": [
    "#데이터 갱신\n",
    "a = pd.Series([1024, 2048, 3096, 6192],\n",
    "              index=[\"서울\", \"부산\", \"인천\", \"대구\"])\n",
    "print(a, \"\\n\") #기존 데이터\n",
    "a[\"부산\"] = 1234\n",
    "print(a) #갱신 후 데이터"
   ]
  },
  {
   "cell_type": "code",
   "execution_count": 38,
   "id": "7c8a2816",
   "metadata": {},
   "outputs": [
    {
     "name": "stdout",
     "output_type": "stream",
     "text": [
      "서울    1024\n",
      "부산    2048\n",
      "인천    3096\n",
      "대구    6192\n",
      "dtype: int64 \n",
      "\n",
      "부산    2048\n",
      "인천    3096\n",
      "대구    6192\n",
      "dtype: int64\n"
     ]
    }
   ],
   "source": [
    "#데이터 삭제\n",
    "a = pd.Series([1024, 2048, 3096, 6192],\n",
    "              index=[\"서울\", \"부산\", \"인천\", \"대구\"])\n",
    "print(a, \"\\n\") #기존 데이터\n",
    "del a[\"서울\"]\n",
    "print(a) #삭제 후 데이터"
   ]
  },
  {
   "cell_type": "code",
   "execution_count": 39,
   "id": "21394f83",
   "metadata": {},
   "outputs": [
    {
     "data": {
      "text/html": [
       "<div>\n",
       "<style scoped>\n",
       "    .dataframe tbody tr th:only-of-type {\n",
       "        vertical-align: middle;\n",
       "    }\n",
       "\n",
       "    .dataframe tbody tr th {\n",
       "        vertical-align: top;\n",
       "    }\n",
       "\n",
       "    .dataframe thead th {\n",
       "        text-align: right;\n",
       "    }\n",
       "</style>\n",
       "<table border=\"1\" class=\"dataframe\">\n",
       "  <thead>\n",
       "    <tr style=\"text-align: right;\">\n",
       "      <th></th>\n",
       "      <th>name</th>\n",
       "      <th>year</th>\n",
       "      <th>points</th>\n",
       "    </tr>\n",
       "  </thead>\n",
       "  <tbody>\n",
       "    <tr>\n",
       "      <th>0</th>\n",
       "      <td>Choi</td>\n",
       "      <td>2013</td>\n",
       "      <td>1.5</td>\n",
       "    </tr>\n",
       "    <tr>\n",
       "      <th>1</th>\n",
       "      <td>Choi</td>\n",
       "      <td>2014</td>\n",
       "      <td>1.7</td>\n",
       "    </tr>\n",
       "    <tr>\n",
       "      <th>2</th>\n",
       "      <td>Choi</td>\n",
       "      <td>2015</td>\n",
       "      <td>3.6</td>\n",
       "    </tr>\n",
       "    <tr>\n",
       "      <th>3</th>\n",
       "      <td>Kim</td>\n",
       "      <td>2016</td>\n",
       "      <td>2.4</td>\n",
       "    </tr>\n",
       "    <tr>\n",
       "      <th>4</th>\n",
       "      <td>Park</td>\n",
       "      <td>2017</td>\n",
       "      <td>2.9</td>\n",
       "    </tr>\n",
       "  </tbody>\n",
       "</table>\n",
       "</div>"
      ],
      "text/plain": [
       "   name  year  points\n",
       "0  Choi  2013     1.5\n",
       "1  Choi  2014     1.7\n",
       "2  Choi  2015     3.6\n",
       "3   Kim  2016     2.4\n",
       "4  Park  2017     2.9"
      ]
     },
     "execution_count": 39,
     "metadata": {},
     "output_type": "execute_result"
    }
   ],
   "source": [
    "#데이터 프레임 생성\n",
    "data = {\n",
    "'name': [\"Choi\", \"Choi\", \"Choi\", \"Kim\", \"Park\"], \n",
    "'year': [2013, 2014, 2015, 2016, 2017], \n",
    "'points': [1.5, 1.7, 3.6, 2.4, 2.9]\n",
    "} \n",
    "df = pd.DataFrame(data) \n",
    "df"
   ]
  },
  {
   "cell_type": "code",
   "execution_count": 40,
   "id": "a4d97d12",
   "metadata": {},
   "outputs": [
    {
     "data": {
      "text/plain": [
       "RangeIndex(start=0, stop=5, step=1)"
      ]
     },
     "execution_count": 40,
     "metadata": {},
     "output_type": "execute_result"
    }
   ],
   "source": [
    "#행 방향의 index 확인\n",
    "df.index"
   ]
  },
  {
   "cell_type": "code",
   "execution_count": 41,
   "id": "435632c1",
   "metadata": {},
   "outputs": [
    {
     "data": {
      "text/plain": [
       "Index(['name', 'year', 'points'], dtype='object')"
      ]
     },
     "execution_count": 41,
     "metadata": {},
     "output_type": "execute_result"
    }
   ],
   "source": [
    "#열 방향의 index 확인\n",
    "df.columns"
   ]
  },
  {
   "cell_type": "code",
   "execution_count": 43,
   "id": "e3b70705",
   "metadata": {},
   "outputs": [
    {
     "data": {
      "text/plain": [
       "array([['Choi', 2013, 1.5],\n",
       "       ['Choi', 2014, 1.7],\n",
       "       ['Choi', 2015, 3.6],\n",
       "       ['Kim', 2016, 2.4],\n",
       "       ['Park', 2017, 2.9]], dtype=object)"
      ]
     },
     "execution_count": 43,
     "metadata": {},
     "output_type": "execute_result"
    }
   ],
   "source": [
    "#데이터 프레임 값 확인\n",
    "df.values"
   ]
  },
  {
   "cell_type": "code",
   "execution_count": 45,
   "id": "721e66f3",
   "metadata": {},
   "outputs": [
    {
     "data": {
      "text/html": [
       "<div>\n",
       "<style scoped>\n",
       "    .dataframe tbody tr th:only-of-type {\n",
       "        vertical-align: middle;\n",
       "    }\n",
       "\n",
       "    .dataframe tbody tr th {\n",
       "        vertical-align: top;\n",
       "    }\n",
       "\n",
       "    .dataframe thead th {\n",
       "        text-align: right;\n",
       "    }\n",
       "</style>\n",
       "<table border=\"1\" class=\"dataframe\">\n",
       "  <thead>\n",
       "    <tr style=\"text-align: right;\">\n",
       "      <th></th>\n",
       "      <th>year</th>\n",
       "      <th>name</th>\n",
       "      <th>points</th>\n",
       "      <th>penalty</th>\n",
       "    </tr>\n",
       "  </thead>\n",
       "  <tbody>\n",
       "    <tr>\n",
       "      <th>one</th>\n",
       "      <td>2013</td>\n",
       "      <td>Choi</td>\n",
       "      <td>1.5</td>\n",
       "      <td>NaN</td>\n",
       "    </tr>\n",
       "    <tr>\n",
       "      <th>two</th>\n",
       "      <td>2014</td>\n",
       "      <td>Choi</td>\n",
       "      <td>1.7</td>\n",
       "      <td>NaN</td>\n",
       "    </tr>\n",
       "    <tr>\n",
       "      <th>three</th>\n",
       "      <td>2015</td>\n",
       "      <td>Choi</td>\n",
       "      <td>3.6</td>\n",
       "      <td>NaN</td>\n",
       "    </tr>\n",
       "    <tr>\n",
       "      <th>four</th>\n",
       "      <td>2016</td>\n",
       "      <td>Kim</td>\n",
       "      <td>2.4</td>\n",
       "      <td>NaN</td>\n",
       "    </tr>\n",
       "    <tr>\n",
       "      <th>five</th>\n",
       "      <td>2017</td>\n",
       "      <td>Park</td>\n",
       "      <td>2.9</td>\n",
       "      <td>NaN</td>\n",
       "    </tr>\n",
       "  </tbody>\n",
       "</table>\n",
       "</div>"
      ],
      "text/plain": [
       "       year  name  points penalty\n",
       "one    2013  Choi     1.5     NaN\n",
       "two    2014  Choi     1.7     NaN\n",
       "three  2015  Choi     3.6     NaN\n",
       "four   2016   Kim     2.4     NaN\n",
       "five   2017  Park     2.9     NaN"
      ]
     },
     "execution_count": 45,
     "metadata": {},
     "output_type": "execute_result"
    }
   ],
   "source": [
    "#데이터 프레임에 penalty 열 추가\n",
    "df = pd.DataFrame(data, columns=[\"year\", \"name\", \"points\", \"penalty\"],\n",
    "                                  index=([\"one\", \"two\", \"three\", \"four\", \"five\"]))\n",
    "df"
   ]
  },
  {
   "cell_type": "code",
   "execution_count": 46,
   "id": "a6981ef6",
   "metadata": {},
   "outputs": [
    {
     "data": {
      "text/html": [
       "<div>\n",
       "<style scoped>\n",
       "    .dataframe tbody tr th:only-of-type {\n",
       "        vertical-align: middle;\n",
       "    }\n",
       "\n",
       "    .dataframe tbody tr th {\n",
       "        vertical-align: top;\n",
       "    }\n",
       "\n",
       "    .dataframe thead th {\n",
       "        text-align: right;\n",
       "    }\n",
       "</style>\n",
       "<table border=\"1\" class=\"dataframe\">\n",
       "  <thead>\n",
       "    <tr style=\"text-align: right;\">\n",
       "      <th></th>\n",
       "      <th>year</th>\n",
       "      <th>points</th>\n",
       "    </tr>\n",
       "  </thead>\n",
       "  <tbody>\n",
       "    <tr>\n",
       "      <th>one</th>\n",
       "      <td>2013</td>\n",
       "      <td>1.5</td>\n",
       "    </tr>\n",
       "    <tr>\n",
       "      <th>two</th>\n",
       "      <td>2014</td>\n",
       "      <td>1.7</td>\n",
       "    </tr>\n",
       "    <tr>\n",
       "      <th>three</th>\n",
       "      <td>2015</td>\n",
       "      <td>3.6</td>\n",
       "    </tr>\n",
       "    <tr>\n",
       "      <th>four</th>\n",
       "      <td>2016</td>\n",
       "      <td>2.4</td>\n",
       "    </tr>\n",
       "    <tr>\n",
       "      <th>five</th>\n",
       "      <td>2017</td>\n",
       "      <td>2.9</td>\n",
       "    </tr>\n",
       "  </tbody>\n",
       "</table>\n",
       "</div>"
      ],
      "text/plain": [
       "       year  points\n",
       "one    2013     1.5\n",
       "two    2014     1.7\n",
       "three  2015     3.6\n",
       "four   2016     2.4\n",
       "five   2017     2.9"
      ]
     },
     "execution_count": 46,
     "metadata": {},
     "output_type": "execute_result"
    }
   ],
   "source": [
    "# 특정 열만 선택\n",
    "df[[\"year\",\"points\"]] "
   ]
  },
  {
   "cell_type": "code",
   "execution_count": 47,
   "id": "0a82577c",
   "metadata": {},
   "outputs": [
    {
     "data": {
      "text/html": [
       "<div>\n",
       "<style scoped>\n",
       "    .dataframe tbody tr th:only-of-type {\n",
       "        vertical-align: middle;\n",
       "    }\n",
       "\n",
       "    .dataframe tbody tr th {\n",
       "        vertical-align: top;\n",
       "    }\n",
       "\n",
       "    .dataframe thead th {\n",
       "        text-align: right;\n",
       "    }\n",
       "</style>\n",
       "<table border=\"1\" class=\"dataframe\">\n",
       "  <thead>\n",
       "    <tr style=\"text-align: right;\">\n",
       "      <th></th>\n",
       "      <th>year</th>\n",
       "      <th>name</th>\n",
       "      <th>points</th>\n",
       "      <th>penalty</th>\n",
       "    </tr>\n",
       "  </thead>\n",
       "  <tbody>\n",
       "    <tr>\n",
       "      <th>one</th>\n",
       "      <td>2013</td>\n",
       "      <td>Choi</td>\n",
       "      <td>1.5</td>\n",
       "      <td>1.0</td>\n",
       "    </tr>\n",
       "    <tr>\n",
       "      <th>two</th>\n",
       "      <td>2014</td>\n",
       "      <td>Choi</td>\n",
       "      <td>1.7</td>\n",
       "      <td>1.0</td>\n",
       "    </tr>\n",
       "    <tr>\n",
       "      <th>three</th>\n",
       "      <td>2015</td>\n",
       "      <td>Choi</td>\n",
       "      <td>3.6</td>\n",
       "      <td>1.0</td>\n",
       "    </tr>\n",
       "    <tr>\n",
       "      <th>four</th>\n",
       "      <td>2016</td>\n",
       "      <td>Kim</td>\n",
       "      <td>2.4</td>\n",
       "      <td>1.0</td>\n",
       "    </tr>\n",
       "    <tr>\n",
       "      <th>five</th>\n",
       "      <td>2017</td>\n",
       "      <td>Park</td>\n",
       "      <td>2.9</td>\n",
       "      <td>1.0</td>\n",
       "    </tr>\n",
       "  </tbody>\n",
       "</table>\n",
       "</div>"
      ],
      "text/plain": [
       "       year  name  points  penalty\n",
       "one    2013  Choi     1.5      1.0\n",
       "two    2014  Choi     1.7      1.0\n",
       "three  2015  Choi     3.6      1.0\n",
       "four   2016   Kim     2.4      1.0\n",
       "five   2017  Park     2.9      1.0"
      ]
     },
     "execution_count": 47,
     "metadata": {},
     "output_type": "execute_result"
    }
   ],
   "source": [
    "#추가한 penalty 열 선택 후 값 1.0 대입 \n",
    "df[\"penalty\"] = 1.0\n",
    "df"
   ]
  },
  {
   "cell_type": "code",
   "execution_count": 48,
   "id": "ffc98a49",
   "metadata": {},
   "outputs": [
    {
     "data": {
      "text/html": [
       "<div>\n",
       "<style scoped>\n",
       "    .dataframe tbody tr th:only-of-type {\n",
       "        vertical-align: middle;\n",
       "    }\n",
       "\n",
       "    .dataframe tbody tr th {\n",
       "        vertical-align: top;\n",
       "    }\n",
       "\n",
       "    .dataframe thead th {\n",
       "        text-align: right;\n",
       "    }\n",
       "</style>\n",
       "<table border=\"1\" class=\"dataframe\">\n",
       "  <thead>\n",
       "    <tr style=\"text-align: right;\">\n",
       "      <th></th>\n",
       "      <th>year</th>\n",
       "      <th>name</th>\n",
       "      <th>points</th>\n",
       "      <th>penalty</th>\n",
       "    </tr>\n",
       "  </thead>\n",
       "  <tbody>\n",
       "    <tr>\n",
       "      <th>one</th>\n",
       "      <td>2013</td>\n",
       "      <td>Choi</td>\n",
       "      <td>1.5</td>\n",
       "      <td>0.1</td>\n",
       "    </tr>\n",
       "    <tr>\n",
       "      <th>two</th>\n",
       "      <td>2014</td>\n",
       "      <td>Choi</td>\n",
       "      <td>1.7</td>\n",
       "      <td>0.2</td>\n",
       "    </tr>\n",
       "    <tr>\n",
       "      <th>three</th>\n",
       "      <td>2015</td>\n",
       "      <td>Choi</td>\n",
       "      <td>3.6</td>\n",
       "      <td>0.3</td>\n",
       "    </tr>\n",
       "    <tr>\n",
       "      <th>four</th>\n",
       "      <td>2016</td>\n",
       "      <td>Kim</td>\n",
       "      <td>2.4</td>\n",
       "      <td>0.4</td>\n",
       "    </tr>\n",
       "    <tr>\n",
       "      <th>five</th>\n",
       "      <td>2017</td>\n",
       "      <td>Park</td>\n",
       "      <td>2.9</td>\n",
       "      <td>0.5</td>\n",
       "    </tr>\n",
       "  </tbody>\n",
       "</table>\n",
       "</div>"
      ],
      "text/plain": [
       "       year  name  points  penalty\n",
       "one    2013  Choi     1.5      0.1\n",
       "two    2014  Choi     1.7      0.2\n",
       "three  2015  Choi     3.6      0.3\n",
       "four   2016   Kim     2.4      0.4\n",
       "five   2017  Park     2.9      0.5"
      ]
     },
     "execution_count": 48,
     "metadata": {},
     "output_type": "execute_result"
    }
   ],
   "source": [
    "#python의 리스트로도 대입 가능\n",
    "df['penalty'] = [0.1, 0.2, 0.3, 0.4, 0.5] \n",
    "df "
   ]
  },
  {
   "cell_type": "code",
   "execution_count": 62,
   "id": "fd963509",
   "metadata": {},
   "outputs": [
    {
     "name": "stdout",
     "output_type": "stream",
     "text": [
      "Info   year  name  points  penalty  debt  zeros  net_points\n",
      "Order                                                      \n",
      "one    2013  Choi     1.5      0.1   NaN      0         1.4\n",
      "two    2014  Choi     1.7      0.2  -1.2      1         1.5\n",
      "three  2015  Choi     3.6      0.3   NaN      2         3.3\n",
      "four   2016   Kim     2.4      0.4  -1.5      3         2.0\n",
      "five   2017  Park     2.9      0.5  -1.7      4         2.4 \n",
      "\n",
      "Info   year  name  points  penalty  debt  zeros  net_points\n",
      "Order                                                      \n",
      "one    2013  Choi     1.5      0.1   NaN      0         1.4\n",
      "two    2014  Choi     1.7      0.2  -1.2      1         1.5\n",
      "three  2015  Choi     3.6      0.3   NaN      2         3.3\n",
      "four   2016   Kim     2.4      0.4  -1.5      3         2.0\n",
      "five   2017  Park     2.9      0.5  -1.7      4         2.4 \n",
      "\n",
      "Info   year  name  points  penalty  debt  zeros  net_points\n",
      "Order                                                      \n",
      "one    2013  Choi     1.5      0.1   NaN      0         1.4\n",
      "two    2014  Choi     1.7      0.2  -1.2      1         1.5\n",
      "three  2015  Choi     3.6      0.3   NaN      2         3.3\n",
      "four   2016   Kim     2.4      0.4  -1.5      3         2.0\n",
      "five   2017  Park     2.9      0.5  -1.7      4         2.4 \n",
      "\n",
      "Info   year  name  points  penalty  debt  zeros  net_points  high_points\n",
      "Order                                                                   \n",
      "one    2013  Choi     1.5      0.1   NaN      0         1.4        False\n",
      "two    2014  Choi     1.7      0.2  -1.2      1         1.5        False\n",
      "three  2015  Choi     3.6      0.3   NaN      2         3.3         True\n",
      "four   2016   Kim     2.4      0.4  -1.5      3         2.0        False\n",
      "five   2017  Park     2.9      0.5  -1.7      4         2.4         True \n",
      "\n"
     ]
    }
   ],
   "source": [
    "#numpy의 np.arange로도 새로운 열을 추가 가능\n",
    "df['zeros'] = np.arange(5) \n",
    "print(df, \"\\n\") #numpy의 np.arange로도 새로운 열을 추가 가능 \n",
    "\n",
    "val = pd.Series([-1.2, -1.5, -1.7], index=['two','four','five']) \n",
    "df['debt'] = val \n",
    "print(df, \"\\n\") #index인자로 특정행을 지정하여 시리즈(Series)로도 추가 가능\n",
    "\n",
    "df[\"net_points\"] = df[\"points\"] - df[\"penalty\"]\n",
    "print(df, \"\\n\") #연산 결과를 새로운 열에 추가하기\n",
    "\n",
    "df[\"high_points\"] = df[\"net_points\"] > 2.0 \n",
    "print(df, \"\\n\") #조건 연산 후 열 추가"
   ]
  },
  {
   "cell_type": "code",
   "execution_count": 54,
   "id": "a797bbb7",
   "metadata": {},
   "outputs": [
    {
     "data": {
      "text/html": [
       "<div>\n",
       "<style scoped>\n",
       "    .dataframe tbody tr th:only-of-type {\n",
       "        vertical-align: middle;\n",
       "    }\n",
       "\n",
       "    .dataframe tbody tr th {\n",
       "        vertical-align: top;\n",
       "    }\n",
       "\n",
       "    .dataframe thead th {\n",
       "        text-align: right;\n",
       "    }\n",
       "</style>\n",
       "<table border=\"1\" class=\"dataframe\">\n",
       "  <thead>\n",
       "    <tr style=\"text-align: right;\">\n",
       "      <th></th>\n",
       "      <th>year</th>\n",
       "      <th>name</th>\n",
       "      <th>points</th>\n",
       "      <th>penalty</th>\n",
       "      <th>debt</th>\n",
       "    </tr>\n",
       "  </thead>\n",
       "  <tbody>\n",
       "    <tr>\n",
       "      <th>one</th>\n",
       "      <td>2013</td>\n",
       "      <td>Choi</td>\n",
       "      <td>1.5</td>\n",
       "      <td>0.1</td>\n",
       "      <td>NaN</td>\n",
       "    </tr>\n",
       "    <tr>\n",
       "      <th>two</th>\n",
       "      <td>2014</td>\n",
       "      <td>Choi</td>\n",
       "      <td>1.7</td>\n",
       "      <td>0.2</td>\n",
       "      <td>-1.2</td>\n",
       "    </tr>\n",
       "    <tr>\n",
       "      <th>three</th>\n",
       "      <td>2015</td>\n",
       "      <td>Choi</td>\n",
       "      <td>3.6</td>\n",
       "      <td>0.3</td>\n",
       "      <td>NaN</td>\n",
       "    </tr>\n",
       "    <tr>\n",
       "      <th>four</th>\n",
       "      <td>2016</td>\n",
       "      <td>Kim</td>\n",
       "      <td>2.4</td>\n",
       "      <td>0.4</td>\n",
       "      <td>-1.5</td>\n",
       "    </tr>\n",
       "    <tr>\n",
       "      <th>five</th>\n",
       "      <td>2017</td>\n",
       "      <td>Park</td>\n",
       "      <td>2.9</td>\n",
       "      <td>0.5</td>\n",
       "      <td>-1.7</td>\n",
       "    </tr>\n",
       "  </tbody>\n",
       "</table>\n",
       "</div>"
      ],
      "text/plain": [
       "       year  name  points  penalty  debt\n",
       "one    2013  Choi     1.5      0.1   NaN\n",
       "two    2014  Choi     1.7      0.2  -1.2\n",
       "three  2015  Choi     3.6      0.3   NaN\n",
       "four   2016   Kim     2.4      0.4  -1.5\n",
       "five   2017  Park     2.9      0.5  -1.7"
      ]
     },
     "execution_count": 54,
     "metadata": {},
     "output_type": "execute_result"
    }
   ],
   "source": [
    "#열 삭제하기 \n",
    "del df[\"high_points\"]\n",
    "del df[\"net_points\"] \n",
    "del df[\"zeros\"] \n",
    "df"
   ]
  },
  {
   "cell_type": "code",
   "execution_count": 56,
   "id": "4a7b2bd6",
   "metadata": {},
   "outputs": [
    {
     "data": {
      "text/html": [
       "<div>\n",
       "<style scoped>\n",
       "    .dataframe tbody tr th:only-of-type {\n",
       "        vertical-align: middle;\n",
       "    }\n",
       "\n",
       "    .dataframe tbody tr th {\n",
       "        vertical-align: top;\n",
       "    }\n",
       "\n",
       "    .dataframe thead th {\n",
       "        text-align: right;\n",
       "    }\n",
       "</style>\n",
       "<table border=\"1\" class=\"dataframe\">\n",
       "  <thead>\n",
       "    <tr style=\"text-align: right;\">\n",
       "      <th>Info</th>\n",
       "      <th>year</th>\n",
       "      <th>name</th>\n",
       "      <th>points</th>\n",
       "      <th>penalty</th>\n",
       "      <th>debt</th>\n",
       "    </tr>\n",
       "    <tr>\n",
       "      <th>Order</th>\n",
       "      <th></th>\n",
       "      <th></th>\n",
       "      <th></th>\n",
       "      <th></th>\n",
       "      <th></th>\n",
       "    </tr>\n",
       "  </thead>\n",
       "  <tbody>\n",
       "    <tr>\n",
       "      <th>one</th>\n",
       "      <td>2013</td>\n",
       "      <td>Choi</td>\n",
       "      <td>1.5</td>\n",
       "      <td>0.1</td>\n",
       "      <td>NaN</td>\n",
       "    </tr>\n",
       "    <tr>\n",
       "      <th>two</th>\n",
       "      <td>2014</td>\n",
       "      <td>Choi</td>\n",
       "      <td>1.7</td>\n",
       "      <td>0.2</td>\n",
       "      <td>-1.2</td>\n",
       "    </tr>\n",
       "    <tr>\n",
       "      <th>three</th>\n",
       "      <td>2015</td>\n",
       "      <td>Choi</td>\n",
       "      <td>3.6</td>\n",
       "      <td>0.3</td>\n",
       "      <td>NaN</td>\n",
       "    </tr>\n",
       "    <tr>\n",
       "      <th>four</th>\n",
       "      <td>2016</td>\n",
       "      <td>Kim</td>\n",
       "      <td>2.4</td>\n",
       "      <td>0.4</td>\n",
       "      <td>-1.5</td>\n",
       "    </tr>\n",
       "    <tr>\n",
       "      <th>five</th>\n",
       "      <td>2017</td>\n",
       "      <td>Park</td>\n",
       "      <td>2.9</td>\n",
       "      <td>0.5</td>\n",
       "      <td>-1.7</td>\n",
       "    </tr>\n",
       "  </tbody>\n",
       "</table>\n",
       "</div>"
      ],
      "text/plain": [
       "Info   year  name  points  penalty  debt\n",
       "Order                                   \n",
       "one    2013  Choi     1.5      0.1   NaN\n",
       "two    2014  Choi     1.7      0.2  -1.2\n",
       "three  2015  Choi     3.6      0.3   NaN\n",
       "four   2016   Kim     2.4      0.4  -1.5\n",
       "five   2017  Park     2.9      0.5  -1.7"
      ]
     },
     "execution_count": 56,
     "metadata": {},
     "output_type": "execute_result"
    }
   ],
   "source": [
    "#index와 columns 이름 지정\n",
    "df.index.name = \"Order\" \n",
    "df.columns.name = \"Info\" \n",
    "df"
   ]
  },
  {
   "cell_type": "code",
   "execution_count": 59,
   "id": "058b15de",
   "metadata": {},
   "outputs": [
    {
     "name": "stdout",
     "output_type": "stream",
     "text": [
      "Order\n",
      "one      2013\n",
      "two      2014\n",
      "three    2015\n",
      "four     2016\n",
      "five     2017\n",
      "Name: year, dtype: int64 \n",
      "\n",
      "Order\n",
      "one      2013\n",
      "two      2014\n",
      "three    2015\n",
      "four     2016\n",
      "five     2017\n",
      "Name: year, dtype: int64\n"
     ]
    }
   ],
   "source": [
    "#데이터 프레임의 열 인덱싱\n",
    "print(df[\"year\"], \"\\n\") \n",
    "print(df.year) #다른 방법의 데이터 프레임 열 인덱싱"
   ]
  },
  {
   "cell_type": "code",
   "execution_count": 58,
   "id": "b7efc1ac",
   "metadata": {},
   "outputs": [
    {
     "data": {
      "text/plain": [
       "Order\n",
       "one      2013\n",
       "two      2014\n",
       "three    2015\n",
       "four     2016\n",
       "five     2017\n",
       "Name: year, dtype: int64"
      ]
     },
     "execution_count": 58,
     "metadata": {},
     "output_type": "execute_result"
    }
   ],
   "source": [
    "#다른 방법의 데이터 프레임 열 인덱싱\n",
    "df.year"
   ]
  },
  {
   "cell_type": "code",
   "execution_count": 63,
   "id": "ba9fd248",
   "metadata": {},
   "outputs": [
    {
     "data": {
      "text/html": [
       "<div>\n",
       "<style scoped>\n",
       "    .dataframe tbody tr th:only-of-type {\n",
       "        vertical-align: middle;\n",
       "    }\n",
       "\n",
       "    .dataframe tbody tr th {\n",
       "        vertical-align: top;\n",
       "    }\n",
       "\n",
       "    .dataframe thead th {\n",
       "        text-align: right;\n",
       "    }\n",
       "</style>\n",
       "<table border=\"1\" class=\"dataframe\">\n",
       "  <thead>\n",
       "    <tr style=\"text-align: right;\">\n",
       "      <th>Info</th>\n",
       "      <th>year</th>\n",
       "      <th>name</th>\n",
       "      <th>points</th>\n",
       "      <th>penalty</th>\n",
       "      <th>debt</th>\n",
       "      <th>zeros</th>\n",
       "      <th>net_points</th>\n",
       "      <th>high_points</th>\n",
       "    </tr>\n",
       "    <tr>\n",
       "      <th>Order</th>\n",
       "      <th></th>\n",
       "      <th></th>\n",
       "      <th></th>\n",
       "      <th></th>\n",
       "      <th></th>\n",
       "      <th></th>\n",
       "      <th></th>\n",
       "      <th></th>\n",
       "    </tr>\n",
       "  </thead>\n",
       "  <tbody>\n",
       "    <tr>\n",
       "      <th>one</th>\n",
       "      <td>2013</td>\n",
       "      <td>Choi</td>\n",
       "      <td>1.5</td>\n",
       "      <td>0.1</td>\n",
       "      <td>NaN</td>\n",
       "      <td>0</td>\n",
       "      <td>1.4</td>\n",
       "      <td>False</td>\n",
       "    </tr>\n",
       "  </tbody>\n",
       "</table>\n",
       "</div>"
      ],
      "text/plain": [
       "Info   year  name  points  penalty  debt  zeros  net_points  high_points\n",
       "Order                                                                   \n",
       "one    2013  Choi     1.5      0.1   NaN      0         1.4        False"
      ]
     },
     "execution_count": 63,
     "metadata": {},
     "output_type": "execute_result"
    }
   ],
   "source": [
    "#행 인덱싱은 슬라이싱으로 0번째부터 1번째로 지정하면 1행을 반환\n",
    "df[0:1]"
   ]
  },
  {
   "cell_type": "code",
   "execution_count": 64,
   "id": "8b43b490",
   "metadata": {},
   "outputs": [
    {
     "data": {
      "text/plain": [
       "Info\n",
       "year            2014\n",
       "name            Choi\n",
       "points           1.7\n",
       "penalty          0.2\n",
       "debt            -1.2\n",
       "zeros              1\n",
       "net_points       1.5\n",
       "high_points    False\n",
       "Name: two, dtype: object"
      ]
     },
     "execution_count": 64,
     "metadata": {},
     "output_type": "execute_result"
    }
   ],
   "source": [
    "# .loc 함수를 사용하여 시리즈로 인덱싱, 인덱스의 라벨값 기반 인덱싱\n",
    "df.loc[\"two\"]"
   ]
  },
  {
   "cell_type": "code",
   "execution_count": 66,
   "id": "f0f5f82a",
   "metadata": {},
   "outputs": [
    {
     "data": {
      "text/html": [
       "<div>\n",
       "<style scoped>\n",
       "    .dataframe tbody tr th:only-of-type {\n",
       "        vertical-align: middle;\n",
       "    }\n",
       "\n",
       "    .dataframe tbody tr th {\n",
       "        vertical-align: top;\n",
       "    }\n",
       "\n",
       "    .dataframe thead th {\n",
       "        text-align: right;\n",
       "    }\n",
       "</style>\n",
       "<table border=\"1\" class=\"dataframe\">\n",
       "  <thead>\n",
       "    <tr style=\"text-align: right;\">\n",
       "      <th>Info</th>\n",
       "      <th>year</th>\n",
       "      <th>name</th>\n",
       "      <th>points</th>\n",
       "      <th>penalty</th>\n",
       "      <th>debt</th>\n",
       "      <th>zeros</th>\n",
       "      <th>net_points</th>\n",
       "      <th>high_points</th>\n",
       "    </tr>\n",
       "    <tr>\n",
       "      <th>Order</th>\n",
       "      <th></th>\n",
       "      <th></th>\n",
       "      <th></th>\n",
       "      <th></th>\n",
       "      <th></th>\n",
       "      <th></th>\n",
       "      <th></th>\n",
       "      <th></th>\n",
       "    </tr>\n",
       "  </thead>\n",
       "  <tbody>\n",
       "    <tr>\n",
       "      <th>two</th>\n",
       "      <td>2014</td>\n",
       "      <td>Choi</td>\n",
       "      <td>1.7</td>\n",
       "      <td>0.2</td>\n",
       "      <td>-1.2</td>\n",
       "      <td>1</td>\n",
       "      <td>1.5</td>\n",
       "      <td>False</td>\n",
       "    </tr>\n",
       "    <tr>\n",
       "      <th>three</th>\n",
       "      <td>2015</td>\n",
       "      <td>Choi</td>\n",
       "      <td>3.6</td>\n",
       "      <td>0.3</td>\n",
       "      <td>NaN</td>\n",
       "      <td>2</td>\n",
       "      <td>3.3</td>\n",
       "      <td>True</td>\n",
       "    </tr>\n",
       "    <tr>\n",
       "      <th>four</th>\n",
       "      <td>2016</td>\n",
       "      <td>Kim</td>\n",
       "      <td>2.4</td>\n",
       "      <td>0.4</td>\n",
       "      <td>-1.5</td>\n",
       "      <td>3</td>\n",
       "      <td>2.0</td>\n",
       "      <td>False</td>\n",
       "    </tr>\n",
       "  </tbody>\n",
       "</table>\n",
       "</div>"
      ],
      "text/plain": [
       "Info   year  name  points  penalty  debt  zeros  net_points  high_points\n",
       "Order                                                                   \n",
       "two    2014  Choi     1.7      0.2  -1.2      1         1.5        False\n",
       "three  2015  Choi     3.6      0.3   NaN      2         3.3         True\n",
       "four   2016   Kim     2.4      0.4  -1.5      3         2.0        False"
      ]
     },
     "execution_count": 66,
     "metadata": {},
     "output_type": "execute_result"
    }
   ],
   "source": [
    "# .loc 또는 .iloc 함수를 사용하여 데이터프레임으로 인덱싱\n",
    "df.loc[\"two\":\"four\"]"
   ]
  },
  {
   "cell_type": "code",
   "execution_count": 73,
   "id": "1a6a7d6b",
   "metadata": {},
   "outputs": [
    {
     "data": {
      "text/plain": [
       "Order\n",
       "one      2013.0\n",
       "two      2014.0\n",
       "three    2015.0\n",
       "four     2016.0\n",
       "five     2017.0\n",
       "six         NaN\n",
       "Name: year, dtype: float64"
      ]
     },
     "execution_count": 73,
     "metadata": {},
     "output_type": "execute_result"
    }
   ],
   "source": [
    "df.loc[:,'year'] # == df['year’] "
   ]
  },
  {
   "cell_type": "code",
   "execution_count": 74,
   "id": "d1315156",
   "metadata": {},
   "outputs": [
    {
     "data": {
      "text/html": [
       "<div>\n",
       "<style scoped>\n",
       "    .dataframe tbody tr th:only-of-type {\n",
       "        vertical-align: middle;\n",
       "    }\n",
       "\n",
       "    .dataframe tbody tr th {\n",
       "        vertical-align: top;\n",
       "    }\n",
       "\n",
       "    .dataframe thead th {\n",
       "        text-align: right;\n",
       "    }\n",
       "</style>\n",
       "<table border=\"1\" class=\"dataframe\">\n",
       "  <thead>\n",
       "    <tr style=\"text-align: right;\">\n",
       "      <th>Info</th>\n",
       "      <th>year</th>\n",
       "      <th>name</th>\n",
       "      <th>points</th>\n",
       "      <th>penalty</th>\n",
       "    </tr>\n",
       "    <tr>\n",
       "      <th>Order</th>\n",
       "      <th></th>\n",
       "      <th></th>\n",
       "      <th></th>\n",
       "      <th></th>\n",
       "    </tr>\n",
       "  </thead>\n",
       "  <tbody>\n",
       "    <tr>\n",
       "      <th>three</th>\n",
       "      <td>2015.0</td>\n",
       "      <td>Choi</td>\n",
       "      <td>3.6</td>\n",
       "      <td>0.3</td>\n",
       "    </tr>\n",
       "    <tr>\n",
       "      <th>four</th>\n",
       "      <td>2016.0</td>\n",
       "      <td>Kim</td>\n",
       "      <td>2.4</td>\n",
       "      <td>0.4</td>\n",
       "    </tr>\n",
       "    <tr>\n",
       "      <th>five</th>\n",
       "      <td>2017.0</td>\n",
       "      <td>Park</td>\n",
       "      <td>2.9</td>\n",
       "      <td>0.5</td>\n",
       "    </tr>\n",
       "  </tbody>\n",
       "</table>\n",
       "</div>"
      ],
      "text/plain": [
       "Info     year  name  points  penalty\n",
       "Order                               \n",
       "three  2015.0  Choi     3.6      0.3\n",
       "four   2016.0   Kim     2.4      0.4\n",
       "five   2017.0  Park     2.9      0.5"
      ]
     },
     "execution_count": 74,
     "metadata": {},
     "output_type": "execute_result"
    }
   ],
   "source": [
    "df.loc[\"three\":\"five\",\"year\":\"penalty\"] "
   ]
  },
  {
   "cell_type": "code",
   "execution_count": 76,
   "id": "791dc424",
   "metadata": {},
   "outputs": [
    {
     "data": {
      "text/plain": [
       "Info\n",
       "year           2016.0\n",
       "name              Kim\n",
       "points            2.4\n",
       "penalty           0.4\n",
       "debt             -1.5\n",
       "zeros             3.0\n",
       "net_points        2.0\n",
       "high_points     False\n",
       "Name: four, dtype: object"
      ]
     },
     "execution_count": 76,
     "metadata": {},
     "output_type": "execute_result"
    }
   ],
   "source": [
    "#iloc 인덱싱, 인덱스의 숫자 기반 인덱싱\n",
    "df.iloc[3]"
   ]
  },
  {
   "cell_type": "code",
   "execution_count": 77,
   "id": "91c0b28c",
   "metadata": {},
   "outputs": [
    {
     "data": {
      "text/html": [
       "<div>\n",
       "<style scoped>\n",
       "    .dataframe tbody tr th:only-of-type {\n",
       "        vertical-align: middle;\n",
       "    }\n",
       "\n",
       "    .dataframe tbody tr th {\n",
       "        vertical-align: top;\n",
       "    }\n",
       "\n",
       "    .dataframe thead th {\n",
       "        text-align: right;\n",
       "    }\n",
       "</style>\n",
       "<table border=\"1\" class=\"dataframe\">\n",
       "  <thead>\n",
       "    <tr style=\"text-align: right;\">\n",
       "      <th>Info</th>\n",
       "      <th>year</th>\n",
       "      <th>name</th>\n",
       "    </tr>\n",
       "    <tr>\n",
       "      <th>Order</th>\n",
       "      <th></th>\n",
       "      <th></th>\n",
       "    </tr>\n",
       "  </thead>\n",
       "  <tbody>\n",
       "    <tr>\n",
       "      <th>four</th>\n",
       "      <td>2016.0</td>\n",
       "      <td>Kim</td>\n",
       "    </tr>\n",
       "    <tr>\n",
       "      <th>five</th>\n",
       "      <td>2017.0</td>\n",
       "      <td>Park</td>\n",
       "    </tr>\n",
       "  </tbody>\n",
       "</table>\n",
       "</div>"
      ],
      "text/plain": [
       "Info     year  name\n",
       "Order              \n",
       "four   2016.0   Kim\n",
       "five   2017.0  Park"
      ]
     },
     "execution_count": 77,
     "metadata": {},
     "output_type": "execute_result"
    }
   ],
   "source": [
    "#슬라이싱으로 지정하여 반환\n",
    "df.iloc[3:5, 0:2]"
   ]
  },
  {
   "cell_type": "code",
   "execution_count": 78,
   "id": "54f1f930",
   "metadata": {},
   "outputs": [
    {
     "data": {
      "text/html": [
       "<div>\n",
       "<style scoped>\n",
       "    .dataframe tbody tr th:only-of-type {\n",
       "        vertical-align: middle;\n",
       "    }\n",
       "\n",
       "    .dataframe tbody tr th {\n",
       "        vertical-align: top;\n",
       "    }\n",
       "\n",
       "    .dataframe thead th {\n",
       "        text-align: right;\n",
       "    }\n",
       "</style>\n",
       "<table border=\"1\" class=\"dataframe\">\n",
       "  <thead>\n",
       "    <tr style=\"text-align: right;\">\n",
       "      <th>Info</th>\n",
       "      <th>name</th>\n",
       "      <th>points</th>\n",
       "    </tr>\n",
       "    <tr>\n",
       "      <th>Order</th>\n",
       "      <th></th>\n",
       "      <th></th>\n",
       "    </tr>\n",
       "  </thead>\n",
       "  <tbody>\n",
       "    <tr>\n",
       "      <th>one</th>\n",
       "      <td>Choi</td>\n",
       "      <td>1.5</td>\n",
       "    </tr>\n",
       "    <tr>\n",
       "      <th>two</th>\n",
       "      <td>Choi</td>\n",
       "      <td>1.7</td>\n",
       "    </tr>\n",
       "    <tr>\n",
       "      <th>four</th>\n",
       "      <td>Kim</td>\n",
       "      <td>2.4</td>\n",
       "    </tr>\n",
       "  </tbody>\n",
       "</table>\n",
       "</div>"
      ],
      "text/plain": [
       "Info   name  points\n",
       "Order              \n",
       "one    Choi     1.5\n",
       "two    Choi     1.7\n",
       "four    Kim     2.4"
      ]
     },
     "execution_count": 78,
     "metadata": {},
     "output_type": "execute_result"
    }
   ],
   "source": [
    "#각각의 행과 열을 지정하여 반환하기\n",
    "df.iloc[[0,1,3], [1,2]]"
   ]
  },
  {
   "cell_type": "code",
   "execution_count": 79,
   "id": "d5e80904",
   "metadata": {},
   "outputs": [
    {
     "data": {
      "text/html": [
       "<div>\n",
       "<style scoped>\n",
       "    .dataframe tbody tr th:only-of-type {\n",
       "        vertical-align: middle;\n",
       "    }\n",
       "\n",
       "    .dataframe tbody tr th {\n",
       "        vertical-align: top;\n",
       "    }\n",
       "\n",
       "    .dataframe thead th {\n",
       "        text-align: right;\n",
       "    }\n",
       "</style>\n",
       "<table border=\"1\" class=\"dataframe\">\n",
       "  <thead>\n",
       "    <tr style=\"text-align: right;\">\n",
       "      <th>Info</th>\n",
       "      <th>name</th>\n",
       "      <th>points</th>\n",
       "      <th>penalty</th>\n",
       "    </tr>\n",
       "    <tr>\n",
       "      <th>Order</th>\n",
       "      <th></th>\n",
       "      <th></th>\n",
       "      <th></th>\n",
       "    </tr>\n",
       "  </thead>\n",
       "  <tbody>\n",
       "    <tr>\n",
       "      <th>one</th>\n",
       "      <td>Choi</td>\n",
       "      <td>1.5</td>\n",
       "      <td>0.1</td>\n",
       "    </tr>\n",
       "    <tr>\n",
       "      <th>two</th>\n",
       "      <td>Choi</td>\n",
       "      <td>1.7</td>\n",
       "      <td>0.2</td>\n",
       "    </tr>\n",
       "    <tr>\n",
       "      <th>three</th>\n",
       "      <td>Choi</td>\n",
       "      <td>3.6</td>\n",
       "      <td>0.3</td>\n",
       "    </tr>\n",
       "    <tr>\n",
       "      <th>four</th>\n",
       "      <td>Kim</td>\n",
       "      <td>2.4</td>\n",
       "      <td>0.4</td>\n",
       "    </tr>\n",
       "    <tr>\n",
       "      <th>five</th>\n",
       "      <td>Park</td>\n",
       "      <td>2.9</td>\n",
       "      <td>0.5</td>\n",
       "    </tr>\n",
       "    <tr>\n",
       "      <th>six</th>\n",
       "      <td>NaN</td>\n",
       "      <td>NaN</td>\n",
       "      <td>NaN</td>\n",
       "    </tr>\n",
       "  </tbody>\n",
       "</table>\n",
       "</div>"
      ],
      "text/plain": [
       "Info   name  points  penalty\n",
       "Order                       \n",
       "one    Choi     1.5      0.1\n",
       "two    Choi     1.7      0.2\n",
       "three  Choi     3.6      0.3\n",
       "four    Kim     2.4      0.4\n",
       "five   Park     2.9      0.5\n",
       "six     NaN     NaN      NaN"
      ]
     },
     "execution_count": 79,
     "metadata": {},
     "output_type": "execute_result"
    }
   ],
   "source": [
    "#행을 전체, 열은 두번째열부터 마지막까지 슬라이싱으로 지정하여 반환\n",
    "df.iloc[:,1:4] "
   ]
  },
  {
   "cell_type": "code",
   "execution_count": 80,
   "id": "6a15bb3a",
   "metadata": {},
   "outputs": [
    {
     "data": {
      "text/html": [
       "<div>\n",
       "<style scoped>\n",
       "    .dataframe tbody tr th:only-of-type {\n",
       "        vertical-align: middle;\n",
       "    }\n",
       "\n",
       "    .dataframe tbody tr th {\n",
       "        vertical-align: top;\n",
       "    }\n",
       "\n",
       "    .dataframe thead th {\n",
       "        text-align: right;\n",
       "    }\n",
       "</style>\n",
       "<table border=\"1\" class=\"dataframe\">\n",
       "  <thead>\n",
       "    <tr style=\"text-align: right;\">\n",
       "      <th>Info</th>\n",
       "      <th>year</th>\n",
       "      <th>name</th>\n",
       "      <th>points</th>\n",
       "      <th>penalty</th>\n",
       "      <th>debt</th>\n",
       "      <th>zeros</th>\n",
       "      <th>net_points</th>\n",
       "      <th>high_points</th>\n",
       "    </tr>\n",
       "    <tr>\n",
       "      <th>Order</th>\n",
       "      <th></th>\n",
       "      <th></th>\n",
       "      <th></th>\n",
       "      <th></th>\n",
       "      <th></th>\n",
       "      <th></th>\n",
       "      <th></th>\n",
       "      <th></th>\n",
       "    </tr>\n",
       "  </thead>\n",
       "  <tbody>\n",
       "    <tr>\n",
       "      <th>one</th>\n",
       "      <td>2013.0</td>\n",
       "      <td>Choi</td>\n",
       "      <td>1.5</td>\n",
       "      <td>0.1</td>\n",
       "      <td>NaN</td>\n",
       "      <td>0.0</td>\n",
       "      <td>1.4</td>\n",
       "      <td>False</td>\n",
       "    </tr>\n",
       "    <tr>\n",
       "      <th>two</th>\n",
       "      <td>2014.0</td>\n",
       "      <td>Choi</td>\n",
       "      <td>1.7</td>\n",
       "      <td>0.2</td>\n",
       "      <td>-1.2</td>\n",
       "      <td>1.0</td>\n",
       "      <td>1.5</td>\n",
       "      <td>False</td>\n",
       "    </tr>\n",
       "    <tr>\n",
       "      <th>three</th>\n",
       "      <td>2015.0</td>\n",
       "      <td>Choi</td>\n",
       "      <td>3.6</td>\n",
       "      <td>0.3</td>\n",
       "      <td>NaN</td>\n",
       "      <td>2.0</td>\n",
       "      <td>3.3</td>\n",
       "      <td>True</td>\n",
       "    </tr>\n",
       "    <tr>\n",
       "      <th>four</th>\n",
       "      <td>2016.0</td>\n",
       "      <td>Kim</td>\n",
       "      <td>2.4</td>\n",
       "      <td>0.4</td>\n",
       "      <td>-1.5</td>\n",
       "      <td>3.0</td>\n",
       "      <td>2.0</td>\n",
       "      <td>False</td>\n",
       "    </tr>\n",
       "    <tr>\n",
       "      <th>five</th>\n",
       "      <td>2017.0</td>\n",
       "      <td>Park</td>\n",
       "      <td>2.9</td>\n",
       "      <td>0.5</td>\n",
       "      <td>-1.7</td>\n",
       "      <td>4.0</td>\n",
       "      <td>2.4</td>\n",
       "      <td>True</td>\n",
       "    </tr>\n",
       "    <tr>\n",
       "      <th>six</th>\n",
       "      <td>NaN</td>\n",
       "      <td>NaN</td>\n",
       "      <td>NaN</td>\n",
       "      <td>NaN</td>\n",
       "      <td>NaN</td>\n",
       "      <td>NaN</td>\n",
       "      <td>NaN</td>\n",
       "      <td>NaN</td>\n",
       "    </tr>\n",
       "  </tbody>\n",
       "</table>\n",
       "</div>"
      ],
      "text/plain": [
       "Info     year  name  points  penalty  debt  zeros  net_points high_points\n",
       "Order                                                                    \n",
       "one    2013.0  Choi     1.5      0.1   NaN    0.0         1.4       False\n",
       "two    2014.0  Choi     1.7      0.2  -1.2    1.0         1.5       False\n",
       "three  2015.0  Choi     3.6      0.3   NaN    2.0         3.3        True\n",
       "four   2016.0   Kim     2.4      0.4  -1.5    3.0         2.0       False\n",
       "five   2017.0  Park     2.9      0.5  -1.7    4.0         2.4        True\n",
       "six       NaN   NaN     NaN      NaN   NaN    NaN         NaN         NaN"
      ]
     },
     "execution_count": 80,
     "metadata": {},
     "output_type": "execute_result"
    }
   ],
   "source": [
    "#Boolean 인덱싱\n",
    "df #df 확인"
   ]
  },
  {
   "cell_type": "code",
   "execution_count": 81,
   "id": "19bc7aa7",
   "metadata": {},
   "outputs": [
    {
     "data": {
      "text/plain": [
       "Order\n",
       "one      False\n",
       "two      False\n",
       "three     True\n",
       "four      True\n",
       "five      True\n",
       "six      False\n",
       "Name: year, dtype: bool"
      ]
     },
     "execution_count": 81,
     "metadata": {},
     "output_type": "execute_result"
    }
   ],
   "source": [
    "#year가 2014보다 큰 boolean data \n",
    "df[\"year\"] > 2014 "
   ]
  },
  {
   "cell_type": "code",
   "execution_count": 83,
   "id": "69aea015",
   "metadata": {},
   "outputs": [
    {
     "data": {
      "text/html": [
       "<div>\n",
       "<style scoped>\n",
       "    .dataframe tbody tr th:only-of-type {\n",
       "        vertical-align: middle;\n",
       "    }\n",
       "\n",
       "    .dataframe tbody tr th {\n",
       "        vertical-align: top;\n",
       "    }\n",
       "\n",
       "    .dataframe thead th {\n",
       "        text-align: right;\n",
       "    }\n",
       "</style>\n",
       "<table border=\"1\" class=\"dataframe\">\n",
       "  <thead>\n",
       "    <tr style=\"text-align: right;\">\n",
       "      <th>Info</th>\n",
       "      <th>name</th>\n",
       "      <th>points</th>\n",
       "    </tr>\n",
       "    <tr>\n",
       "      <th>Order</th>\n",
       "      <th></th>\n",
       "      <th></th>\n",
       "    </tr>\n",
       "  </thead>\n",
       "  <tbody>\n",
       "    <tr>\n",
       "      <th>one</th>\n",
       "      <td>Choi</td>\n",
       "      <td>1.5</td>\n",
       "    </tr>\n",
       "    <tr>\n",
       "      <th>two</th>\n",
       "      <td>Choi</td>\n",
       "      <td>1.7</td>\n",
       "    </tr>\n",
       "    <tr>\n",
       "      <th>three</th>\n",
       "      <td>Choi</td>\n",
       "      <td>3.6</td>\n",
       "    </tr>\n",
       "  </tbody>\n",
       "</table>\n",
       "</div>"
      ],
      "text/plain": [
       "Info   name  points\n",
       "Order              \n",
       "one    Choi     1.5\n",
       "two    Choi     1.7\n",
       "three  Choi     3.6"
      ]
     },
     "execution_count": 83,
     "metadata": {},
     "output_type": "execute_result"
    }
   ],
   "source": [
    "#name이 Choi인 사람의 name, point 값 출력\n",
    "df.loc[df['name'] == \"Choi\", ['name','points']]"
   ]
  },
  {
   "cell_type": "code",
   "execution_count": 84,
   "id": "3792f4ec",
   "metadata": {},
   "outputs": [
    {
     "data": {
      "text/html": [
       "<div>\n",
       "<style scoped>\n",
       "    .dataframe tbody tr th:only-of-type {\n",
       "        vertical-align: middle;\n",
       "    }\n",
       "\n",
       "    .dataframe tbody tr th {\n",
       "        vertical-align: top;\n",
       "    }\n",
       "\n",
       "    .dataframe thead th {\n",
       "        text-align: right;\n",
       "    }\n",
       "</style>\n",
       "<table border=\"1\" class=\"dataframe\">\n",
       "  <thead>\n",
       "    <tr style=\"text-align: right;\">\n",
       "      <th>Info</th>\n",
       "      <th>year</th>\n",
       "      <th>name</th>\n",
       "      <th>points</th>\n",
       "      <th>penalty</th>\n",
       "      <th>debt</th>\n",
       "      <th>zeros</th>\n",
       "      <th>net_points</th>\n",
       "      <th>high_points</th>\n",
       "    </tr>\n",
       "    <tr>\n",
       "      <th>Order</th>\n",
       "      <th></th>\n",
       "      <th></th>\n",
       "      <th></th>\n",
       "      <th></th>\n",
       "      <th></th>\n",
       "      <th></th>\n",
       "      <th></th>\n",
       "      <th></th>\n",
       "    </tr>\n",
       "  </thead>\n",
       "  <tbody>\n",
       "    <tr>\n",
       "      <th>four</th>\n",
       "      <td>2016.0</td>\n",
       "      <td>Kim</td>\n",
       "      <td>2.4</td>\n",
       "      <td>0.4</td>\n",
       "      <td>-1.5</td>\n",
       "      <td>3.0</td>\n",
       "      <td>2.0</td>\n",
       "      <td>False</td>\n",
       "    </tr>\n",
       "    <tr>\n",
       "      <th>five</th>\n",
       "      <td>2017.0</td>\n",
       "      <td>Park</td>\n",
       "      <td>2.9</td>\n",
       "      <td>0.5</td>\n",
       "      <td>-1.7</td>\n",
       "      <td>4.0</td>\n",
       "      <td>2.4</td>\n",
       "      <td>True</td>\n",
       "    </tr>\n",
       "  </tbody>\n",
       "</table>\n",
       "</div>"
      ],
      "text/plain": [
       "Info     year  name  points  penalty  debt  zeros  net_points high_points\n",
       "Order                                                                    \n",
       "four   2016.0   Kim     2.4      0.4  -1.5    3.0         2.0       False\n",
       "five   2017.0  Park     2.9      0.5  -1.7    4.0         2.4        True"
      ]
     },
     "execution_count": 84,
     "metadata": {},
     "output_type": "execute_result"
    }
   ],
   "source": [
    "#numpy에서와 같이 논리연산을 응용 가능. \n",
    "df.loc[(df[\"points\"] > 2) & (df[\"points\"]<3), :]"
   ]
  },
  {
   "cell_type": "code",
   "execution_count": 85,
   "id": "bb5fd687",
   "metadata": {},
   "outputs": [
    {
     "data": {
      "text/html": [
       "<div>\n",
       "<style scoped>\n",
       "    .dataframe tbody tr th:only-of-type {\n",
       "        vertical-align: middle;\n",
       "    }\n",
       "\n",
       "    .dataframe tbody tr th {\n",
       "        vertical-align: top;\n",
       "    }\n",
       "\n",
       "    .dataframe thead th {\n",
       "        text-align: right;\n",
       "    }\n",
       "</style>\n",
       "<table border=\"1\" class=\"dataframe\">\n",
       "  <thead>\n",
       "    <tr style=\"text-align: right;\">\n",
       "      <th></th>\n",
       "      <th>0</th>\n",
       "      <th>1</th>\n",
       "      <th>2</th>\n",
       "      <th>3</th>\n",
       "    </tr>\n",
       "  </thead>\n",
       "  <tbody>\n",
       "    <tr>\n",
       "      <th>0</th>\n",
       "      <td>0.843134</td>\n",
       "      <td>-0.292331</td>\n",
       "      <td>-0.036254</td>\n",
       "      <td>1.360505</td>\n",
       "    </tr>\n",
       "    <tr>\n",
       "      <th>1</th>\n",
       "      <td>-0.093411</td>\n",
       "      <td>-1.251340</td>\n",
       "      <td>-0.938361</td>\n",
       "      <td>-1.574806</td>\n",
       "    </tr>\n",
       "    <tr>\n",
       "      <th>2</th>\n",
       "      <td>-0.477276</td>\n",
       "      <td>0.603332</td>\n",
       "      <td>-0.144123</td>\n",
       "      <td>0.282298</td>\n",
       "    </tr>\n",
       "    <tr>\n",
       "      <th>3</th>\n",
       "      <td>-1.840545</td>\n",
       "      <td>0.263544</td>\n",
       "      <td>-0.813880</td>\n",
       "      <td>-0.215897</td>\n",
       "    </tr>\n",
       "    <tr>\n",
       "      <th>4</th>\n",
       "      <td>-0.354693</td>\n",
       "      <td>0.396254</td>\n",
       "      <td>0.561136</td>\n",
       "      <td>1.169666</td>\n",
       "    </tr>\n",
       "    <tr>\n",
       "      <th>5</th>\n",
       "      <td>-1.933788</td>\n",
       "      <td>0.900496</td>\n",
       "      <td>0.303236</td>\n",
       "      <td>0.529268</td>\n",
       "    </tr>\n",
       "  </tbody>\n",
       "</table>\n",
       "</div>"
      ],
      "text/plain": [
       "          0         1         2         3\n",
       "0  0.843134 -0.292331 -0.036254  1.360505\n",
       "1 -0.093411 -1.251340 -0.938361 -1.574806\n",
       "2 -0.477276  0.603332 -0.144123  0.282298\n",
       "3 -1.840545  0.263544 -0.813880 -0.215897\n",
       "4 -0.354693  0.396254  0.561136  1.169666\n",
       "5 -1.933788  0.900496  0.303236  0.529268"
      ]
     },
     "execution_count": 85,
     "metadata": {},
     "output_type": "execute_result"
    }
   ],
   "source": [
    "# DataFrame을 만들때 index, column을 설정하지 않으면 기본값으로 0부터 시작하는 정수형 숫자로 입력된다. \n",
    "df = pd.DataFrame(np.random.randn(6,4)) \n",
    "df "
   ]
  },
  {
   "cell_type": "code",
   "execution_count": 87,
   "id": "934ff9f7",
   "metadata": {},
   "outputs": [
    {
     "data": {
      "text/html": [
       "<div>\n",
       "<style scoped>\n",
       "    .dataframe tbody tr th:only-of-type {\n",
       "        vertical-align: middle;\n",
       "    }\n",
       "\n",
       "    .dataframe tbody tr th {\n",
       "        vertical-align: top;\n",
       "    }\n",
       "\n",
       "    .dataframe thead th {\n",
       "        text-align: right;\n",
       "    }\n",
       "</style>\n",
       "<table border=\"1\" class=\"dataframe\">\n",
       "  <thead>\n",
       "    <tr style=\"text-align: right;\">\n",
       "      <th></th>\n",
       "      <th>A</th>\n",
       "      <th>B</th>\n",
       "      <th>C</th>\n",
       "      <th>D</th>\n",
       "    </tr>\n",
       "  </thead>\n",
       "  <tbody>\n",
       "    <tr>\n",
       "      <th>0</th>\n",
       "      <td>0.843134</td>\n",
       "      <td>-0.292331</td>\n",
       "      <td>-0.036254</td>\n",
       "      <td>1.360505</td>\n",
       "    </tr>\n",
       "    <tr>\n",
       "      <th>1</th>\n",
       "      <td>-0.093411</td>\n",
       "      <td>-1.251340</td>\n",
       "      <td>-0.938361</td>\n",
       "      <td>-1.574806</td>\n",
       "    </tr>\n",
       "    <tr>\n",
       "      <th>2</th>\n",
       "      <td>-0.477276</td>\n",
       "      <td>0.603332</td>\n",
       "      <td>-0.144123</td>\n",
       "      <td>0.282298</td>\n",
       "    </tr>\n",
       "    <tr>\n",
       "      <th>3</th>\n",
       "      <td>-1.840545</td>\n",
       "      <td>0.263544</td>\n",
       "      <td>-0.813880</td>\n",
       "      <td>-0.215897</td>\n",
       "    </tr>\n",
       "    <tr>\n",
       "      <th>4</th>\n",
       "      <td>-0.354693</td>\n",
       "      <td>0.396254</td>\n",
       "      <td>0.561136</td>\n",
       "      <td>1.169666</td>\n",
       "    </tr>\n",
       "    <tr>\n",
       "      <th>5</th>\n",
       "      <td>-1.933788</td>\n",
       "      <td>0.900496</td>\n",
       "      <td>0.303236</td>\n",
       "      <td>0.529268</td>\n",
       "    </tr>\n",
       "  </tbody>\n",
       "</table>\n",
       "</div>"
      ],
      "text/plain": [
       "          A         B         C         D\n",
       "0  0.843134 -0.292331 -0.036254  1.360505\n",
       "1 -0.093411 -1.251340 -0.938361 -1.574806\n",
       "2 -0.477276  0.603332 -0.144123  0.282298\n",
       "3 -1.840545  0.263544 -0.813880 -0.215897\n",
       "4 -0.354693  0.396254  0.561136  1.169666\n",
       "5 -1.933788  0.900496  0.303236  0.529268"
      ]
     },
     "execution_count": 87,
     "metadata": {},
     "output_type": "execute_result"
    }
   ],
   "source": [
    "#columns 값 지정\n",
    "df.columns = [\"A\", \"B\", \"C\", \"D\"] \n",
    "df"
   ]
  },
  {
   "cell_type": "code",
   "execution_count": 95,
   "id": "0e1cab02",
   "metadata": {},
   "outputs": [
    {
     "name": "stdout",
     "output_type": "stream",
     "text": [
      "DatetimeIndex(['2022-07-01', '2022-07-02', '2022-07-03', '2022-07-04',\n",
      "               '2022-07-05', '2022-07-06'],\n",
      "              dtype='datetime64[ns]', freq='D')\n"
     ]
    },
    {
     "data": {
      "text/html": [
       "<div>\n",
       "<style scoped>\n",
       "    .dataframe tbody tr th:only-of-type {\n",
       "        vertical-align: middle;\n",
       "    }\n",
       "\n",
       "    .dataframe tbody tr th {\n",
       "        vertical-align: top;\n",
       "    }\n",
       "\n",
       "    .dataframe thead th {\n",
       "        text-align: right;\n",
       "    }\n",
       "</style>\n",
       "<table border=\"1\" class=\"dataframe\">\n",
       "  <thead>\n",
       "    <tr style=\"text-align: right;\">\n",
       "      <th></th>\n",
       "      <th>A</th>\n",
       "      <th>B</th>\n",
       "      <th>C</th>\n",
       "      <th>D</th>\n",
       "    </tr>\n",
       "  </thead>\n",
       "  <tbody>\n",
       "    <tr>\n",
       "      <th>2022-07-01</th>\n",
       "      <td>0.843134</td>\n",
       "      <td>-0.292331</td>\n",
       "      <td>-0.036254</td>\n",
       "      <td>1.360505</td>\n",
       "    </tr>\n",
       "    <tr>\n",
       "      <th>2022-07-02</th>\n",
       "      <td>-0.093411</td>\n",
       "      <td>-1.251340</td>\n",
       "      <td>-0.938361</td>\n",
       "      <td>-1.574806</td>\n",
       "    </tr>\n",
       "    <tr>\n",
       "      <th>2022-07-03</th>\n",
       "      <td>-0.477276</td>\n",
       "      <td>0.603332</td>\n",
       "      <td>-0.144123</td>\n",
       "      <td>0.282298</td>\n",
       "    </tr>\n",
       "    <tr>\n",
       "      <th>2022-07-04</th>\n",
       "      <td>-1.840545</td>\n",
       "      <td>0.263544</td>\n",
       "      <td>-0.813880</td>\n",
       "      <td>-0.215897</td>\n",
       "    </tr>\n",
       "    <tr>\n",
       "      <th>2022-07-05</th>\n",
       "      <td>-0.354693</td>\n",
       "      <td>0.396254</td>\n",
       "      <td>0.561136</td>\n",
       "      <td>1.169666</td>\n",
       "    </tr>\n",
       "    <tr>\n",
       "      <th>2022-07-06</th>\n",
       "      <td>-1.933788</td>\n",
       "      <td>0.900496</td>\n",
       "      <td>0.303236</td>\n",
       "      <td>0.529268</td>\n",
       "    </tr>\n",
       "  </tbody>\n",
       "</table>\n",
       "</div>"
      ],
      "text/plain": [
       "                   A         B         C         D\n",
       "2022-07-01  0.843134 -0.292331 -0.036254  1.360505\n",
       "2022-07-02 -0.093411 -1.251340 -0.938361 -1.574806\n",
       "2022-07-03 -0.477276  0.603332 -0.144123  0.282298\n",
       "2022-07-04 -1.840545  0.263544 -0.813880 -0.215897\n",
       "2022-07-05 -0.354693  0.396254  0.561136  1.169666\n",
       "2022-07-06 -1.933788  0.900496  0.303236  0.529268"
      ]
     },
     "execution_count": 95,
     "metadata": {},
     "output_type": "execute_result"
    }
   ],
   "source": [
    "#pandas에서 제공하는 date range함수는 datetime 자료형으로 구성된, 날짜/시간 함수 \n",
    "df.index = pd.date_range('20220701', periods=6) \n",
    "print(df.index) #2022-07.01부터 추가한 6개의 데이트 값 확인\n",
    "df"
   ]
  },
  {
   "cell_type": "code",
   "execution_count": 101,
   "id": "0d48a283",
   "metadata": {},
   "outputs": [
    {
     "data": {
      "text/html": [
       "<div>\n",
       "<style scoped>\n",
       "    .dataframe tbody tr th:only-of-type {\n",
       "        vertical-align: middle;\n",
       "    }\n",
       "\n",
       "    .dataframe tbody tr th {\n",
       "        vertical-align: top;\n",
       "    }\n",
       "\n",
       "    .dataframe thead th {\n",
       "        text-align: right;\n",
       "    }\n",
       "</style>\n",
       "<table border=\"1\" class=\"dataframe\">\n",
       "  <thead>\n",
       "    <tr style=\"text-align: right;\">\n",
       "      <th></th>\n",
       "      <th>A</th>\n",
       "      <th>B</th>\n",
       "      <th>C</th>\n",
       "      <th>D</th>\n",
       "      <th>F</th>\n",
       "    </tr>\n",
       "  </thead>\n",
       "  <tbody>\n",
       "    <tr>\n",
       "      <th>2022-07-01</th>\n",
       "      <td>0.843134</td>\n",
       "      <td>-0.292331</td>\n",
       "      <td>-0.036254</td>\n",
       "      <td>1.360505</td>\n",
       "      <td>1.0</td>\n",
       "    </tr>\n",
       "    <tr>\n",
       "      <th>2022-07-02</th>\n",
       "      <td>-0.093411</td>\n",
       "      <td>-1.251340</td>\n",
       "      <td>-0.938361</td>\n",
       "      <td>-1.574806</td>\n",
       "      <td>NaN</td>\n",
       "    </tr>\n",
       "    <tr>\n",
       "      <th>2022-07-03</th>\n",
       "      <td>-0.477276</td>\n",
       "      <td>0.603332</td>\n",
       "      <td>-0.144123</td>\n",
       "      <td>0.282298</td>\n",
       "      <td>3.5</td>\n",
       "    </tr>\n",
       "    <tr>\n",
       "      <th>2022-07-04</th>\n",
       "      <td>-1.840545</td>\n",
       "      <td>0.263544</td>\n",
       "      <td>-0.813880</td>\n",
       "      <td>-0.215897</td>\n",
       "      <td>6.1</td>\n",
       "    </tr>\n",
       "    <tr>\n",
       "      <th>2022-07-05</th>\n",
       "      <td>-0.354693</td>\n",
       "      <td>0.396254</td>\n",
       "      <td>0.561136</td>\n",
       "      <td>1.169666</td>\n",
       "      <td>NaN</td>\n",
       "    </tr>\n",
       "    <tr>\n",
       "      <th>2022-07-06</th>\n",
       "      <td>-1.933788</td>\n",
       "      <td>0.900496</td>\n",
       "      <td>0.303236</td>\n",
       "      <td>0.529268</td>\n",
       "      <td>7.0</td>\n",
       "    </tr>\n",
       "  </tbody>\n",
       "</table>\n",
       "</div>"
      ],
      "text/plain": [
       "                   A         B         C         D    F\n",
       "2022-07-01  0.843134 -0.292331 -0.036254  1.360505  1.0\n",
       "2022-07-02 -0.093411 -1.251340 -0.938361 -1.574806  NaN\n",
       "2022-07-03 -0.477276  0.603332 -0.144123  0.282298  3.5\n",
       "2022-07-04 -1.840545  0.263544 -0.813880 -0.215897  6.1\n",
       "2022-07-05 -0.354693  0.396254  0.561136  1.169666  NaN\n",
       "2022-07-06 -1.933788  0.900496  0.303236  0.529268  7.0"
      ]
     },
     "execution_count": 101,
     "metadata": {},
     "output_type": "execute_result"
    }
   ],
   "source": [
    "#numpy로 결측치 다루기, np.nan은 NaN값을 의미\n",
    "df[\"F\"] = [1.0, np.nan, 3.5, 6.1, np.nan, 7.0] \n",
    "df"
   ]
  },
  {
   "cell_type": "code",
   "execution_count": 104,
   "id": "a30f843d",
   "metadata": {},
   "outputs": [
    {
     "data": {
      "text/html": [
       "<div>\n",
       "<style scoped>\n",
       "    .dataframe tbody tr th:only-of-type {\n",
       "        vertical-align: middle;\n",
       "    }\n",
       "\n",
       "    .dataframe tbody tr th {\n",
       "        vertical-align: top;\n",
       "    }\n",
       "\n",
       "    .dataframe thead th {\n",
       "        text-align: right;\n",
       "    }\n",
       "</style>\n",
       "<table border=\"1\" class=\"dataframe\">\n",
       "  <thead>\n",
       "    <tr style=\"text-align: right;\">\n",
       "      <th></th>\n",
       "      <th>A</th>\n",
       "      <th>B</th>\n",
       "      <th>C</th>\n",
       "      <th>D</th>\n",
       "      <th>F</th>\n",
       "    </tr>\n",
       "  </thead>\n",
       "  <tbody>\n",
       "    <tr>\n",
       "      <th>2022-07-01</th>\n",
       "      <td>0.843134</td>\n",
       "      <td>-0.292331</td>\n",
       "      <td>-0.036254</td>\n",
       "      <td>1.360505</td>\n",
       "      <td>1.0</td>\n",
       "    </tr>\n",
       "    <tr>\n",
       "      <th>2022-07-03</th>\n",
       "      <td>-0.477276</td>\n",
       "      <td>0.603332</td>\n",
       "      <td>-0.144123</td>\n",
       "      <td>0.282298</td>\n",
       "      <td>3.5</td>\n",
       "    </tr>\n",
       "    <tr>\n",
       "      <th>2022-07-04</th>\n",
       "      <td>-1.840545</td>\n",
       "      <td>0.263544</td>\n",
       "      <td>-0.813880</td>\n",
       "      <td>-0.215897</td>\n",
       "      <td>6.1</td>\n",
       "    </tr>\n",
       "    <tr>\n",
       "      <th>2022-07-06</th>\n",
       "      <td>-1.933788</td>\n",
       "      <td>0.900496</td>\n",
       "      <td>0.303236</td>\n",
       "      <td>0.529268</td>\n",
       "      <td>7.0</td>\n",
       "    </tr>\n",
       "  </tbody>\n",
       "</table>\n",
       "</div>"
      ],
      "text/plain": [
       "                   A         B         C         D    F\n",
       "2022-07-01  0.843134 -0.292331 -0.036254  1.360505  1.0\n",
       "2022-07-03 -0.477276  0.603332 -0.144123  0.282298  3.5\n",
       "2022-07-04 -1.840545  0.263544 -0.813880 -0.215897  6.1\n",
       "2022-07-06 -1.933788  0.900496  0.303236  0.529268  7.0"
      ]
     },
     "execution_count": 104,
     "metadata": {},
     "output_type": "execute_result"
    }
   ],
   "source": [
    "#dropna 함수는 값이 nan인 경우 그 행을 제거, 파라미터 how의 default 값은 any \n",
    "df.dropna() "
   ]
  },
  {
   "cell_type": "code",
   "execution_count": 105,
   "id": "62aa8aaf",
   "metadata": {},
   "outputs": [
    {
     "data": {
      "text/html": [
       "<div>\n",
       "<style scoped>\n",
       "    .dataframe tbody tr th:only-of-type {\n",
       "        vertical-align: middle;\n",
       "    }\n",
       "\n",
       "    .dataframe tbody tr th {\n",
       "        vertical-align: top;\n",
       "    }\n",
       "\n",
       "    .dataframe thead th {\n",
       "        text-align: right;\n",
       "    }\n",
       "</style>\n",
       "<table border=\"1\" class=\"dataframe\">\n",
       "  <thead>\n",
       "    <tr style=\"text-align: right;\">\n",
       "      <th></th>\n",
       "      <th>A</th>\n",
       "      <th>B</th>\n",
       "      <th>C</th>\n",
       "      <th>D</th>\n",
       "      <th>F</th>\n",
       "    </tr>\n",
       "  </thead>\n",
       "  <tbody>\n",
       "    <tr>\n",
       "      <th>2022-07-01</th>\n",
       "      <td>0.843134</td>\n",
       "      <td>-0.292331</td>\n",
       "      <td>-0.036254</td>\n",
       "      <td>1.360505</td>\n",
       "      <td>1.0</td>\n",
       "    </tr>\n",
       "    <tr>\n",
       "      <th>2022-07-02</th>\n",
       "      <td>-0.093411</td>\n",
       "      <td>-1.251340</td>\n",
       "      <td>-0.938361</td>\n",
       "      <td>-1.574806</td>\n",
       "      <td>NaN</td>\n",
       "    </tr>\n",
       "    <tr>\n",
       "      <th>2022-07-03</th>\n",
       "      <td>-0.477276</td>\n",
       "      <td>0.603332</td>\n",
       "      <td>-0.144123</td>\n",
       "      <td>0.282298</td>\n",
       "      <td>3.5</td>\n",
       "    </tr>\n",
       "    <tr>\n",
       "      <th>2022-07-04</th>\n",
       "      <td>-1.840545</td>\n",
       "      <td>0.263544</td>\n",
       "      <td>-0.813880</td>\n",
       "      <td>-0.215897</td>\n",
       "      <td>6.1</td>\n",
       "    </tr>\n",
       "    <tr>\n",
       "      <th>2022-07-05</th>\n",
       "      <td>-0.354693</td>\n",
       "      <td>0.396254</td>\n",
       "      <td>0.561136</td>\n",
       "      <td>1.169666</td>\n",
       "      <td>NaN</td>\n",
       "    </tr>\n",
       "    <tr>\n",
       "      <th>2022-07-06</th>\n",
       "      <td>-1.933788</td>\n",
       "      <td>0.900496</td>\n",
       "      <td>0.303236</td>\n",
       "      <td>0.529268</td>\n",
       "      <td>7.0</td>\n",
       "    </tr>\n",
       "  </tbody>\n",
       "</table>\n",
       "</div>"
      ],
      "text/plain": [
       "                   A         B         C         D    F\n",
       "2022-07-01  0.843134 -0.292331 -0.036254  1.360505  1.0\n",
       "2022-07-02 -0.093411 -1.251340 -0.938361 -1.574806  NaN\n",
       "2022-07-03 -0.477276  0.603332 -0.144123  0.282298  3.5\n",
       "2022-07-04 -1.840545  0.263544 -0.813880 -0.215897  6.1\n",
       "2022-07-05 -0.354693  0.396254  0.561136  1.169666  NaN\n",
       "2022-07-06 -1.933788  0.900496  0.303236  0.529268  7.0"
      ]
     },
     "execution_count": 105,
     "metadata": {},
     "output_type": "execute_result"
    }
   ],
   "source": [
    "#파라미터 how의 값을 all 지정해주면 모든 값이 nan인 경우만 그 행을 제거\n",
    "df.dropna(how='all')"
   ]
  },
  {
   "cell_type": "code",
   "execution_count": 106,
   "id": "d5321d04",
   "metadata": {},
   "outputs": [
    {
     "data": {
      "text/html": [
       "<div>\n",
       "<style scoped>\n",
       "    .dataframe tbody tr th:only-of-type {\n",
       "        vertical-align: middle;\n",
       "    }\n",
       "\n",
       "    .dataframe tbody tr th {\n",
       "        vertical-align: top;\n",
       "    }\n",
       "\n",
       "    .dataframe thead th {\n",
       "        text-align: right;\n",
       "    }\n",
       "</style>\n",
       "<table border=\"1\" class=\"dataframe\">\n",
       "  <thead>\n",
       "    <tr style=\"text-align: right;\">\n",
       "      <th></th>\n",
       "      <th>A</th>\n",
       "      <th>B</th>\n",
       "      <th>C</th>\n",
       "      <th>D</th>\n",
       "      <th>F</th>\n",
       "    </tr>\n",
       "  </thead>\n",
       "  <tbody>\n",
       "    <tr>\n",
       "      <th>2022-07-01</th>\n",
       "      <td>0.843134</td>\n",
       "      <td>-0.292331</td>\n",
       "      <td>-0.036254</td>\n",
       "      <td>1.360505</td>\n",
       "      <td>1.0</td>\n",
       "    </tr>\n",
       "    <tr>\n",
       "      <th>2022-07-02</th>\n",
       "      <td>-0.093411</td>\n",
       "      <td>-1.251340</td>\n",
       "      <td>-0.938361</td>\n",
       "      <td>-1.574806</td>\n",
       "      <td>0.5</td>\n",
       "    </tr>\n",
       "    <tr>\n",
       "      <th>2022-07-03</th>\n",
       "      <td>-0.477276</td>\n",
       "      <td>0.603332</td>\n",
       "      <td>-0.144123</td>\n",
       "      <td>0.282298</td>\n",
       "      <td>3.5</td>\n",
       "    </tr>\n",
       "    <tr>\n",
       "      <th>2022-07-04</th>\n",
       "      <td>-1.840545</td>\n",
       "      <td>0.263544</td>\n",
       "      <td>-0.813880</td>\n",
       "      <td>-0.215897</td>\n",
       "      <td>6.1</td>\n",
       "    </tr>\n",
       "    <tr>\n",
       "      <th>2022-07-05</th>\n",
       "      <td>-0.354693</td>\n",
       "      <td>0.396254</td>\n",
       "      <td>0.561136</td>\n",
       "      <td>1.169666</td>\n",
       "      <td>0.5</td>\n",
       "    </tr>\n",
       "    <tr>\n",
       "      <th>2022-07-06</th>\n",
       "      <td>-1.933788</td>\n",
       "      <td>0.900496</td>\n",
       "      <td>0.303236</td>\n",
       "      <td>0.529268</td>\n",
       "      <td>7.0</td>\n",
       "    </tr>\n",
       "  </tbody>\n",
       "</table>\n",
       "</div>"
      ],
      "text/plain": [
       "                   A         B         C         D    F\n",
       "2022-07-01  0.843134 -0.292331 -0.036254  1.360505  1.0\n",
       "2022-07-02 -0.093411 -1.251340 -0.938361 -1.574806  0.5\n",
       "2022-07-03 -0.477276  0.603332 -0.144123  0.282298  3.5\n",
       "2022-07-04 -1.840545  0.263544 -0.813880 -0.215897  6.1\n",
       "2022-07-05 -0.354693  0.396254  0.561136  1.169666  0.5\n",
       "2022-07-06 -1.933788  0.900496  0.303236  0.529268  7.0"
      ]
     },
     "execution_count": 106,
     "metadata": {},
     "output_type": "execute_result"
    }
   ],
   "source": [
    "#fillna를 통해 NaN에 특정 value 값 넣기\n",
    "df.fillna(value=0.5)"
   ]
  },
  {
   "cell_type": "code",
   "execution_count": 114,
   "id": "ea582099",
   "metadata": {},
   "outputs": [
    {
     "name": "stdout",
     "output_type": "stream",
     "text": [
      "                   A         B         C         D    F\n",
      "2022-07-02 -0.093411 -1.251340 -0.938361 -1.574806  NaN\n",
      "2022-07-03 -0.477276  0.603332 -0.144123  0.282298  3.5\n",
      "2022-07-04 -1.840545  0.263544 -0.813880 -0.215897  6.1\n",
      "2022-07-05 -0.354693  0.396254  0.561136  1.169666  NaN\n",
      "2022-07-06 -1.933788  0.900496  0.303236  0.529268  7.0 \n",
      "\n",
      "                   A         B         C         D    F\n",
      "2022-07-01  0.843134 -0.292331 -0.036254  1.360505  1.0\n",
      "2022-07-03 -0.477276  0.603332 -0.144123  0.282298  3.5\n",
      "2022-07-05 -0.354693  0.396254  0.561136  1.169666  NaN\n",
      "2022-07-06 -1.933788  0.900496  0.303236  0.529268  7.0\n"
     ]
    }
   ],
   "source": [
    "#특정 행 drop하기 \n",
    "print(df.drop(pd.to_datetime('20220701')), \"\\n\")\n",
    "\n",
    "# 2개 이상도 가능 \n",
    "print(df.drop([pd.to_datetime('20220702'),pd.to_datetime('20220704')]))"
   ]
  },
  {
   "cell_type": "code",
   "execution_count": 116,
   "id": "774a2950",
   "metadata": {},
   "outputs": [
    {
     "name": "stdout",
     "output_type": "stream",
     "text": [
      "                   A         B         C         D\n",
      "2022-07-01  0.843134 -0.292331 -0.036254  1.360505\n",
      "2022-07-02 -0.093411 -1.251340 -0.938361 -1.574806\n",
      "2022-07-03 -0.477276  0.603332 -0.144123  0.282298\n",
      "2022-07-04 -1.840545  0.263544 -0.813880 -0.215897\n",
      "2022-07-05 -0.354693  0.396254  0.561136  1.169666\n",
      "2022-07-06 -1.933788  0.900496  0.303236  0.529268 \n",
      "\n",
      "                   A         C    F\n",
      "2022-07-01  0.843134 -0.036254  1.0\n",
      "2022-07-02 -0.093411 -0.938361  NaN\n",
      "2022-07-03 -0.477276 -0.144123  3.5\n",
      "2022-07-04 -1.840545 -0.813880  6.1\n",
      "2022-07-05 -0.354693  0.561136  NaN\n",
      "2022-07-06 -1.933788  0.303236  7.0 \n",
      "\n"
     ]
    }
   ],
   "source": [
    "#특정 열 삭제하기 \n",
    "print(df.drop('F', axis = 1), \"\\n\")\n",
    "\n",
    "# 2개 이상의 열도 가능 \n",
    "print(df.drop(['B','D'], axis = 1) , \"\\n\")"
   ]
  },
  {
   "cell_type": "code",
   "execution_count": 118,
   "id": "16084cf6",
   "metadata": {},
   "outputs": [
    {
     "data": {
      "text/html": [
       "<div>\n",
       "<style scoped>\n",
       "    .dataframe tbody tr th:only-of-type {\n",
       "        vertical-align: middle;\n",
       "    }\n",
       "\n",
       "    .dataframe tbody tr th {\n",
       "        vertical-align: top;\n",
       "    }\n",
       "\n",
       "    .dataframe thead th {\n",
       "        text-align: right;\n",
       "    }\n",
       "</style>\n",
       "<table border=\"1\" class=\"dataframe\">\n",
       "  <thead>\n",
       "    <tr style=\"text-align: right;\">\n",
       "      <th></th>\n",
       "      <th>c1</th>\n",
       "      <th>c2</th>\n",
       "      <th>c3</th>\n",
       "    </tr>\n",
       "  </thead>\n",
       "  <tbody>\n",
       "    <tr>\n",
       "      <th>0</th>\n",
       "      <td>1</td>\n",
       "      <td>1.11</td>\n",
       "      <td>one</td>\n",
       "    </tr>\n",
       "    <tr>\n",
       "      <th>1</th>\n",
       "      <td>2</td>\n",
       "      <td>2.22</td>\n",
       "      <td>two</td>\n",
       "    </tr>\n",
       "    <tr>\n",
       "      <th>2</th>\n",
       "      <td>3</td>\n",
       "      <td>3.33</td>\n",
       "      <td>three</td>\n",
       "    </tr>\n",
       "  </tbody>\n",
       "</table>\n",
       "</div>"
      ],
      "text/plain": [
       "   c1    c2     c3\n",
       "0   1  1.11    one\n",
       "1   2  2.22    two\n",
       "2   3  3.33  three"
      ]
     },
     "execution_count": 118,
     "metadata": {},
     "output_type": "execute_result"
    }
   ],
   "source": [
    "#pandas 데이터 불러오기\n",
    "pd.read_csv('sample1.csv')"
   ]
  },
  {
   "cell_type": "code",
   "execution_count": 119,
   "id": "d32029ef",
   "metadata": {},
   "outputs": [
    {
     "data": {
      "text/html": [
       "<div>\n",
       "<style scoped>\n",
       "    .dataframe tbody tr th:only-of-type {\n",
       "        vertical-align: middle;\n",
       "    }\n",
       "\n",
       "    .dataframe tbody tr th {\n",
       "        vertical-align: top;\n",
       "    }\n",
       "\n",
       "    .dataframe thead th {\n",
       "        text-align: right;\n",
       "    }\n",
       "</style>\n",
       "<table border=\"1\" class=\"dataframe\">\n",
       "  <thead>\n",
       "    <tr style=\"text-align: right;\">\n",
       "      <th></th>\n",
       "      <th>c2</th>\n",
       "      <th>c3</th>\n",
       "    </tr>\n",
       "    <tr>\n",
       "      <th>c1</th>\n",
       "      <th></th>\n",
       "      <th></th>\n",
       "    </tr>\n",
       "  </thead>\n",
       "  <tbody>\n",
       "    <tr>\n",
       "      <th>1</th>\n",
       "      <td>1.11</td>\n",
       "      <td>one</td>\n",
       "    </tr>\n",
       "    <tr>\n",
       "      <th>2</th>\n",
       "      <td>2.22</td>\n",
       "      <td>two</td>\n",
       "    </tr>\n",
       "    <tr>\n",
       "      <th>3</th>\n",
       "      <td>3.33</td>\n",
       "      <td>three</td>\n",
       "    </tr>\n",
       "  </tbody>\n",
       "</table>\n",
       "</div>"
      ],
      "text/plain": [
       "      c2     c3\n",
       "c1             \n",
       "1   1.11    one\n",
       "2   2.22    two\n",
       "3   3.33  three"
      ]
     },
     "execution_count": 119,
     "metadata": {},
     "output_type": "execute_result"
    }
   ],
   "source": [
    "#c1을 인덱스로 불러오기\n",
    "pd.read_csv('sample1.csv', index_col=\"c1\")"
   ]
  },
  {
   "cell_type": "code",
   "execution_count": 120,
   "id": "5be06864",
   "metadata": {},
   "outputs": [],
   "source": [
    "#pandas를 사용해서 sample6.csv로 데이터 쓰기\n",
    "df.to_csv(\"sample6.csv\")"
   ]
  },
  {
   "cell_type": "code",
   "execution_count": 122,
   "id": "33fc06de",
   "metadata": {},
   "outputs": [
    {
     "data": {
      "text/plain": [
       "0    0\n",
       "1    4\n",
       "2    0\n",
       "3    0\n",
       "4    0\n",
       "dtype: int32"
      ]
     },
     "execution_count": 122,
     "metadata": {},
     "output_type": "execute_result"
    }
   ],
   "source": [
    "#np.random으로 시리즈 생성\n",
    "s = pd.Series(np.random.randint(6, size=100))\n",
    "s.head()"
   ]
  },
  {
   "cell_type": "code",
   "execution_count": 123,
   "id": "a2354883",
   "metadata": {},
   "outputs": [
    {
     "data": {
      "text/plain": [
       "1    23\n",
       "5    18\n",
       "2    18\n",
       "4    15\n",
       "0    13\n",
       "3    13\n",
       "dtype: int64"
      ]
     },
     "execution_count": 123,
     "metadata": {},
     "output_type": "execute_result"
    }
   ],
   "source": [
    "#value_counts 메서드로 값마다 가지고 있는 개수 카운트\n",
    "s.value_counts()"
   ]
  },
  {
   "cell_type": "code",
   "execution_count": 124,
   "id": "2d3bae9a",
   "metadata": {},
   "outputs": [
    {
     "data": {
      "text/plain": [
       "0    13\n",
       "1    23\n",
       "2    18\n",
       "3    13\n",
       "4    15\n",
       "5    18\n",
       "dtype: int64"
      ]
     },
     "execution_count": 124,
     "metadata": {},
     "output_type": "execute_result"
    }
   ],
   "source": [
    "# sort_index 메서드로 정렬하기\n",
    "s.value_counts().sort_index()"
   ]
  },
  {
   "cell_type": "code",
   "execution_count": 125,
   "id": "15e78fa7",
   "metadata": {},
   "outputs": [
    {
     "data": {
      "text/plain": [
       "99    5\n",
       "81    5\n",
       "61    5\n",
       "18    5\n",
       "68    5\n",
       "     ..\n",
       "71    0\n",
       "24    0\n",
       "43    0\n",
       "34    0\n",
       "0     0\n",
       "Length: 100, dtype: int32"
      ]
     },
     "execution_count": 125,
     "metadata": {},
     "output_type": "execute_result"
    }
   ],
   "source": [
    "# ascending=False 인자로 내림차순 정리\n",
    "s.sort_values(ascending=False)"
   ]
  },
  {
   "cell_type": "code",
   "execution_count": 126,
   "id": "2f059607",
   "metadata": {},
   "outputs": [
    {
     "data": {
      "text/html": [
       "<div>\n",
       "<style scoped>\n",
       "    .dataframe tbody tr th:only-of-type {\n",
       "        vertical-align: middle;\n",
       "    }\n",
       "\n",
       "    .dataframe tbody tr th {\n",
       "        vertical-align: top;\n",
       "    }\n",
       "\n",
       "    .dataframe thead th {\n",
       "        text-align: right;\n",
       "    }\n",
       "</style>\n",
       "<table border=\"1\" class=\"dataframe\">\n",
       "  <thead>\n",
       "    <tr style=\"text-align: right;\">\n",
       "      <th></th>\n",
       "      <th>A</th>\n",
       "      <th>B</th>\n",
       "      <th>C</th>\n",
       "    </tr>\n",
       "  </thead>\n",
       "  <tbody>\n",
       "    <tr>\n",
       "      <th>0</th>\n",
       "      <td>1</td>\n",
       "      <td>2</td>\n",
       "      <td>1</td>\n",
       "    </tr>\n",
       "    <tr>\n",
       "      <th>1</th>\n",
       "      <td>3</td>\n",
       "      <td>3</td>\n",
       "      <td>5</td>\n",
       "    </tr>\n",
       "    <tr>\n",
       "      <th>2</th>\n",
       "      <td>4</td>\n",
       "      <td>1</td>\n",
       "      <td>2</td>\n",
       "    </tr>\n",
       "    <tr>\n",
       "      <th>3</th>\n",
       "      <td>3</td>\n",
       "      <td>2</td>\n",
       "      <td>4</td>\n",
       "    </tr>\n",
       "    <tr>\n",
       "      <th>4</th>\n",
       "      <td>4</td>\n",
       "      <td>3</td>\n",
       "      <td>4</td>\n",
       "    </tr>\n",
       "  </tbody>\n",
       "</table>\n",
       "</div>"
      ],
      "text/plain": [
       "   A  B  C\n",
       "0  1  2  1\n",
       "1  3  3  5\n",
       "2  4  1  2\n",
       "3  3  2  4\n",
       "4  4  3  4"
      ]
     },
     "execution_count": 126,
     "metadata": {},
     "output_type": "execute_result"
    }
   ],
   "source": [
    "#apply 함수와 lambda 함수\n",
    "\n",
    "#실습용 데이터 프레임 생성\n",
    "df = pd.DataFrame({\n",
    "    'A': [1, 3, 4, 3, 4],\n",
    "    'B': [2, 3, 1, 2, 3],\n",
    "    'C': [1, 5, 2, 4, 4]\n",
    "})\n",
    "df"
   ]
  },
  {
   "cell_type": "code",
   "execution_count": 127,
   "id": "a90894a6",
   "metadata": {},
   "outputs": [
    {
     "data": {
      "text/plain": [
       "A    3\n",
       "B    2\n",
       "C    4\n",
       "dtype: int64"
      ]
     },
     "execution_count": 127,
     "metadata": {},
     "output_type": "execute_result"
    }
   ],
   "source": [
    "#람다 함수 사용해서 열에서 가장 큰 값과 작은 값 뺼셈 수행\n",
    "df.apply(lambda x: x.max() - x.min())"
   ]
  },
  {
   "cell_type": "code",
   "execution_count": 128,
   "id": "c0a714cf",
   "metadata": {},
   "outputs": [
    {
     "data": {
      "text/plain": [
       "0    1\n",
       "1    2\n",
       "2    3\n",
       "3    2\n",
       "4    1\n",
       "dtype: int64"
      ]
     },
     "execution_count": 128,
     "metadata": {},
     "output_type": "execute_result"
    }
   ],
   "source": [
    "#행에 대해 적용하고 싶으면 axis=1 인수 사용\n",
    "df.apply(lambda x: x.max() - x.min(), axis=1)"
   ]
  },
  {
   "cell_type": "code",
   "execution_count": 129,
   "id": "aa5cfb3a",
   "metadata": {},
   "outputs": [
    {
     "data": {
      "text/html": [
       "<div>\n",
       "<style scoped>\n",
       "    .dataframe tbody tr th:only-of-type {\n",
       "        vertical-align: middle;\n",
       "    }\n",
       "\n",
       "    .dataframe tbody tr th {\n",
       "        vertical-align: top;\n",
       "    }\n",
       "\n",
       "    .dataframe thead th {\n",
       "        text-align: right;\n",
       "    }\n",
       "</style>\n",
       "<table border=\"1\" class=\"dataframe\">\n",
       "  <thead>\n",
       "    <tr style=\"text-align: right;\">\n",
       "      <th></th>\n",
       "      <th>A</th>\n",
       "      <th>B</th>\n",
       "      <th>C</th>\n",
       "    </tr>\n",
       "  </thead>\n",
       "  <tbody>\n",
       "    <tr>\n",
       "      <th>1</th>\n",
       "      <td>1.0</td>\n",
       "      <td>1.0</td>\n",
       "      <td>1.0</td>\n",
       "    </tr>\n",
       "    <tr>\n",
       "      <th>2</th>\n",
       "      <td>NaN</td>\n",
       "      <td>2.0</td>\n",
       "      <td>1.0</td>\n",
       "    </tr>\n",
       "    <tr>\n",
       "      <th>3</th>\n",
       "      <td>2.0</td>\n",
       "      <td>2.0</td>\n",
       "      <td>NaN</td>\n",
       "    </tr>\n",
       "    <tr>\n",
       "      <th>4</th>\n",
       "      <td>2.0</td>\n",
       "      <td>NaN</td>\n",
       "      <td>2.0</td>\n",
       "    </tr>\n",
       "    <tr>\n",
       "      <th>5</th>\n",
       "      <td>NaN</td>\n",
       "      <td>NaN</td>\n",
       "      <td>1.0</td>\n",
       "    </tr>\n",
       "  </tbody>\n",
       "</table>\n",
       "</div>"
      ],
      "text/plain": [
       "     A    B    C\n",
       "1  1.0  1.0  1.0\n",
       "2  NaN  2.0  1.0\n",
       "3  2.0  2.0  NaN\n",
       "4  2.0  NaN  2.0\n",
       "5  NaN  NaN  1.0"
      ]
     },
     "execution_count": 129,
     "metadata": {},
     "output_type": "execute_result"
    }
   ],
   "source": [
    "#apply 함수로 value_counts로 값의 수를 반환\n",
    "df.apply(pd.value_counts)"
   ]
  },
  {
   "cell_type": "code",
   "execution_count": 130,
   "id": "178f3b8f",
   "metadata": {},
   "outputs": [
    {
     "data": {
      "text/html": [
       "<div>\n",
       "<style scoped>\n",
       "    .dataframe tbody tr th:only-of-type {\n",
       "        vertical-align: middle;\n",
       "    }\n",
       "\n",
       "    .dataframe tbody tr th {\n",
       "        vertical-align: top;\n",
       "    }\n",
       "\n",
       "    .dataframe thead th {\n",
       "        text-align: right;\n",
       "    }\n",
       "</style>\n",
       "<table border=\"1\" class=\"dataframe\">\n",
       "  <thead>\n",
       "    <tr style=\"text-align: right;\">\n",
       "      <th></th>\n",
       "      <th>A</th>\n",
       "      <th>B</th>\n",
       "      <th>C</th>\n",
       "    </tr>\n",
       "  </thead>\n",
       "  <tbody>\n",
       "    <tr>\n",
       "      <th>1</th>\n",
       "      <td>1</td>\n",
       "      <td>1</td>\n",
       "      <td>1</td>\n",
       "    </tr>\n",
       "    <tr>\n",
       "      <th>2</th>\n",
       "      <td>0</td>\n",
       "      <td>2</td>\n",
       "      <td>1</td>\n",
       "    </tr>\n",
       "    <tr>\n",
       "      <th>3</th>\n",
       "      <td>2</td>\n",
       "      <td>2</td>\n",
       "      <td>0</td>\n",
       "    </tr>\n",
       "    <tr>\n",
       "      <th>4</th>\n",
       "      <td>2</td>\n",
       "      <td>0</td>\n",
       "      <td>2</td>\n",
       "    </tr>\n",
       "    <tr>\n",
       "      <th>5</th>\n",
       "      <td>0</td>\n",
       "      <td>0</td>\n",
       "      <td>1</td>\n",
       "    </tr>\n",
       "  </tbody>\n",
       "</table>\n",
       "</div>"
      ],
      "text/plain": [
       "   A  B  C\n",
       "1  1  1  1\n",
       "2  0  2  1\n",
       "3  2  2  0\n",
       "4  2  0  2\n",
       "5  0  0  1"
      ]
     },
     "execution_count": 130,
     "metadata": {},
     "output_type": "execute_result"
    }
   ],
   "source": [
    "#NaN 결측치는 fillna()를 통해 채울 수 있음, astype(int)로 정수형으로 변환\n",
    "df.apply(pd.value_counts).fillna(0).astype(int)"
   ]
  },
  {
   "cell_type": "code",
   "execution_count": 131,
   "id": "96026d29",
   "metadata": {},
   "outputs": [
    {
     "data": {
      "text/html": [
       "<div>\n",
       "<style scoped>\n",
       "    .dataframe tbody tr th:only-of-type {\n",
       "        vertical-align: middle;\n",
       "    }\n",
       "\n",
       "    .dataframe tbody tr th {\n",
       "        vertical-align: top;\n",
       "    }\n",
       "\n",
       "    .dataframe thead th {\n",
       "        text-align: right;\n",
       "    }\n",
       "</style>\n",
       "<table border=\"1\" class=\"dataframe\">\n",
       "  <thead>\n",
       "    <tr style=\"text-align: right;\">\n",
       "      <th></th>\n",
       "      <th>A</th>\n",
       "      <th>B</th>\n",
       "      <th>C</th>\n",
       "    </tr>\n",
       "  </thead>\n",
       "  <tbody>\n",
       "    <tr>\n",
       "      <th>count</th>\n",
       "      <td>5.000000</td>\n",
       "      <td>5.00000</td>\n",
       "      <td>5.000000</td>\n",
       "    </tr>\n",
       "    <tr>\n",
       "      <th>mean</th>\n",
       "      <td>3.000000</td>\n",
       "      <td>2.20000</td>\n",
       "      <td>3.200000</td>\n",
       "    </tr>\n",
       "    <tr>\n",
       "      <th>std</th>\n",
       "      <td>1.224745</td>\n",
       "      <td>0.83666</td>\n",
       "      <td>1.643168</td>\n",
       "    </tr>\n",
       "    <tr>\n",
       "      <th>min</th>\n",
       "      <td>1.000000</td>\n",
       "      <td>1.00000</td>\n",
       "      <td>1.000000</td>\n",
       "    </tr>\n",
       "    <tr>\n",
       "      <th>25%</th>\n",
       "      <td>3.000000</td>\n",
       "      <td>2.00000</td>\n",
       "      <td>2.000000</td>\n",
       "    </tr>\n",
       "    <tr>\n",
       "      <th>50%</th>\n",
       "      <td>3.000000</td>\n",
       "      <td>2.00000</td>\n",
       "      <td>4.000000</td>\n",
       "    </tr>\n",
       "    <tr>\n",
       "      <th>75%</th>\n",
       "      <td>4.000000</td>\n",
       "      <td>3.00000</td>\n",
       "      <td>4.000000</td>\n",
       "    </tr>\n",
       "    <tr>\n",
       "      <th>max</th>\n",
       "      <td>4.000000</td>\n",
       "      <td>3.00000</td>\n",
       "      <td>5.000000</td>\n",
       "    </tr>\n",
       "  </tbody>\n",
       "</table>\n",
       "</div>"
      ],
      "text/plain": [
       "              A        B         C\n",
       "count  5.000000  5.00000  5.000000\n",
       "mean   3.000000  2.20000  3.200000\n",
       "std    1.224745  0.83666  1.643168\n",
       "min    1.000000  1.00000  1.000000\n",
       "25%    3.000000  2.00000  2.000000\n",
       "50%    3.000000  2.00000  4.000000\n",
       "75%    4.000000  3.00000  4.000000\n",
       "max    4.000000  3.00000  5.000000"
      ]
     },
     "execution_count": 131,
     "metadata": {},
     "output_type": "execute_result"
    }
   ],
   "source": [
    "#describe() 함수는 데이터 프레임의 통계값들을 보여줌\n",
    "df.describe()"
   ]
  },
  {
   "cell_type": "code",
   "execution_count": 132,
   "id": "d509801f",
   "metadata": {},
   "outputs": [
    {
     "data": {
      "text/plain": [
       "DatetimeIndex(['2022-07-01', '2022-07-04', '2022-07-05', '2022-01-06'], dtype='datetime64[ns]', freq=None)"
      ]
     },
     "execution_count": 132,
     "metadata": {},
     "output_type": "execute_result"
    }
   ],
   "source": [
    "#pd.to_datetime 함수\n",
    "date_str = [\"2022, 7, 1\", \"2022, 7, 4\", \"2022, 7, 5\", \"2022, 1, 6\"]\n",
    "\n",
    "idx = pd.to_datetime(date_str)\n",
    "idx"
   ]
  },
  {
   "cell_type": "code",
   "execution_count": 137,
   "id": "c054f062",
   "metadata": {},
   "outputs": [
    {
     "data": {
      "text/plain": [
       "2022-07-01    1.764052\n",
       "2022-07-04    0.400157\n",
       "2022-07-05    0.978738\n",
       "2022-01-06    2.240893\n",
       "dtype: float64"
      ]
     },
     "execution_count": 137,
     "metadata": {},
     "output_type": "execute_result"
    }
   ],
   "source": [
    "#pd.to_datetime을 indxe로 사용하고 random.seed의 난수를 값으로 사용해 데이터 프레임 생성\n",
    "np.random.seed(0)\n",
    "\n",
    "s = pd.Series(np.random.randn(4), index=idx)\n",
    "s"
   ]
  },
  {
   "cell_type": "code",
   "execution_count": 136,
   "id": "f39bce0f",
   "metadata": {},
   "outputs": [
    {
     "data": {
      "text/plain": [
       "DatetimeIndex(['2022-07-01', '2022-07-02', '2022-07-03', '2022-07-04',\n",
       "               '2022-07-05'],\n",
       "              dtype='datetime64[ns]', freq='D')"
      ]
     },
     "execution_count": 136,
     "metadata": {},
     "output_type": "execute_result"
    }
   ],
   "source": [
    "#pd.date_range 함수\n",
    "pd.date_range(\"2022-7-1\", \"2022-7-5\")\n",
    "#== pd.date_range(start=\"2022-7-1\", periods=5)"
   ]
  }
 ],
 "metadata": {
  "kernelspec": {
   "display_name": "Python 3 (ipykernel)",
   "language": "python",
   "name": "python3"
  },
  "language_info": {
   "codemirror_mode": {
    "name": "ipython",
    "version": 3
   },
   "file_extension": ".py",
   "mimetype": "text/x-python",
   "name": "python",
   "nbconvert_exporter": "python",
   "pygments_lexer": "ipython3",
   "version": "3.9.12"
  }
 },
 "nbformat": 4,
 "nbformat_minor": 5
}
