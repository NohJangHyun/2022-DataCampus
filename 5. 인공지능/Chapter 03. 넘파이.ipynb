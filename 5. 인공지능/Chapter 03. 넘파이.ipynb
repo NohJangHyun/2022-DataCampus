{
 "cells": [
  {
   "cell_type": "code",
   "execution_count": 5,
   "id": "28bd84dd",
   "metadata": {},
   "outputs": [
    {
     "name": "stdout",
     "output_type": "stream",
     "text": [
      "[1. 4. 5. 8.]\n"
     ]
    }
   ],
   "source": [
    "import numpy as np\n",
    "test_array = np.array([1, 4, 5, 8], float)\n",
    "print(test_array)"
   ]
  },
  {
   "cell_type": "code",
   "execution_count": 6,
   "id": "e72f43de",
   "metadata": {},
   "outputs": [
    {
     "data": {
      "text/plain": [
       "array([1., 4., 5., 8.])"
      ]
     },
     "execution_count": 6,
     "metadata": {},
     "output_type": "execute_result"
    }
   ],
   "source": [
    "test_array"
   ]
  },
  {
   "cell_type": "code",
   "execution_count": 7,
   "id": "11901ee2",
   "metadata": {},
   "outputs": [
    {
     "data": {
      "text/plain": [
       "numpy.float64"
      ]
     },
     "execution_count": 7,
     "metadata": {},
     "output_type": "execute_result"
    }
   ],
   "source": [
    "type(test_array[3])"
   ]
  },
  {
   "cell_type": "code",
   "execution_count": 9,
   "id": "1414ec5f",
   "metadata": {},
   "outputs": [
    {
     "name": "stdout",
     "output_type": "stream",
     "text": [
      "[1. 4. 5. 8.]\n"
     ]
    }
   ],
   "source": [
    "test_array=np.array([1, 4, 5, \"8\"], float)\n",
    "print(test_array)"
   ]
  },
  {
   "cell_type": "code",
   "execution_count": 10,
   "id": "06c71de6",
   "metadata": {},
   "outputs": [
    {
     "name": "stdout",
     "output_type": "stream",
     "text": [
      "<class 'numpy.float64'>\n"
     ]
    }
   ],
   "source": [
    "print(type(test_array[3]))"
   ]
  },
  {
   "cell_type": "code",
   "execution_count": 11,
   "id": "9900d183",
   "metadata": {},
   "outputs": [
    {
     "name": "stdout",
     "output_type": "stream",
     "text": [
      "float64\n"
     ]
    }
   ],
   "source": [
    "print(test_array.dtype)"
   ]
  },
  {
   "cell_type": "code",
   "execution_count": 12,
   "id": "9ee3506a",
   "metadata": {},
   "outputs": [
    {
     "name": "stdout",
     "output_type": "stream",
     "text": [
      "(4,)\n"
     ]
    }
   ],
   "source": [
    "print(test_array.shape)"
   ]
  },
  {
   "cell_type": "code",
   "execution_count": 14,
   "id": "abb73491",
   "metadata": {},
   "outputs": [
    {
     "ename": "ValueError",
     "evalue": "could not convert string to float: '안녕'",
     "output_type": "error",
     "traceback": [
      "\u001b[1;31m---------------------------------------------------------------------------\u001b[0m",
      "\u001b[1;31mValueError\u001b[0m                                Traceback (most recent call last)",
      "Input \u001b[1;32mIn [14]\u001b[0m, in \u001b[0;36m<cell line: 2>\u001b[1;34m()\u001b[0m\n\u001b[0;32m      1\u001b[0m \u001b[38;5;66;03m#한글로 준 경우 형변환이 안됨 => 에러 발생\u001b[39;00m\n\u001b[1;32m----> 2\u001b[0m test_array\u001b[38;5;241m=\u001b[39m\u001b[43mnp\u001b[49m\u001b[38;5;241;43m.\u001b[39;49m\u001b[43marray\u001b[49m\u001b[43m(\u001b[49m\u001b[43m[\u001b[49m\u001b[38;5;241;43m1\u001b[39;49m\u001b[43m,\u001b[49m\u001b[43m \u001b[49m\u001b[38;5;241;43m4\u001b[39;49m\u001b[43m,\u001b[49m\u001b[43m \u001b[49m\u001b[38;5;241;43m5\u001b[39;49m\u001b[43m,\u001b[49m\u001b[43m \u001b[49m\u001b[38;5;124;43m\"\u001b[39;49m\u001b[38;5;124;43m안녕\u001b[39;49m\u001b[38;5;124;43m\"\u001b[39;49m\u001b[43m]\u001b[49m\u001b[43m,\u001b[49m\u001b[43m \u001b[49m\u001b[38;5;28;43mfloat\u001b[39;49m\u001b[43m)\u001b[49m\n\u001b[0;32m      3\u001b[0m \u001b[38;5;28mprint\u001b[39m(test_array)\n",
      "\u001b[1;31mValueError\u001b[0m: could not convert string to float: '안녕'"
     ]
    }
   ],
   "source": [
    "#한글로 준 경우 형변환이 안됨 => 에러 발생\n",
    "test_array=np.array([1, 4, 5, \"안녕\"], float)\n",
    "print(test_array)"
   ]
  },
  {
   "cell_type": "code",
   "execution_count": 17,
   "id": "d531c57d",
   "metadata": {},
   "outputs": [
    {
     "name": "stdout",
     "output_type": "stream",
     "text": [
      "<class 'tuple'>\n",
      "<class 'int'>\n"
     ]
    }
   ],
   "source": [
    "#(4,) 콤마가 있으면 tuple 없으면 int\n",
    "print(type((4,)))\n",
    "print(type((4)))"
   ]
  },
  {
   "cell_type": "code",
   "execution_count": 18,
   "id": "b83f7a4a",
   "metadata": {},
   "outputs": [
    {
     "data": {
      "text/plain": [
       "(3, 4)"
      ]
     },
     "execution_count": 18,
     "metadata": {},
     "output_type": "execute_result"
    }
   ],
   "source": [
    "matrix = [[1,2,5,8],[1,2,3,8],[1,2,5,8]]\n",
    "np.array(matrix, int).shape"
   ]
  },
  {
   "cell_type": "code",
   "execution_count": 47,
   "id": "407281c0",
   "metadata": {},
   "outputs": [
    {
     "name": "stdout",
     "output_type": "stream",
     "text": [
      "(4, 3, 4) 3 48\n"
     ]
    }
   ],
   "source": [
    "tensor_rank3 = [\n",
    "    [[1,2,5,8],[1,2,3,8],[1,2,5,8]],\n",
    "    [[1,2,5,8],[1,2,3,8],[1,2,5,8]],\n",
    "    [[1,2,5,8],[1,2,3,8],[1,2,5,8]],\n",
    "    [[1,2,5,8],[1,2,3,8],[1,2,5,8]]\n",
    "]\n",
    "t3 = np.array(tensor_rank3, int)\n",
    "print(t3.shape, t3.ndim, t3.size)"
   ]
  },
  {
   "cell_type": "code",
   "execution_count": 52,
   "id": "9d7ebeee",
   "metadata": {},
   "outputs": [
    {
     "name": "stdout",
     "output_type": "stream",
     "text": [
      "(2, 4, 3, 4) 4 96\n"
     ]
    }
   ],
   "source": [
    "#변형 Rank4 (2,4,3,4) 만들어보기\n",
    "tensor_rank4 = [\n",
    "                    [\n",
    "                        [[1,2,5,8],[1,2,3,8],[1,2,5,8]],\n",
    "                        [[1,2,5,8],[1,2,3,8],[1,2,5,8]],\n",
    "                        [[1,2,5,8],[1,2,3,8],[1,2,5,8]],\n",
    "                        [[1,2,5,8],[1,2,3,8],[1,2,5,8]]\n",
    "                    ],\n",
    "                    [\n",
    "                        [[1,2,5,8],[1,2,3,8],[1,2,5,8]],\n",
    "                        [[1,2,5,8],[1,2,3,8],[1,2,5,8]],\n",
    "                        [[1,2,5,8],[1,2,3,8],[1,2,5,8]],\n",
    "                        [[1,2,5,8],[1,2,3,8],[1,2,5,8]]\n",
    "                    ]\n",
    "                ]\n",
    "t4 = np.array(tensor_rank4, int)\n",
    "print(t4.shape, t4.ndim, t4.size)"
   ]
  },
  {
   "cell_type": "code",
   "execution_count": 53,
   "id": "0f32221a",
   "metadata": {},
   "outputs": [
    {
     "name": "stdout",
     "output_type": "stream",
     "text": [
      "(1, 2, 4, 3, 4) 5 96\n"
     ]
    }
   ],
   "source": [
    "#변형 Rank5 (1,2,4,3,4) 만들어보기\n",
    "tensor_rank5 = [\n",
    "                    [\n",
    "                        [\n",
    "                            [[1,2,5,8],[1,2,3,8],[1,2,5,8]],\n",
    "                            [[1,2,5,8],[1,2,3,8],[1,2,5,8]],\n",
    "                            [[1,2,5,8],[1,2,3,8],[1,2,5,8]],\n",
    "                            [[1,2,5,8],[1,2,3,8],[1,2,5,8]]\n",
    "                        ],\n",
    "                        [\n",
    "                            [[1,2,5,8],[1,2,3,8],[1,2,5,8]],\n",
    "                        [[1,2,5,8],[1,2,3,8],[1,2,5,8]],\n",
    "                            [[1,2,5,8],[1,2,3,8],[1,2,5,8]],\n",
    "                            [[1,2,5,8],[1,2,3,8],[1,2,5,8]]\n",
    "                        ]\n",
    "                    ]\n",
    "                ]\n",
    "t5 = np.array(tensor_rank5, int)\n",
    "print(t5.shape, t5.ndim, t5.size)"
   ]
  },
  {
   "cell_type": "code",
   "execution_count": 59,
   "id": "ee1a0a3b",
   "metadata": {},
   "outputs": [
    {
     "data": {
      "text/plain": [
       "array([[1, 2, 3],\n",
       "       [4, 5, 6]])"
      ]
     },
     "execution_count": 59,
     "metadata": {},
     "output_type": "execute_result"
    }
   ],
   "source": [
    "a = np.array([[1,2,3.5],[4,5,6.5]], dtype=int)\n",
    "np.round(a)"
   ]
  },
  {
   "cell_type": "code",
   "execution_count": 64,
   "id": "4c0a6744",
   "metadata": {},
   "outputs": [
    {
     "data": {
      "text/plain": [
       "array([[1., 2., 4.],\n",
       "       [4., 5., 6.]])"
      ]
     },
     "execution_count": 64,
     "metadata": {},
     "output_type": "execute_result"
    }
   ],
   "source": [
    "b = np.array([[1,2,3.5],[4,5,6.5]], dtype=float)\n",
    "np.round(b)"
   ]
  },
  {
   "cell_type": "code",
   "execution_count": 66,
   "id": "23dc7b17",
   "metadata": {},
   "outputs": [
    {
     "data": {
      "text/plain": [
       "8"
      ]
     },
     "execution_count": 66,
     "metadata": {},
     "output_type": "execute_result"
    }
   ],
   "source": [
    "import sys\n",
    "np.array([[1,2,3.5],[4,5,6.5]], dtype=np.float64).itemsize"
   ]
  },
  {
   "cell_type": "code",
   "execution_count": 67,
   "id": "a91bb7b8",
   "metadata": {},
   "outputs": [
    {
     "data": {
      "text/plain": [
       "4"
      ]
     },
     "execution_count": 67,
     "metadata": {},
     "output_type": "execute_result"
    }
   ],
   "source": [
    "import sys\n",
    "np.array([[1,2,3.5],[4,5,6.5]], dtype=np.float32).itemsize"
   ]
  },
  {
   "cell_type": "code",
   "execution_count": 68,
   "id": "b9d79f7f",
   "metadata": {},
   "outputs": [
    {
     "data": {
      "text/plain": [
       "(2, 4)"
      ]
     },
     "execution_count": 68,
     "metadata": {},
     "output_type": "execute_result"
    }
   ],
   "source": [
    "x = np.array([[1,2,5,8],[1,2,5,8]])\n",
    "x.shape"
   ]
  },
  {
   "cell_type": "code",
   "execution_count": 69,
   "id": "10d76ab9",
   "metadata": {},
   "outputs": [
    {
     "data": {
      "text/plain": [
       "array([1, 2, 5, 8, 1, 2, 5, 8])"
      ]
     },
     "execution_count": 69,
     "metadata": {},
     "output_type": "execute_result"
    }
   ],
   "source": [
    "#매개변수로 -1을 입력하면 자동으로 나머지 값이 지정됨\n",
    "x.reshape(-1,)"
   ]
  },
  {
   "cell_type": "code",
   "execution_count": 70,
   "id": "36bd19cd",
   "metadata": {},
   "outputs": [
    {
     "data": {
      "text/plain": [
       "array([0, 1, 2, 3, 4, 5, 6, 7])"
      ]
     },
     "execution_count": 70,
     "metadata": {},
     "output_type": "execute_result"
    }
   ],
   "source": [
    "x = np.array(range(8))\n",
    "x"
   ]
  },
  {
   "cell_type": "code",
   "execution_count": 77,
   "id": "e2ab07df",
   "metadata": {},
   "outputs": [
    {
     "data": {
      "text/plain": [
       "array([[0, 1, 2, 3],\n",
       "       [4, 5, 6, 7]])"
      ]
     },
     "execution_count": 77,
     "metadata": {},
     "output_type": "execute_result"
    }
   ],
   "source": [
    "#전체 데이터 요소의 개수가 맞지 않는 경우 ValueError 발생\n",
    "x.reshape(2,2)"
   ]
  },
  {
   "cell_type": "code",
   "execution_count": 74,
   "id": "7367b0a5",
   "metadata": {},
   "outputs": [
    {
     "data": {
      "text/plain": [
       "array([[0, 1, 2, 3],\n",
       "       [4, 5, 6, 7]])"
      ]
     },
     "execution_count": 74,
     "metadata": {},
     "output_type": "execute_result"
    }
   ],
   "source": [
    "x.reshape(2,-1)"
   ]
  },
  {
   "cell_type": "code",
   "execution_count": 139,
   "id": "b8e433a3",
   "metadata": {},
   "outputs": [
    {
     "data": {
      "text/plain": [
       "array([[[ 0,  1,  2],\n",
       "        [ 3,  4,  5]],\n",
       "\n",
       "       [[ 6,  7,  8],\n",
       "        [ 9, 10, 11]]])"
      ]
     },
     "execution_count": 139,
     "metadata": {},
     "output_type": "execute_result"
    }
   ],
   "source": [
    "x.reshape(2,2,-1)"
   ]
  },
  {
   "cell_type": "code",
   "execution_count": 78,
   "id": "67d7151f",
   "metadata": {},
   "outputs": [
    {
     "data": {
      "text/plain": [
       "array([[[0, 1],\n",
       "        [2, 3]],\n",
       "\n",
       "       [[4, 5],\n",
       "        [6, 7]]])"
      ]
     },
     "execution_count": 78,
     "metadata": {},
     "output_type": "execute_result"
    }
   ],
   "source": [
    "x = np.array(range(8)).reshape(2,2,2)\n",
    "x"
   ]
  },
  {
   "cell_type": "code",
   "execution_count": 79,
   "id": "49ba7248",
   "metadata": {},
   "outputs": [
    {
     "data": {
      "text/plain": [
       "array([0, 1, 2, 3, 4, 5, 6, 7])"
      ]
     },
     "execution_count": 79,
     "metadata": {},
     "output_type": "execute_result"
    }
   ],
   "source": [
    "x.flatten()"
   ]
  },
  {
   "cell_type": "code",
   "execution_count": 80,
   "id": "3df420c0",
   "metadata": {},
   "outputs": [
    {
     "data": {
      "text/plain": [
       "array([[1, 2, 3],\n",
       "       [4, 5, 6]])"
      ]
     },
     "execution_count": 80,
     "metadata": {},
     "output_type": "execute_result"
    }
   ],
   "source": [
    "x = np.array([[1,2,3,], [4.5,5,6]], int)\n",
    "x"
   ]
  },
  {
   "cell_type": "code",
   "execution_count": 81,
   "id": "1f4be6c6",
   "metadata": {},
   "outputs": [
    {
     "data": {
      "text/plain": [
       "1"
      ]
     },
     "execution_count": 81,
     "metadata": {},
     "output_type": "execute_result"
    }
   ],
   "source": [
    "x[0][0]"
   ]
  },
  {
   "cell_type": "code",
   "execution_count": 82,
   "id": "bafb5b27",
   "metadata": {},
   "outputs": [
    {
     "data": {
      "text/plain": [
       "3"
      ]
     },
     "execution_count": 82,
     "metadata": {},
     "output_type": "execute_result"
    }
   ],
   "source": [
    "x[0,2]"
   ]
  },
  {
   "cell_type": "code",
   "execution_count": 83,
   "id": "2b8edf52",
   "metadata": {},
   "outputs": [
    {
     "data": {
      "text/plain": [
       "array([[  1, 100,   3],\n",
       "       [  4,   5,   6]])"
      ]
     },
     "execution_count": 83,
     "metadata": {},
     "output_type": "execute_result"
    }
   ],
   "source": [
    "x[0,1] = 100\n",
    "x"
   ]
  },
  {
   "cell_type": "code",
   "execution_count": 92,
   "id": "8b93a1a2",
   "metadata": {},
   "outputs": [
    {
     "data": {
      "text/plain": [
       "array([[ 3,  4,  5],\n",
       "       [ 8,  9, 10]])"
      ]
     },
     "execution_count": 92,
     "metadata": {},
     "output_type": "execute_result"
    }
   ],
   "source": [
    "x = np.array([[1,2,3,4,5], [6,7,8,9,10]], int)\n",
    "x[:,2:]"
   ]
  },
  {
   "cell_type": "code",
   "execution_count": 86,
   "id": "1e2c3983",
   "metadata": {},
   "outputs": [
    {
     "data": {
      "text/plain": [
       "array([7, 8])"
      ]
     },
     "execution_count": 86,
     "metadata": {},
     "output_type": "execute_result"
    }
   ],
   "source": [
    "x[1,1:3]"
   ]
  },
  {
   "cell_type": "code",
   "execution_count": 87,
   "id": "8a1c9c98",
   "metadata": {},
   "outputs": [
    {
     "data": {
      "text/plain": [
       "array([[ 6,  7,  8,  9, 10]])"
      ]
     },
     "execution_count": 87,
     "metadata": {},
     "output_type": "execute_result"
    }
   ],
   "source": [
    "x[1:3]"
   ]
  },
  {
   "cell_type": "code",
   "execution_count": 88,
   "id": "1443cfa8",
   "metadata": {},
   "outputs": [
    {
     "data": {
      "text/plain": [
       "array([[ 0,  1,  2,  3,  4],\n",
       "       [ 5,  6,  7,  8,  9],\n",
       "       [10, 11, 12, 13, 14]])"
      ]
     },
     "execution_count": 88,
     "metadata": {},
     "output_type": "execute_result"
    }
   ],
   "source": [
    "x = np.array(range(15), int).reshape(3, -1)\n",
    "x"
   ]
  },
  {
   "cell_type": "code",
   "execution_count": 89,
   "id": "c67ea2e5",
   "metadata": {},
   "outputs": [
    {
     "data": {
      "text/plain": [
       "array([[ 0,  2,  4],\n",
       "       [ 5,  7,  9],\n",
       "       [10, 12, 14]])"
      ]
     },
     "execution_count": 89,
     "metadata": {},
     "output_type": "execute_result"
    }
   ],
   "source": [
    "x[:,::2]"
   ]
  },
  {
   "cell_type": "code",
   "execution_count": 90,
   "id": "29dee6ea",
   "metadata": {},
   "outputs": [
    {
     "data": {
      "text/plain": [
       "array([[ 0,  3],\n",
       "       [10, 13]])"
      ]
     },
     "execution_count": 90,
     "metadata": {},
     "output_type": "execute_result"
    }
   ],
   "source": [
    "x[::2,::3]"
   ]
  },
  {
   "cell_type": "code",
   "execution_count": 94,
   "id": "a48ca0d6",
   "metadata": {},
   "outputs": [
    {
     "data": {
      "text/plain": [
       "array([0, 1, 2, 3, 4, 5, 6, 7, 8, 9])"
      ]
     },
     "execution_count": 94,
     "metadata": {},
     "output_type": "execute_result"
    }
   ],
   "source": [
    "np.arange(10)"
   ]
  },
  {
   "cell_type": "code",
   "execution_count": 95,
   "id": "53dbae4c",
   "metadata": {},
   "outputs": [
    {
     "data": {
      "text/plain": [
       "array([-5, -4, -3, -2, -1,  0,  1,  2,  3,  4])"
      ]
     },
     "execution_count": 95,
     "metadata": {},
     "output_type": "execute_result"
    }
   ],
   "source": [
    "np.arange(-5,5)"
   ]
  },
  {
   "cell_type": "code",
   "execution_count": 96,
   "id": "36ddce68",
   "metadata": {},
   "outputs": [
    {
     "data": {
      "text/plain": [
       "array([0. , 0.5, 1. , 1.5, 2. , 2.5, 3. , 3.5, 4. , 4.5])"
      ]
     },
     "execution_count": 96,
     "metadata": {},
     "output_type": "execute_result"
    }
   ],
   "source": [
    "np.arange(0, 5, 0.5)"
   ]
  },
  {
   "cell_type": "code",
   "execution_count": 97,
   "id": "9b4364da",
   "metadata": {},
   "outputs": [
    {
     "data": {
      "text/plain": [
       "array([[1, 1],\n",
       "       [1, 1],\n",
       "       [1, 1],\n",
       "       [1, 1],\n",
       "       [1, 1]], dtype=int8)"
      ]
     },
     "execution_count": 97,
     "metadata": {},
     "output_type": "execute_result"
    }
   ],
   "source": [
    "np.ones(shape=(5,2), dtype=np.int8)"
   ]
  },
  {
   "cell_type": "code",
   "execution_count": 98,
   "id": "270d52dd",
   "metadata": {},
   "outputs": [
    {
     "data": {
      "text/plain": [
       "array([[0., 0.],\n",
       "       [0., 0.]], dtype=float32)"
      ]
     },
     "execution_count": 98,
     "metadata": {},
     "output_type": "execute_result"
    }
   ],
   "source": [
    "np.zeros(shape=(2,2),dtype=np.float32)"
   ]
  },
  {
   "cell_type": "code",
   "execution_count": 99,
   "id": "2dda43a4",
   "metadata": {},
   "outputs": [
    {
     "data": {
      "text/plain": [
       "array([[ 6.4096906e-10,  6.4096906e-10, -8.6466561e-04, -4.2599473e-43],\n",
       "       [ 1.3039680e+13,  6.2217652e-43,  2.8726619e-43,  0.0000000e+00]],\n",
       "      dtype=float32)"
      ]
     },
     "execution_count": 99,
     "metadata": {},
     "output_type": "execute_result"
    }
   ],
   "source": [
    "np.empty(shape=(2,4), dtype=np.float32)"
   ]
  },
  {
   "cell_type": "code",
   "execution_count": 101,
   "id": "19d1eb67",
   "metadata": {},
   "outputs": [
    {
     "data": {
      "text/plain": [
       "array([[ 0,  1,  2,  3],\n",
       "       [ 4,  5,  6,  7],\n",
       "       [ 8,  9, 10, 11]])"
      ]
     },
     "execution_count": 101,
     "metadata": {},
     "output_type": "execute_result"
    }
   ],
   "source": [
    "x = np.arange(12).reshape(3,4)\n",
    "x"
   ]
  },
  {
   "cell_type": "code",
   "execution_count": 102,
   "id": "115667ac",
   "metadata": {},
   "outputs": [
    {
     "data": {
      "text/plain": [
       "array([[1, 1, 1, 1],\n",
       "       [1, 1, 1, 1],\n",
       "       [1, 1, 1, 1]])"
      ]
     },
     "execution_count": 102,
     "metadata": {},
     "output_type": "execute_result"
    }
   ],
   "source": [
    "np.ones_like(x)"
   ]
  },
  {
   "cell_type": "code",
   "execution_count": 103,
   "id": "3b1e780b",
   "metadata": {},
   "outputs": [
    {
     "data": {
      "text/plain": [
       "array([[0, 0, 0, 0],\n",
       "       [0, 0, 0, 0],\n",
       "       [0, 0, 0, 0]])"
      ]
     },
     "execution_count": 103,
     "metadata": {},
     "output_type": "execute_result"
    }
   ],
   "source": [
    "np.zeros_like(x)"
   ]
  },
  {
   "cell_type": "code",
   "execution_count": 104,
   "id": "13c2f76c",
   "metadata": {},
   "outputs": [
    {
     "data": {
      "text/plain": [
       "array([[1, 0, 0],\n",
       "       [0, 1, 0],\n",
       "       [0, 0, 1]])"
      ]
     },
     "execution_count": 104,
     "metadata": {},
     "output_type": "execute_result"
    }
   ],
   "source": [
    "np.identity(n=3, dtype=int)"
   ]
  },
  {
   "cell_type": "code",
   "execution_count": 105,
   "id": "d3c593ae",
   "metadata": {},
   "outputs": [
    {
     "data": {
      "text/plain": [
       "array([[1, 0, 0, 0],\n",
       "       [0, 1, 0, 0],\n",
       "       [0, 0, 1, 0],\n",
       "       [0, 0, 0, 1]])"
      ]
     },
     "execution_count": 105,
     "metadata": {},
     "output_type": "execute_result"
    }
   ],
   "source": [
    "np.identity(n=4, dtype=int)"
   ]
  },
  {
   "cell_type": "code",
   "execution_count": 106,
   "id": "05d799b6",
   "metadata": {},
   "outputs": [
    {
     "data": {
      "text/plain": [
       "array([[1., 0., 0., 0., 0.],\n",
       "       [0., 1., 0., 0., 0.],\n",
       "       [0., 0., 1., 0., 0.]])"
      ]
     },
     "execution_count": 106,
     "metadata": {},
     "output_type": "execute_result"
    }
   ],
   "source": [
    "np.eye(N=3, M=5)"
   ]
  },
  {
   "cell_type": "code",
   "execution_count": 108,
   "id": "0acf7fd6",
   "metadata": {},
   "outputs": [
    {
     "data": {
      "text/plain": [
       "array([[0., 0., 1., 0., 0.],\n",
       "       [0., 0., 0., 1., 0.],\n",
       "       [0., 0., 0., 0., 1.]])"
      ]
     },
     "execution_count": 108,
     "metadata": {},
     "output_type": "execute_result"
    }
   ],
   "source": [
    "np.eye(N=3, M=5, k=2)"
   ]
  },
  {
   "cell_type": "code",
   "execution_count": 109,
   "id": "8bead1bd",
   "metadata": {},
   "outputs": [
    {
     "data": {
      "text/plain": [
       "array([[0, 1, 2],\n",
       "       [3, 4, 5],\n",
       "       [6, 7, 8]])"
      ]
     },
     "execution_count": 109,
     "metadata": {},
     "output_type": "execute_result"
    }
   ],
   "source": [
    "matrix = np.arange(9).reshape(3,3)\n",
    "matrix"
   ]
  },
  {
   "cell_type": "code",
   "execution_count": 110,
   "id": "30aea7d8",
   "metadata": {},
   "outputs": [
    {
     "data": {
      "text/plain": [
       "array([0, 4, 8])"
      ]
     },
     "execution_count": 110,
     "metadata": {},
     "output_type": "execute_result"
    }
   ],
   "source": [
    "np.diag(matrix)"
   ]
  },
  {
   "cell_type": "code",
   "execution_count": 111,
   "id": "035d722a",
   "metadata": {},
   "outputs": [
    {
     "data": {
      "text/plain": [
       "array([1, 5])"
      ]
     },
     "execution_count": 111,
     "metadata": {},
     "output_type": "execute_result"
    }
   ],
   "source": [
    "np.diag(matrix, k=1)"
   ]
  },
  {
   "cell_type": "code",
   "execution_count": 112,
   "id": "81b99693",
   "metadata": {},
   "outputs": [
    {
     "data": {
      "text/plain": [
       "array([0.81704077, 4.60753513, 4.16781794, 0.26892866, 1.81578289,\n",
       "       0.44362133, 0.57126591, 2.74477225, 0.03329313, 2.2520634 ])"
      ]
     },
     "execution_count": 112,
     "metadata": {},
     "output_type": "execute_result"
    }
   ],
   "source": [
    "np.random.uniform(0, 5, 10)"
   ]
  },
  {
   "cell_type": "code",
   "execution_count": 113,
   "id": "2dc4fa04",
   "metadata": {},
   "outputs": [
    {
     "data": {
      "text/plain": [
       "array([ 2.3492355 ,  2.021688  , -1.47855995, -2.84482183, -1.07073322,\n",
       "       -1.68650468, -0.84978056, -2.45777255,  1.28180002, -1.2930698 ])"
      ]
     },
     "execution_count": 113,
     "metadata": {},
     "output_type": "execute_result"
    }
   ],
   "source": [
    "np.random.normal(0,2,10)"
   ]
  },
  {
   "cell_type": "code",
   "execution_count": 114,
   "id": "b160722e",
   "metadata": {},
   "outputs": [
    {
     "data": {
      "text/plain": [
       "55"
      ]
     },
     "execution_count": 114,
     "metadata": {},
     "output_type": "execute_result"
    }
   ],
   "source": [
    "import numpy as np\n",
    "test_array = np.arange(1,11)\n",
    "test_array.sum()"
   ]
  },
  {
   "cell_type": "code",
   "execution_count": 115,
   "id": "a8ae3eef",
   "metadata": {},
   "outputs": [
    {
     "data": {
      "text/plain": [
       "array([[ 1,  2,  3,  4],\n",
       "       [ 5,  6,  7,  8],\n",
       "       [ 9, 10, 11, 12]])"
      ]
     },
     "execution_count": 115,
     "metadata": {},
     "output_type": "execute_result"
    }
   ],
   "source": [
    "test_array=np.arange(1,13).reshape(3,4)\n",
    "test_array"
   ]
  },
  {
   "cell_type": "code",
   "execution_count": 116,
   "id": "60260843",
   "metadata": {},
   "outputs": [
    {
     "data": {
      "text/plain": [
       "array([15, 18, 21, 24])"
      ]
     },
     "execution_count": 116,
     "metadata": {},
     "output_type": "execute_result"
    }
   ],
   "source": [
    "test_array.sum(axis=0)"
   ]
  },
  {
   "cell_type": "code",
   "execution_count": 117,
   "id": "196a0145",
   "metadata": {},
   "outputs": [
    {
     "data": {
      "text/plain": [
       "array([10, 26, 42])"
      ]
     },
     "execution_count": 117,
     "metadata": {},
     "output_type": "execute_result"
    }
   ],
   "source": [
    "test_array.sum(axis=1)"
   ]
  },
  {
   "cell_type": "code",
   "execution_count": 127,
   "id": "12eaf020",
   "metadata": {},
   "outputs": [
    {
     "data": {
      "text/plain": [
       "array([[[ 1,  2,  3,  4],\n",
       "        [ 5,  6,  7,  8],\n",
       "        [ 9, 10, 11, 12]],\n",
       "\n",
       "       [[ 1,  2,  3,  4],\n",
       "        [ 5,  6,  7,  8],\n",
       "        [ 9, 10, 11, 12]]])"
      ]
     },
     "execution_count": 127,
     "metadata": {},
     "output_type": "execute_result"
    }
   ],
   "source": [
    "test_array = np.arange(1,13).reshape(3,4)\n",
    "\n",
    "third_order_tensor = np.array([test_array, test_array])\n",
    "third_order_tensor"
   ]
  },
  {
   "cell_type": "code",
   "execution_count": 128,
   "id": "69eeaf68",
   "metadata": {},
   "outputs": [
    {
     "data": {
      "text/plain": [
       "array([[ 2,  4,  6,  8],\n",
       "       [10, 12, 14, 16],\n",
       "       [18, 20, 22, 24]])"
      ]
     },
     "execution_count": 128,
     "metadata": {},
     "output_type": "execute_result"
    }
   ],
   "source": [
    "third_order_tensor.sum(axis=0)"
   ]
  },
  {
   "cell_type": "code",
   "execution_count": 129,
   "id": "3fa719f2",
   "metadata": {},
   "outputs": [
    {
     "data": {
      "text/plain": [
       "array([[15, 18, 21, 24],\n",
       "       [15, 18, 21, 24]])"
      ]
     },
     "execution_count": 129,
     "metadata": {},
     "output_type": "execute_result"
    }
   ],
   "source": [
    "third_order_tensor.sum(axis=1)"
   ]
  },
  {
   "cell_type": "code",
   "execution_count": 130,
   "id": "3f4f07f9",
   "metadata": {},
   "outputs": [
    {
     "data": {
      "text/plain": [
       "array([[10, 26, 42],\n",
       "       [10, 26, 42]])"
      ]
     },
     "execution_count": 130,
     "metadata": {},
     "output_type": "execute_result"
    }
   ],
   "source": [
    "third_order_tensor.sum(axis=2)"
   ]
  },
  {
   "cell_type": "code",
   "execution_count": 122,
   "id": "9c10b0b4",
   "metadata": {},
   "outputs": [
    {
     "data": {
      "text/plain": [
       "array([[ 1,  2,  3,  4],\n",
       "       [ 5,  6,  7,  8],\n",
       "       [ 9, 10, 11, 12]])"
      ]
     },
     "execution_count": 122,
     "metadata": {},
     "output_type": "execute_result"
    }
   ],
   "source": [
    "test_array = np.arange(1,13).reshape(3,4)\n",
    "test_array"
   ]
  },
  {
   "cell_type": "code",
   "execution_count": 123,
   "id": "ec7e32cf",
   "metadata": {},
   "outputs": [
    {
     "data": {
      "text/plain": [
       "array([ 2.5,  6.5, 10.5])"
      ]
     },
     "execution_count": 123,
     "metadata": {},
     "output_type": "execute_result"
    }
   ],
   "source": [
    "test_array.mean(axis=1)"
   ]
  },
  {
   "cell_type": "code",
   "execution_count": 124,
   "id": "995f6d72",
   "metadata": {},
   "outputs": [
    {
     "data": {
      "text/plain": [
       "3.452052529534663"
      ]
     },
     "execution_count": 124,
     "metadata": {},
     "output_type": "execute_result"
    }
   ],
   "source": [
    "test_array.std()#표준편차"
   ]
  },
  {
   "cell_type": "code",
   "execution_count": 125,
   "id": "af9f020f",
   "metadata": {},
   "outputs": [
    {
     "data": {
      "text/plain": [
       "array([3.26598632, 3.26598632, 3.26598632, 3.26598632])"
      ]
     },
     "execution_count": 125,
     "metadata": {},
     "output_type": "execute_result"
    }
   ],
   "source": [
    "test_array.std(axis=0)"
   ]
  },
  {
   "cell_type": "code",
   "execution_count": 126,
   "id": "634ca844",
   "metadata": {},
   "outputs": [
    {
     "data": {
      "text/plain": [
       "array([[1.        , 1.41421356, 1.73205081, 2.        ],\n",
       "       [2.23606798, 2.44948974, 2.64575131, 2.82842712],\n",
       "       [3.        , 3.16227766, 3.31662479, 3.46410162]])"
      ]
     },
     "execution_count": 126,
     "metadata": {},
     "output_type": "execute_result"
    }
   ],
   "source": [
    "np.sqrt(test_array)"
   ]
  },
  {
   "cell_type": "code",
   "execution_count": 132,
   "id": "2d5dab4a",
   "metadata": {},
   "outputs": [
    {
     "data": {
      "text/plain": [
       "array([[1, 2, 3],\n",
       "       [4, 5, 6]])"
      ]
     },
     "execution_count": 132,
     "metadata": {},
     "output_type": "execute_result"
    }
   ],
   "source": [
    "v1 = np.array([1,2,3])\n",
    "v2 = np.array([4,5,6])\n",
    "np.vstack((v1,v2))"
   ]
  },
  {
   "cell_type": "code",
   "execution_count": 134,
   "id": "4e2920e2",
   "metadata": {},
   "outputs": [
    {
     "data": {
      "text/plain": [
       "array([1, 2, 3, 4, 5, 6])"
      ]
     },
     "execution_count": 134,
     "metadata": {},
     "output_type": "execute_result"
    }
   ],
   "source": [
    "np.hstack((v1,v2))"
   ]
  },
  {
   "cell_type": "code",
   "execution_count": 135,
   "id": "730f01bd",
   "metadata": {},
   "outputs": [
    {
     "data": {
      "text/plain": [
       "array([[1],\n",
       "       [2],\n",
       "       [3]])"
      ]
     },
     "execution_count": 135,
     "metadata": {},
     "output_type": "execute_result"
    }
   ],
   "source": [
    "v1 = v1.reshape(-1,1)\n",
    "v2 = v2.reshape(-1,1)\n",
    "v1"
   ]
  },
  {
   "cell_type": "code",
   "execution_count": 136,
   "id": "1a5f38fe",
   "metadata": {},
   "outputs": [
    {
     "data": {
      "text/plain": [
       "array([[4],\n",
       "       [5],\n",
       "       [6]])"
      ]
     },
     "execution_count": 136,
     "metadata": {},
     "output_type": "execute_result"
    }
   ],
   "source": [
    "v2"
   ]
  },
  {
   "cell_type": "code",
   "execution_count": 138,
   "id": "6e457d6a",
   "metadata": {},
   "outputs": [
    {
     "data": {
      "text/plain": [
       "array([[1, 4],\n",
       "       [2, 5],\n",
       "       [3, 6]])"
      ]
     },
     "execution_count": 138,
     "metadata": {},
     "output_type": "execute_result"
    }
   ],
   "source": [
    "np.hstack((v1,v2))"
   ]
  },
  {
   "cell_type": "code",
   "execution_count": 140,
   "id": "c9f3f3a1",
   "metadata": {},
   "outputs": [
    {
     "data": {
      "text/plain": [
       "array([[1, 2, 3],\n",
       "       [4, 5, 6]])"
      ]
     },
     "execution_count": 140,
     "metadata": {},
     "output_type": "execute_result"
    }
   ],
   "source": [
    "v1 = np.array([[1,2,3]])\n",
    "v2 = np.array([[4,5,6]])\n",
    "np.concatenate((v1,v2), axis=0)"
   ]
  },
  {
   "cell_type": "code",
   "execution_count": 148,
   "id": "8c901cf2",
   "metadata": {},
   "outputs": [
    {
     "data": {
      "text/plain": [
       "array([[1, 2],\n",
       "       [3, 4]])"
      ]
     },
     "execution_count": 148,
     "metadata": {},
     "output_type": "execute_result"
    }
   ],
   "source": [
    "v1 = np.array([1,2,3,4]).reshape(2,2)\n",
    "v2 = np.array([[5,6]]).T\n",
    "v1"
   ]
  },
  {
   "cell_type": "code",
   "execution_count": 149,
   "id": "88c510ac",
   "metadata": {},
   "outputs": [
    {
     "data": {
      "text/plain": [
       "array([[5],\n",
       "       [6]])"
      ]
     },
     "execution_count": 149,
     "metadata": {},
     "output_type": "execute_result"
    }
   ],
   "source": [
    "v2"
   ]
  },
  {
   "cell_type": "code",
   "execution_count": 145,
   "id": "d2fd1f4d",
   "metadata": {},
   "outputs": [
    {
     "data": {
      "text/plain": [
       "array([[1, 2, 5],\n",
       "       [3, 4, 6]])"
      ]
     },
     "execution_count": 145,
     "metadata": {},
     "output_type": "execute_result"
    }
   ],
   "source": [
    "np.concatenate((v1,v2),axis=1)"
   ]
  },
  {
   "cell_type": "code",
   "execution_count": 154,
   "id": "46354dea",
   "metadata": {},
   "outputs": [
    {
     "data": {
      "text/plain": [
       "array([[1, 2, 3],\n",
       "       [4, 5, 6]])"
      ]
     },
     "execution_count": 154,
     "metadata": {},
     "output_type": "execute_result"
    }
   ],
   "source": [
    "x = np.arange(1,7).reshape(2,3)\n",
    "x"
   ]
  },
  {
   "cell_type": "code",
   "execution_count": 155,
   "id": "0ed6e3f6",
   "metadata": {},
   "outputs": [
    {
     "name": "stdout",
     "output_type": "stream",
     "text": [
      "[[ 2  4  6]\n",
      " [ 8 10 12]] \n",
      "\n",
      "[[0 0 0]\n",
      " [0 0 0]] \n",
      "\n",
      "[[1. 1. 1.]\n",
      " [1. 1. 1.]] \n",
      "\n",
      "[[ 1  4  9]\n",
      " [16 25 36]] \n",
      "\n",
      "[[    1     4    27]\n",
      " [  256  3125 46656]]\n"
     ]
    }
   ],
   "source": [
    "print(x + x, '\\n')\n",
    "print(x - x, '\\n')\n",
    "print(x / x, '\\n')\n",
    "print(x * x, '\\n')\n",
    "print(x ** x)"
   ]
  },
  {
   "cell_type": "code",
   "execution_count": 156,
   "id": "71ab20d7",
   "metadata": {},
   "outputs": [
    {
     "data": {
      "text/plain": [
       "array([[1, 2, 3],\n",
       "       [4, 5, 6]])"
      ]
     },
     "execution_count": 156,
     "metadata": {},
     "output_type": "execute_result"
    }
   ],
   "source": [
    "x_1 = np.arange(1, 7).reshape(2,3)\n",
    "x_2 = np.arange(1, 7).reshape(3,2)\n",
    "x_1"
   ]
  },
  {
   "cell_type": "code",
   "execution_count": 157,
   "id": "2c5c6aba",
   "metadata": {},
   "outputs": [
    {
     "data": {
      "text/plain": [
       "array([[1, 2],\n",
       "       [3, 4],\n",
       "       [5, 6]])"
      ]
     },
     "execution_count": 157,
     "metadata": {},
     "output_type": "execute_result"
    }
   ],
   "source": [
    "x_2"
   ]
  },
  {
   "cell_type": "code",
   "execution_count": 158,
   "id": "f65cc83f",
   "metadata": {},
   "outputs": [
    {
     "data": {
      "text/plain": [
       "array([[22, 28],\n",
       "       [49, 64]])"
      ]
     },
     "execution_count": 158,
     "metadata": {},
     "output_type": "execute_result"
    }
   ],
   "source": [
    "x_1.dot(x_2)"
   ]
  },
  {
   "cell_type": "code",
   "execution_count": 159,
   "id": "4c2f9d2b",
   "metadata": {},
   "outputs": [
    {
     "data": {
      "text/plain": [
       "array([[1, 2, 3],\n",
       "       [4, 5, 6],\n",
       "       [7, 8, 9]])"
      ]
     },
     "execution_count": 159,
     "metadata": {},
     "output_type": "execute_result"
    }
   ],
   "source": [
    "x = np.arange(1, 10).reshape(3,3)\n",
    "x"
   ]
  },
  {
   "cell_type": "code",
   "execution_count": 160,
   "id": "c9067ac0",
   "metadata": {},
   "outputs": [
    {
     "data": {
      "text/plain": [
       "array([[11, 12, 13],\n",
       "       [14, 15, 16],\n",
       "       [17, 18, 19]])"
      ]
     },
     "execution_count": 160,
     "metadata": {},
     "output_type": "execute_result"
    }
   ],
   "source": [
    "x + 10"
   ]
  },
  {
   "cell_type": "code",
   "execution_count": 161,
   "id": "4573b31a",
   "metadata": {},
   "outputs": [
    {
     "data": {
      "text/plain": [
       "array([[-1,  0,  1],\n",
       "       [ 2,  3,  4],\n",
       "       [ 5,  6,  7]])"
      ]
     },
     "execution_count": 161,
     "metadata": {},
     "output_type": "execute_result"
    }
   ],
   "source": [
    "x - 2"
   ]
  },
  {
   "cell_type": "code",
   "execution_count": 162,
   "id": "f8d752c6",
   "metadata": {},
   "outputs": [
    {
     "data": {
      "text/plain": [
       "array([[0, 0, 1],\n",
       "       [1, 1, 2],\n",
       "       [2, 2, 3]], dtype=int32)"
      ]
     },
     "execution_count": 162,
     "metadata": {},
     "output_type": "execute_result"
    }
   ],
   "source": [
    "x // 3"
   ]
  },
  {
   "cell_type": "code",
   "execution_count": 163,
   "id": "5ce7a645",
   "metadata": {},
   "outputs": [
    {
     "data": {
      "text/plain": [
       "array([[ 1,  4,  9],\n",
       "       [16, 25, 36],\n",
       "       [49, 64, 81]])"
      ]
     },
     "execution_count": 163,
     "metadata": {},
     "output_type": "execute_result"
    }
   ],
   "source": [
    "x ** 2"
   ]
  },
  {
   "cell_type": "code",
   "execution_count": 164,
   "id": "e8c86bac",
   "metadata": {},
   "outputs": [
    {
     "data": {
      "text/plain": [
       "array([[ 1,  2,  3],\n",
       "       [ 4,  5,  6],\n",
       "       [ 7,  8,  9],\n",
       "       [10, 11, 12]])"
      ]
     },
     "execution_count": 164,
     "metadata": {},
     "output_type": "execute_result"
    }
   ],
   "source": [
    "x = np.arange(1,13).reshape(4,3)\n",
    "x"
   ]
  },
  {
   "cell_type": "code",
   "execution_count": 166,
   "id": "0ad1d51e",
   "metadata": {},
   "outputs": [
    {
     "data": {
      "text/plain": [
       "array([10, 20, 30])"
      ]
     },
     "execution_count": 166,
     "metadata": {},
     "output_type": "execute_result"
    }
   ],
   "source": [
    "v = np.arange(10, 40, 10)\n",
    "v"
   ]
  },
  {
   "cell_type": "code",
   "execution_count": 167,
   "id": "10c601eb",
   "metadata": {},
   "outputs": [
    {
     "data": {
      "text/plain": [
       "array([[11, 22, 33],\n",
       "       [14, 25, 36],\n",
       "       [17, 28, 39],\n",
       "       [20, 31, 42]])"
      ]
     },
     "execution_count": 167,
     "metadata": {},
     "output_type": "execute_result"
    }
   ],
   "source": [
    "x + v"
   ]
  },
  {
   "cell_type": "code",
   "execution_count": 168,
   "id": "6078a735",
   "metadata": {},
   "outputs": [
    {
     "data": {
      "text/plain": [
       "array([ True, False, False,  True,  True,  True])"
      ]
     },
     "execution_count": 168,
     "metadata": {},
     "output_type": "execute_result"
    }
   ],
   "source": [
    "import numpy as np\n",
    "x = np.array([4,3,2,6,8,5])\n",
    "x > 3"
   ]
  },
  {
   "cell_type": "code",
   "execution_count": 169,
   "id": "b196364e",
   "metadata": {},
   "outputs": [
    {
     "data": {
      "text/plain": [
       "array([False,  True, False])"
      ]
     },
     "execution_count": 169,
     "metadata": {},
     "output_type": "execute_result"
    }
   ],
   "source": [
    "x = np.array([1,3,0])\n",
    "y = np.array([2,1,7])\n",
    "x > y"
   ]
  },
  {
   "cell_type": "code",
   "execution_count": 170,
   "id": "28d1332e",
   "metadata": {},
   "outputs": [
    {
     "data": {
      "text/plain": [
       "False"
      ]
     },
     "execution_count": 170,
     "metadata": {},
     "output_type": "execute_result"
    }
   ],
   "source": [
    "x = np.array([4,3,2,6,8,5])\n",
    "(x>3).all()"
   ]
  },
  {
   "cell_type": "code",
   "execution_count": 171,
   "id": "481240d7",
   "metadata": {},
   "outputs": [
    {
     "data": {
      "text/plain": [
       "True"
      ]
     },
     "execution_count": 171,
     "metadata": {},
     "output_type": "execute_result"
    }
   ],
   "source": [
    "(x>3).any()"
   ]
  },
  {
   "cell_type": "code",
   "execution_count": 174,
   "id": "31220334",
   "metadata": {},
   "outputs": [
    {
     "data": {
      "text/plain": [
       "array([False,  True,  True, False, False])"
      ]
     },
     "execution_count": 174,
     "metadata": {},
     "output_type": "execute_result"
    }
   ],
   "source": [
    "x = np.array([4,6,7,3,2])\n",
    "x > 5"
   ]
  },
  {
   "cell_type": "code",
   "execution_count": 175,
   "id": "57e97bc1",
   "metadata": {},
   "outputs": [
    {
     "data": {
      "text/plain": [
       "(array([1, 2], dtype=int64),)"
      ]
     },
     "execution_count": 175,
     "metadata": {},
     "output_type": "execute_result"
    }
   ],
   "source": [
    "np.where(x>5)"
   ]
  },
  {
   "cell_type": "code",
   "execution_count": 176,
   "id": "39661df6",
   "metadata": {},
   "outputs": [
    {
     "data": {
      "text/plain": [
       "array([20, 10, 10, 20, 20])"
      ]
     },
     "execution_count": 176,
     "metadata": {},
     "output_type": "execute_result"
    }
   ],
   "source": [
    "x = np.array([4,6,7,3,2])\n",
    "np.where(x>5, 10, 20)"
   ]
  },
  {
   "cell_type": "code",
   "execution_count": 177,
   "id": "a8945e76",
   "metadata": {},
   "outputs": [
    {
     "data": {
      "text/plain": [
       "array(['B', 'A', 'A', 'B', 'B'], dtype='<U1')"
      ]
     },
     "execution_count": 177,
     "metadata": {},
     "output_type": "execute_result"
    }
   ],
   "source": [
    "x = np.array([4,6,7,3,2])\n",
    "np.where(x>5, \"A\", \"B\" )"
   ]
  },
  {
   "cell_type": "code",
   "execution_count": 178,
   "id": "f3201600",
   "metadata": {},
   "outputs": [
    {
     "data": {
      "text/plain": [
       "array([4, 3, 0, 1, 2], dtype=int64)"
      ]
     },
     "execution_count": 178,
     "metadata": {},
     "output_type": "execute_result"
    }
   ],
   "source": [
    "x = np.array([4,6,7,3,2])\n",
    "np.argsort(x)"
   ]
  },
  {
   "cell_type": "code",
   "execution_count": 179,
   "id": "8badbeaf",
   "metadata": {},
   "outputs": [
    {
     "data": {
      "text/plain": [
       "2"
      ]
     },
     "execution_count": 179,
     "metadata": {},
     "output_type": "execute_result"
    }
   ],
   "source": [
    "np.argmax(x)"
   ]
  },
  {
   "cell_type": "code",
   "execution_count": 180,
   "id": "49d1f731",
   "metadata": {},
   "outputs": [
    {
     "data": {
      "text/plain": [
       "4"
      ]
     },
     "execution_count": 180,
     "metadata": {},
     "output_type": "execute_result"
    }
   ],
   "source": [
    "np.argmin(x)"
   ]
  },
  {
   "cell_type": "code",
   "execution_count": null,
   "id": "e3425caa",
   "metadata": {},
   "outputs": [],
   "source": []
  }
 ],
 "metadata": {
  "kernelspec": {
   "display_name": "Python 3 (ipykernel)",
   "language": "python",
   "name": "python3"
  },
  "language_info": {
   "codemirror_mode": {
    "name": "ipython",
    "version": 3
   },
   "file_extension": ".py",
   "mimetype": "text/x-python",
   "name": "python",
   "nbconvert_exporter": "python",
   "pygments_lexer": "ipython3",
   "version": "3.9.12"
  }
 },
 "nbformat": 4,
 "nbformat_minor": 5
}
