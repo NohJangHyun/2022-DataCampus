{
 "cells": [
  {
   "cell_type": "code",
   "execution_count": null,
   "id": "341b9b6f",
   "metadata": {},
   "outputs": [],
   "source": [
    "#1\n",
    "numbers=[20, 1, 12, 9, 18]\n",
    "\n",
    "for i in numbers:\n",
    "    print(i, \"\\t\", \"*\"*i)\n"
   ]
  },
  {
   "cell_type": "code",
   "execution_count": null,
   "id": "62d8a4f8",
   "metadata": {},
   "outputs": [],
   "source": [
    "#2\n",
    "s = []\n",
    "s.append([0,0,0,0,0,0,0,0,0,0])\n",
    "s.append([0,0,0,0,0,0,0,0,0,0])\n",
    "s.append([0,0,0,0,0,0,0,0,0,0])\n",
    "s.append([0,0,0,0,0,0,0,0,0,0])\n",
    "s.append([0,0,0,0,0,0,0,0,0,0])\n",
    "s.append([0,0,0,0,0,0,0,0,0,0])\n",
    "s.append([0,0,0,0,0,0,0,0,0,0])\n",
    "s.append([0,0,0,0,0,0,0,0,0,0])\n",
    "s.append([0,0,0,0,0,0,0,0,0,0])\n",
    "\n",
    "def displayBookings():\n",
    "    print(\"==================================\")\n",
    "    print(\"0 1 2 3 4 5 6 7 8 9 10\")\n",
    "    print(\"==================================\")\n",
    "    for i in s:\n",
    "        print(i)\n",
    "    print()\n",
    "\n",
    "def reserve():\n",
    "    a = int(input(\"원하시는 좌석의 행번호를 입력하세요(종료는 -1)\"))\n",
    "    b = int(input(\"원하시는 좌석의 열번호를 입력하세요(종료는 -1)\"))\n",
    "    if a == -1:\n",
    "        return False\n",
    "    elif b == -1:\n",
    "        return False\n",
    "    elif s[a][b] == 1:\n",
    "        print(\"예약된 자리\")\n",
    "    else:\n",
    "        print(\"예약합니다.\")\n",
    "        s[a][b] = 1\n",
    "        \n",
    "while(True):\n",
    "    displayBookings()\n",
    "    if reserve() == False:\n",
    "        break"
   ]
  },
  {
   "cell_type": "code",
   "execution_count": null,
   "id": "b512cab5",
   "metadata": {},
   "outputs": [],
   "source": [
    "#3\n",
    "list1 = [1,2,3,4,5,6]\n",
    "list2 = [6,7,8,9,10]\n",
    "\n",
    "def common_data(list1, list2):\n",
    "    for i in list1:\n",
    "        if i in list2:\n",
    "            return(True)\n",
    "\n",
    "ans = common_data(list1, list2)\n",
    "print(ans)"
   ]
  },
  {
   "cell_type": "code",
   "execution_count": null,
   "id": "6e244a6c",
   "metadata": {},
   "outputs": [],
   "source": [
    "#4\n",
    "ans = 0\n",
    "for i in range(0, 101, 3):\n",
    "    ans += i\n",
    "print(ans)\n",
    "\n"
   ]
  },
  {
   "cell_type": "code",
   "execution_count": 1,
   "id": "c680b789",
   "metadata": {},
   "outputs": [
    {
     "name": "stdout",
     "output_type": "stream",
     "text": [
      "정수를 입력하시오: 10\n",
      "1 \n",
      "1 2 \n",
      "1 2 3 \n",
      "1 2 3 4 \n",
      "1 2 3 4 5 \n",
      "1 2 3 4 5 6 \n",
      "1 2 3 4 5 6 7 \n",
      "1 2 3 4 5 6 7 8 \n",
      "1 2 3 4 5 6 7 8 9 \n",
      "1 2 3 4 5 6 7 8 9 10 \n"
     ]
    }
   ],
   "source": [
    "#5\n",
    "num = int(input(\"정수를 입력하시오: \"))\n",
    "for i in range(1, num+1):\n",
    "    for j in range(1, i+1):\n",
    "        print(j, end=\" \")\n",
    "    print()\n",
    "    \n",
    "# num = int(input(\"정수를 입력하시오: \"))\n",
    "# a = 1\n",
    "# b = 1\n",
    "# while(num!=a):\n",
    "#     for i in range(a):\n",
    "#         if(a!=b):\n",
    "#             print(i+1, end=\" \")\n",
    "#             b+=1\n",
    "#         else:\n",
    "#             print(i+1)\n",
    "#             b=1\n",
    "#     a+=1\n",
    "# for i in range(num):\n",
    "#     print(i+1, end=\" \")"
   ]
  },
  {
   "cell_type": "code",
   "execution_count": 6,
   "id": "99e76bc2",
   "metadata": {},
   "outputs": [
    {
     "name": "stdout",
     "output_type": "stream",
     "text": [
      "몇 번째 항까지 구할까요? 10\n",
      "0 1 1 2 3 5 8 13 21 34 55 "
     ]
    }
   ],
   "source": [
    "#6\n",
    "nterms = int(input('몇 번째 항까지 구할까요? '))\n",
    "\n",
    "a, b = 0, 1\n",
    "cnt = 0\n",
    "\n",
    "while cnt <= nterms:\n",
    "    print(a, end = \" \")\n",
    "    c = a + b\n",
    "    a = b\n",
    "    b = c\n",
    "    cnt += 1\n",
    "\n",
    "\n",
    "# list=[0, 1]\n",
    "# for i in range(nterms-1):\n",
    "#     a = list[i]\n",
    "#     b = list[i+1]\n",
    "#     sum = int(a)+int(b)\n",
    "#     list.append(sum)\n",
    "\n",
    "# print(list)"
   ]
  },
  {
   "cell_type": "code",
   "execution_count": null,
   "id": "7b22c42e",
   "metadata": {},
   "outputs": [],
   "source": [
    "#7\n",
    "score = int(input('점수를 입력하세요: '))\n",
    "grade = \"\"\n",
    "def getGrade(score):\n",
    "    if(score>=90):\n",
    "        return(\"A\")\n",
    "    elif(score>=80):\n",
    "        return(\"B\")\n",
    "    elif(score>=70):\n",
    "        return(\"C\")\n",
    "    elif(score>=60):\n",
    "        return(\"D\")\n",
    "    else:\n",
    "        return(\"F\")\n",
    "\n",
    "print(\"성적은 \", getGrade(score) ,\" 입니다.\")"
   ]
  },
  {
   "cell_type": "code",
   "execution_count": 4,
   "id": "785ada83",
   "metadata": {},
   "outputs": [
    {
     "name": "stdout",
     "output_type": "stream",
     "text": [
      "첫 번째 정수를 입력하시오: 20\n",
      "두 번째 정수를 입력하시오: 50\n",
      "70 -30 1000 0.4  가 반환되었습니다.\n"
     ]
    }
   ],
   "source": [
    "#8\n",
    "num1 = int(input(\"첫 번째 정수를 입력하시오: \"))\n",
    "num2 = int(input(\"두 번째 정수를 입력하시오: \"))\n",
    "\n",
    "def calc(num1, num2):\n",
    "    sum = num1 + num2\n",
    "    sub = num1 - num2\n",
    "    mul = num1 * num2\n",
    "    div = num1 / num2\n",
    "    return sum, sub, mul, div\n",
    "\n",
    "a, b, c, d = calc(num1, num2)\n",
    "print(a, b, c, d, \" 가 반환되었습니다.\")\n"
   ]
  },
  {
   "cell_type": "code",
   "execution_count": 7,
   "id": "3d690545",
   "metadata": {},
   "outputs": [
    {
     "name": "stdout",
     "output_type": "stream",
     "text": [
      "문자열을 입력하시오: a good day\n",
      "금칙어를 입력하시오: good\n"
     ]
    },
    {
     "data": {
      "text/plain": [
       "'a **** day'"
      ]
     },
     "execution_count": 7,
     "metadata": {},
     "output_type": "execute_result"
    }
   ],
   "source": [
    "#9\n",
    "a = input(\"문자열을 입력하시오: \")\n",
    "b = input(\"금칙어를 입력하시오: \").split()\n",
    "\n",
    "def censor_string(a, b):\n",
    "    for i in b:\n",
    "        a = a.replace(i, \"*\" * len(i))\n",
    "    return a\n",
    "censor_string(a,b)"
   ]
  },
  {
   "cell_type": "code",
   "execution_count": 2,
   "id": "7f94920f",
   "metadata": {},
   "outputs": [
    {
     "name": "stdout",
     "output_type": "stream",
     "text": [
      "첫 번째 문자열: a good day\n",
      "두 번째 문자열: two day\n",
      "{'o', 'd', 'a', ' ', 'y'}\n"
     ]
    }
   ],
   "source": [
    "#10\n",
    "a = input(\"첫 번째 문자열: \")\n",
    "b = input(\"두 번째 문자열: \")\n",
    "\n",
    "A = set(a)\n",
    "B = set(b)\n",
    "print(A&B)\n",
    "\n",
    "# list = []\n",
    "# for i in a:\n",
    "#     if i in b:\n",
    "#         list.append(i)\n",
    "# print(set(list))\n"
   ]
  }
 ],
 "metadata": {
  "kernelspec": {
   "display_name": "Python 3 (ipykernel)",
   "language": "python",
   "name": "python3"
  },
  "language_info": {
   "codemirror_mode": {
    "name": "ipython",
    "version": 3
   },
   "file_extension": ".py",
   "mimetype": "text/x-python",
   "name": "python",
   "nbconvert_exporter": "python",
   "pygments_lexer": "ipython3",
   "version": "3.9.6"
  }
 },
 "nbformat": 4,
 "nbformat_minor": 5
}
