{
  "nbformat": 4,
  "nbformat_minor": 0,
  "metadata": {
    "colab": {
      "name": "7.07 class practice.ipynb",
      "provenance": [],
      "collapsed_sections": []
    },
    "kernelspec": {
      "name": "python3",
      "display_name": "Python 3"
    },
    "language_info": {
      "name": "python"
    }
  },
  "cells": [
    {
      "cell_type": "markdown",
      "source": [
        "- Python에서 행렬(Matrix)를 효과적으로 사용하기 위한 외부 라이브러리로 행렬과 관련된 다양한 기능을 가지고 있어, 처리/분석에 적합\n",
        "\n",
        "- Numpy 내부 알고리즘은 C 언어로 작성되어, 적은 메모리로 빠른 처리가 가능\n",
        "\n",
        "- 배열(Array)이 가진 요소(Elements)에 각각 2를 곱하고 이를 저장한 새로운 배열을 만드는 시간 측정 => Numpy를 사용한 경우가 더 빠른 것 확인할 수 있음"
      ],
      "metadata": {
        "id": "zVl73Q9IVtNI"
      }
    },
    {
      "cell_type": "code",
      "source": [
        "import numpy as np"
      ],
      "metadata": {
        "id": "S8EYVa7yVWJo"
      },
      "execution_count": null,
      "outputs": []
    },
    {
      "cell_type": "code",
      "source": [
        "#ndarray형 객체와 list형 객체 생성\n",
        "np_arr = np.arange(1000000)\n",
        "list_arr = list(range(1000000))"
      ],
      "metadata": {
        "id": "HFuDNI1jVYlr"
      },
      "execution_count": null,
      "outputs": []
    },
    {
      "cell_type": "code",
      "source": [
        "#1000000의 요소에 곱하기 2하는 과정을 10번 수행\n",
        "#%time 은 코드 한 줄이 실행하는데 걸리는 시간 출력\n",
        "%time for _ in range(10): my_arr = np_arr *2\n",
        "%time for _ in range(10): my_arr = [x * 2 for x in list_arr]"
      ],
      "metadata": {
        "colab": {
          "base_uri": "https://localhost:8080/"
        },
        "id": "uaM6uC9kVgWO",
        "outputId": "d77de631-e4cd-4214-f1f1-e42455ec66d0"
      },
      "execution_count": null,
      "outputs": [
        {
          "output_type": "stream",
          "name": "stdout",
          "text": [
            "CPU times: user 14.6 ms, sys: 6.21 ms, total: 20.8 ms\n",
            "Wall time: 24.5 ms\n",
            "CPU times: user 798 ms, sys: 178 ms, total: 975 ms\n",
            "Wall time: 976 ms\n"
          ]
        }
      ]
    },
    {
      "cell_type": "markdown",
      "source": [
        "- ndarray는 Numpy의 기본 객체\n",
        "- 다차원 배열을 빨리 처리하기 위해 homogeneous array(동종 배열) => 배열과 종류 하나로 통일\n"
      ],
      "metadata": {
        "id": "i2U4GV3wW5vH"
      }
    },
    {
      "cell_type": "code",
      "source": [
        "#기본적인 객체 ndarray 만들기\n",
        "print(type(np.array(1)))\n",
        "print(type(np.array(0.1)))\n",
        "print(type(np.array(\"str\")))\n",
        "print(type(np.array(True)))\n",
        "print(type(np.array([\"list\"])))\n",
        "print(type(np.array((\"tuple\"))))\n",
        "print(type(np.array(({\"key\":\"value\"}))))"
      ],
      "metadata": {
        "colab": {
          "base_uri": "https://localhost:8080/"
        },
        "id": "lvuoY8JLXme4",
        "outputId": "dbc62ea3-3a60-4b3f-972f-362665007448"
      },
      "execution_count": null,
      "outputs": [
        {
          "output_type": "stream",
          "name": "stdout",
          "text": [
            "<class 'numpy.ndarray'>\n",
            "<class 'numpy.ndarray'>\n",
            "<class 'numpy.ndarray'>\n",
            "<class 'numpy.ndarray'>\n",
            "<class 'numpy.ndarray'>\n",
            "<class 'numpy.ndarray'>\n",
            "<class 'numpy.ndarray'>\n"
          ]
        }
      ]
    },
    {
      "cell_type": "code",
      "source": [
        "#2행 3열의 난수로 구성된 객체 ndarray 만들기\n",
        "rand_data = np.random.randn(2, 3)\n",
        "print(rand_data, \"\\n\")\n",
        "\n",
        "#산술연산도 가능\n",
        "print(rand_data * 10, \"\\n\")\n",
        "print(rand_data + rand_data, \"\\n\")"
      ],
      "metadata": {
        "colab": {
          "base_uri": "https://localhost:8080/"
        },
        "id": "ddNOBhLpYDOC",
        "outputId": "3c3b8a19-7a50-4a6f-c238-986e45eb6d84"
      },
      "execution_count": null,
      "outputs": [
        {
          "output_type": "stream",
          "name": "stdout",
          "text": [
            "[[-0.36523756  1.69719281  1.22487174]\n",
            " [ 0.98221423  0.07596641  0.01387814]] \n",
            "\n",
            "[[-3.6523756  16.97192809 12.24871736]\n",
            " [ 9.82214225  0.7596641   0.13878136]] \n",
            "\n",
            "[[-0.73047512  3.39438562  2.44974347]\n",
            " [ 1.96442845  0.15193282  0.02775627]] \n",
            "\n"
          ]
        }
      ]
    },
    {
      "cell_type": "code",
      "source": [
        "#객체 ndarray의 Attribute(Instance Variable)\n",
        "print(type(rand_data))\n",
        "print(rand_data.shape) #ndarray의 각 차원을 정수 혹은 정수형으로 구성된 튜플로 알려줌\n",
        "print(rand_data.ndim) #ndarray가 총 몇 차원으로 구성되었는지 알려줌\n",
        "print(rand_data.dtype) #ndarray가 어떠한 자료형으로 구성되었는지 알려줌"
      ],
      "metadata": {
        "colab": {
          "base_uri": "https://localhost:8080/"
        },
        "id": "46im-sXfYXbn",
        "outputId": "0c3e33f8-ad5e-43b5-a1d4-b1d3c1e90a77"
      },
      "execution_count": null,
      "outputs": [
        {
          "output_type": "stream",
          "name": "stdout",
          "text": [
            "<class 'numpy.ndarray'>\n",
            "(2, 3)\n",
            "2\n",
            "float64\n"
          ]
        }
      ]
    },
    {
      "cell_type": "code",
      "source": [
        "#자료형 list와 객체 ndarray의 출력 비교\n",
        "list_arr = [[1,2,3,], [4,5,6]]\n",
        "print(list_arr)\n",
        "print(type(list_arr))\n",
        "\n",
        "np_arr = np.array([[1,2,3,], [4,5,6]])\n",
        "print(np_arr)\n",
        "print(type(np_arr))\n",
        "\n",
        "print(np_arr.ndim)\n",
        "print(np_arr.shape)\n",
        "print(np_arr.shape[0]) #자료형이 tuple이기 때문에 불러올 수 있음\n",
        "print(np_arr.shape[1]) \n",
        "print(np_arr.dtype)"
      ],
      "metadata": {
        "colab": {
          "base_uri": "https://localhost:8080/"
        },
        "id": "x7jVo0UJZACb",
        "outputId": "16ac01b7-f814-4123-d874-6e9b014863a8"
      },
      "execution_count": null,
      "outputs": [
        {
          "output_type": "stream",
          "name": "stdout",
          "text": [
            "[[1, 2, 3], [4, 5, 6]]\n",
            "<class 'list'>\n",
            "[[1 2 3]\n",
            " [4 5 6]]\n",
            "<class 'numpy.ndarray'>\n",
            "2\n",
            "(2, 3)\n",
            "2\n",
            "3\n",
            "int64\n"
          ]
        }
      ]
    },
    {
      "cell_type": "code",
      "source": [
        "#다른 자료형이 섞여있는 경우 = > 오류 X, 더 많은 것을 표현할 수 있는 자료형으로 통일\n",
        "#string의 경우 가장 긴 문자열로 통일 \n",
        "list_arr = [[1.0, 2.0, 3.0], [4,5,6]]\n",
        "np_arr = np.array(list_arr)\n",
        "print(np_arr.dtype)"
      ],
      "metadata": {
        "colab": {
          "base_uri": "https://localhost:8080/"
        },
        "id": "dj9yAjFTZzoh",
        "outputId": "34ca5f5a-78ce-48c5-d785-916a37656cf4"
      },
      "execution_count": null,
      "outputs": [
        {
          "output_type": "stream",
          "name": "stdout",
          "text": [
            "float64\n"
          ]
        }
      ]
    },
    {
      "cell_type": "code",
      "source": [
        "#복잡한 ndarray 객체 만들기(array, arange, ones, ones_like)\n",
        "my_data = np.array([1,2,3])\n",
        "print(my_data, my_data.shape)\n",
        "\n",
        "#.arange(start, stop, step)\n",
        "my_data = np.arange(3, 0, -1)\n",
        "print(my_data, my_data.shape)\n",
        "\n",
        "#행렬의 크기 넣어주면 크기만큼 1로 채움\n",
        "my_data = np.ones(3)\n",
        "print(my_data, my_data.shape)\n",
        "\n",
        "#어떤 값을 채웠는지 중요 X, 몇행 몇열인지 분석 후 동일한 크기로 출력\n",
        "my_data = np.ones_like([5, 4, 3, 2, 1, 0])\n",
        "print(my_data, my_data.shape)"
      ],
      "metadata": {
        "colab": {
          "base_uri": "https://localhost:8080/"
        },
        "id": "Hbnyr6cJaHgy",
        "outputId": "1c2a20ff-6905-4a2e-e739-f5aa51385334"
      },
      "execution_count": null,
      "outputs": [
        {
          "output_type": "stream",
          "name": "stdout",
          "text": [
            "[1 2 3] (3,)\n",
            "[3 2 1] (3,)\n",
            "[1. 1. 1.] (3,)\n",
            "[1 1 1 1 1 1] (6,)\n"
          ]
        }
      ]
    },
    {
      "cell_type": "code",
      "source": [
        "#복잡한 ndarray 객체 만들기(zeros, zeros_like, full, full_like)\n",
        "#.ones와 동일 대신 0으로 채움\n",
        "my_data = np.zeros(3)\n",
        "print(my_data, my_data.shape)\n",
        "\n",
        "#.ones_like와 동일 대신 0으로 채움\n",
        "my_data = np.zeros_like([5, 4, 3, 2, 1, 0])\n",
        "print(my_data, my_data.shape)\n",
        "\n",
        "#.full((4, 2, 4,), True) => 4층 2행 4열을 True로 채움\n",
        "my_data = np.full((4,2,4,), True)\n",
        "print(my_data, my_data.shape, my_data.dtype)\n",
        "\n",
        "my_data = np.full_like(list_arr, True) #list_arr: 2 X 3 행렬\n",
        "print(my_data, my_data.shape, my_data.dtype)"
      ],
      "metadata": {
        "colab": {
          "base_uri": "https://localhost:8080/"
        },
        "id": "IBFHDMEFbTvw",
        "outputId": "b9391e18-0202-4cee-bf0e-cf8b26f69aaf"
      },
      "execution_count": null,
      "outputs": [
        {
          "output_type": "stream",
          "name": "stdout",
          "text": [
            "[0. 0. 0.] (3,)\n",
            "[0 0 0 0 0 0] (6,)\n",
            "[[[ True  True  True  True]\n",
            "  [ True  True  True  True]]\n",
            "\n",
            " [[ True  True  True  True]\n",
            "  [ True  True  True  True]]\n",
            "\n",
            " [[ True  True  True  True]\n",
            "  [ True  True  True  True]]\n",
            "\n",
            " [[ True  True  True  True]\n",
            "  [ True  True  True  True]]] (4, 2, 4) bool\n",
            "[[1. 1. 1.]\n",
            " [1. 1. 1.]] (2, 3) float64\n"
          ]
        }
      ]
    },
    {
      "cell_type": "markdown",
      "source": [
        "그 외의 방법\n",
        "- np.empty(), np.empty_like => 값이 없는 행렬\n",
        "- np.assaray() => 자료형으로 변환\n",
        "-  np.eye(), np.identity() => 단위 행렬"
      ],
      "metadata": {
        "id": "6lZM_pMqlbee"
      }
    },
    {
      "cell_type": "code",
      "source": [
        "#객체 ndarray의 자료형을 변환해야 할 경우 .astype() 사용\n",
        "#실수형을 정수형을 바꾸어 소수점 이하를 버릴 때, 불러온 문자열을 실수/정수형으로 바꿀 때\n",
        "#변환에 실패할 경우, ValueError 발생\n",
        "int_arr = np.array([1, 2, 3, 4, 5])\n",
        "print(int_arr, int_arr.dtype)\n",
        "\n",
        "#np.astype() X, ndarray.astype() O\n",
        "float_arr = int_arr.astype(np.float64) \n",
        "print(float_arr, float_arr.dtype)\n",
        "\n",
        "#가장 긴 문자열로 통일 => .dtype 출력시 S와 통일된 최대값이 나옴 \n",
        "string_arr = np.array(['+1.25', '-9.7', '43'], dtype=np.string_)\n",
        "print(string_arr, string_arr.dtype)\n",
        "\n",
        "string_to_float_arr = string_arr.astype(float)\n",
        "print(string_to_float_arr, string_to_float_arr.dtype)"
      ],
      "metadata": {
        "colab": {
          "base_uri": "https://localhost:8080/"
        },
        "id": "FljXPJKedOVG",
        "outputId": "4ecc6542-e03e-49f0-ac46-5e7a1634a514"
      },
      "execution_count": null,
      "outputs": [
        {
          "output_type": "stream",
          "name": "stdout",
          "text": [
            "[1 2 3 4 5] int64\n",
            "[1. 2. 3. 4. 5.] float64\n",
            "[b'+1.25' b'-9.7' b'43'] |S5\n",
            "[ 1.25 -9.7  43.  ] float64\n"
          ]
        }
      ]
    },
    {
      "cell_type": "code",
      "source": [
        "#Broadcasting - 벡터화(Vectorization)\n",
        "#Numpy는 for 반복문 없이 연산 가능\n",
        "#list의 덧셈 연산은 list를 합침, ndarray의 덧셈 연산은 행렬을 덧셈 연산\n",
        "full_data = np.full((4,5), 2)\n",
        "print(full_data)\n",
        "\n",
        "print(full_data + full_data)\n",
        "print(full_data - full_data)\n",
        "print(full_data * full_data)\n",
        "\n",
        "#행렬에 스칼라(Scala)를 연산할 경우\n",
        "print(full_data * 1.5)\n",
        "print(full_data / 2)"
      ],
      "metadata": {
        "colab": {
          "base_uri": "https://localhost:8080/"
        },
        "id": "yTVf0zSxim8_",
        "outputId": "e927976a-4e83-4613-ce98-be422d28583c"
      },
      "execution_count": null,
      "outputs": [
        {
          "output_type": "stream",
          "name": "stdout",
          "text": [
            "[[2 2 2 2 2]\n",
            " [2 2 2 2 2]\n",
            " [2 2 2 2 2]\n",
            " [2 2 2 2 2]]\n",
            "[[4 4 4 4 4]\n",
            " [4 4 4 4 4]\n",
            " [4 4 4 4 4]\n",
            " [4 4 4 4 4]]\n",
            "[[0 0 0 0 0]\n",
            " [0 0 0 0 0]\n",
            " [0 0 0 0 0]\n",
            " [0 0 0 0 0]]\n",
            "[[4 4 4 4 4]\n",
            " [4 4 4 4 4]\n",
            " [4 4 4 4 4]\n",
            " [4 4 4 4 4]]\n",
            "[[3. 3. 3. 3. 3.]\n",
            " [3. 3. 3. 3. 3.]\n",
            " [3. 3. 3. 3. 3.]\n",
            " [3. 3. 3. 3. 3.]]\n",
            "[[1. 1. 1. 1. 1.]\n",
            " [1. 1. 1. 1. 1.]\n",
            " [1. 1. 1. 1. 1.]\n",
            " [1. 1. 1. 1. 1.]]\n"
          ]
        }
      ]
    },
    {
      "cell_type": "code",
      "source": [
        "#Broadcasting - 서로 다른 두 행렬의 비교 연산 => True, False로 출력\n",
        "np_arr = np.array([[1, 3, 5], [2, 4, 6]])\n",
        "np_arr2 = np.array([[-2, 3, -1], [4, 8, -12]])\n",
        "\n",
        "\n",
        "print(np_arr < np_arr2)\n",
        "print(np_arr > np_arr2)\n",
        "#행의 크기가 다른 경우 => 자동으로 확장 시켜서 연산 수행 \n",
        "print(np_arr <= np.array([[4], [4]]))"
      ],
      "metadata": {
        "colab": {
          "base_uri": "https://localhost:8080/"
        },
        "id": "XcHFb8BAkWta",
        "outputId": "5330e7ca-b781-403d-c446-6caa89719e69"
      },
      "execution_count": null,
      "outputs": [
        {
          "output_type": "stream",
          "name": "stdout",
          "text": [
            "[[False False False]\n",
            " [ True  True False]]\n",
            "[[ True False  True]\n",
            " [False False  True]]\n",
            "[[ True  True False]\n",
            " [ True  True False]]\n"
          ]
        }
      ]
    },
    {
      "cell_type": "markdown",
      "source": [
        "ufunc(유니버셜 함수 - universal function)\n",
        "- 객체 ndarray를 연산하기 위한 메소드\n",
        "  - sqrt, square, exp, ceil, floor (매개변수 1개)\n",
        "  - add, substract, multiply, divide, floor_divide(매개변수 2개)\n"
      ],
      "metadata": {
        "id": "XCabPRaVlink"
      }
    },
    {
      "cell_type": "code",
      "source": [
        "#1차원에서의 indexing과 slicing\n",
        "#객체 ndarray의 일부를 선택할 경우\n",
        "arange_data = np.arange(10)\n",
        "list_data = list(range(10))\n",
        "\n",
        "print(arange_data)\n",
        "print(list_data)\n",
        "\n",
        "print(arange_data[3])\n",
        "print(list_data[3])\n",
        "print(arange_data[2:7])\n",
        "print(list_data[2:7])"
      ],
      "metadata": {
        "colab": {
          "base_uri": "https://localhost:8080/"
        },
        "id": "dJlPLfuKlCex",
        "outputId": "05416654-ac02-4c14-add9-ea003f232153"
      },
      "execution_count": null,
      "outputs": [
        {
          "output_type": "stream",
          "name": "stdout",
          "text": [
            "[0 1 2 3 4 5 6 7 8 9]\n",
            "[0, 1, 2, 3, 4, 5, 6, 7, 8, 9]\n",
            "3\n",
            "3\n",
            "[2 3 4 5 6]\n",
            "[2, 3, 4, 5, 6]\n"
          ]
        }
      ]
    },
    {
      "cell_type": "code",
      "source": [
        "#다차원에서의 indexing과 slicing\n",
        "#객체 ndarray의 일부를 선택할 경우\n",
        "arange_array = np.array([np.arange(0, 4), np.arange(4,8), np.arange(8,12), np.arange(12,16)])\n",
        "print(\"전체 array 출력\")\n",
        "print(arange_array, \"\\n\")\n",
        "\n",
        "print(arange_array[0][1])\n",
        "print(arange_array[0, 1], \"\\n\")\n",
        "\n",
        "#첫번째 행 출력하기\n",
        "print(\"첫 번째 행 출력\")\n",
        "print(arange_array[0]) \n",
        "print(arange_array[0][:])\n",
        "print(arange_array[0, ], \"\\n\")\n",
        "\n",
        "print(\"slicing 연습1\")\n",
        "print(arange_array[:3, 1:], \"\\n\") #0~2번 행에서 1~마지막 열 출력\n",
        "\n",
        "print(\"slicing 연습2\")\n",
        "#둘 다 의미하는 바는 마지막 열 전체를 말함\n",
        "print(arange_array[:, 3], \"\\n\") #1차원(가로) 출력, 재정렬해서 하나의 행렬로 출력\n",
        "print(arange_array[:, 3:4], \"\\n\") #원본 값 처럼 출력하고 싶은 경우\n",
        "\n",
        "print(\"slicing 연습3\")\n",
        "print(arange_array[1, :3]) #1번째 행에서 0~2번 열 출력"
      ],
      "metadata": {
        "colab": {
          "base_uri": "https://localhost:8080/"
        },
        "id": "e0d10VhymM9i",
        "outputId": "2ce360c2-e284-48a5-da34-824896b941e9"
      },
      "execution_count": null,
      "outputs": [
        {
          "output_type": "stream",
          "name": "stdout",
          "text": [
            "전체 array 출력\n",
            "[[ 0  1  2  3]\n",
            " [ 4  5  6  7]\n",
            " [ 8  9 10 11]\n",
            " [12 13 14 15]] \n",
            "\n",
            "1\n",
            "1 \n",
            "\n",
            "첫 번째 행 출력\n",
            "[0 1 2 3]\n",
            "[0 1 2 3]\n",
            "[0 1 2 3] \n",
            "\n",
            "slicing 연습1\n",
            "[[ 1  2  3]\n",
            " [ 5  6  7]\n",
            " [ 9 10 11]] \n",
            "\n",
            "slicing 연습2\n",
            "[ 3  7 11 15] \n",
            "\n",
            "[[ 3]\n",
            " [ 7]\n",
            " [11]\n",
            " [15]] \n",
            "\n",
            "slicing 연습3\n",
            "[4 5 6]\n"
          ]
        }
      ]
    },
    {
      "cell_type": "code",
      "source": [
        "#indexing과 slicing에서 한 일부 행렬의 값을 바꿀 때\n",
        "print(\"자료형 list\")\n",
        "print(list_data)\n",
        "for x in range(2, 7):\n",
        "  list_data[x] = -1\n",
        "print(list_data, type(list_data), \"\\n\")\n",
        "\n",
        "print(\"객체 ndarray 1차원\")\n",
        "print(arange_data)\n",
        "arange_data[2:7] = -1\n",
        "print(arange_data, arange_data.dtype, \"\\n\")\n",
        "\n",
        "print(\"객체 ndarray 2차원\")\n",
        "print(arange_array)\n",
        "arange_array[1, :2] = -1\n",
        "print(arange_array, arange_array.dtype, \"\\n\")"
      ],
      "metadata": {
        "colab": {
          "base_uri": "https://localhost:8080/"
        },
        "id": "6YHTV91emeZd",
        "outputId": "220a1d47-c857-4366-ce88-d1bc96c52f9a"
      },
      "execution_count": null,
      "outputs": [
        {
          "output_type": "stream",
          "name": "stdout",
          "text": [
            "자료형 list\n",
            "[0, 1, -1, -1, -1, -1, -1, 7, 8, 9]\n",
            "[0, 1, -1, -1, -1, -1, -1, 7, 8, 9] <class 'list'> \n",
            "\n",
            "객체 ndarray 1차원\n",
            "[[ 0  1  2  3]\n",
            " [ 4  5  6  7]\n",
            " [-1  9 -1 -1]\n",
            " [-1  9 -1 -1]]\n",
            "[[ 0  1  2  3]\n",
            " [ 4  5  6  7]\n",
            " [-1 -1 -1 -1]\n",
            " [-1 -1 -1 -1]] int64 \n",
            "\n",
            "객체 ndarray 2차원\n",
            "[[ 0  1  2  3]\n",
            " [-1 -1  6  7]\n",
            " [ 8  9 10 11]\n",
            " [12 13 14 15]]\n",
            "[[ 0  1  2  3]\n",
            " [-1 -1  6  7]\n",
            " [ 8  9 10 11]\n",
            " [12 13 14 15]] int64 \n",
            "\n"
          ]
        }
      ]
    },
    {
      "cell_type": "code",
      "source": [
        "#list의 경우 복제 ndarray의 경우 가르키기(view) 때문에 수정시 원본 데이터가 바뀜\n",
        "arange2_data = arange_data[2]\n",
        "print(arange2_data)\n",
        "list2_data = list_data[3:6]\n",
        "print(list2_data)\n",
        "\n",
        "arange2_data[1] = 9\n",
        "list2_data[1] = 9\n",
        "\n",
        "print(arange_data) #slicing한 행렬 변경한 경우 원본 데이터도 바뀜\n",
        "print(list_data) #slicing한 행렬 변경해도 원본 데이터는 바뀌지 않음\n",
        "print(arange2_data)\n",
        "print(list2_data)"
      ],
      "metadata": {
        "colab": {
          "base_uri": "https://localhost:8080/"
        },
        "id": "ye11cuWgp5-q",
        "outputId": "4db7fa73-6a25-4831-c993-536469ae3337"
      },
      "execution_count": null,
      "outputs": [
        {
          "output_type": "stream",
          "name": "stdout",
          "text": [
            "[-1 -1 -1 -1]\n",
            "[-1, -1, -1]\n",
            "[[ 0  1  2  3]\n",
            " [ 4  5  6  7]\n",
            " [-1  9 -1 -1]\n",
            " [-1 -1 -1 -1]]\n",
            "[0, 1, -1, -1, -1, -1, -1, 7, 8, 9]\n",
            "[-1  9 -1 -1]\n",
            "[-1, 9, -1]\n"
          ]
        }
      ]
    },
    {
      "cell_type": "code",
      "source": [
        "#list와 ndarray의 행렬을 slicing 한 후 slicing한 행렬을 변경한 때 원본 데이터도 바뀌는지 확인\n",
        "list_data = list(range(10))\n",
        "list2_data = list_data[3:6]\n",
        "print(list2_data)\n",
        "list2_data[1] = -1\n",
        "print(list2_data)\n",
        "print(list_data, \"\\n\")\n",
        "\n",
        "arange_data = np.arange(10)\n",
        "arange2_data = arange_data[3:6]\n",
        "print(arange2_data)\n",
        "arange2_data[1] = -1\n",
        "print(arange2_data)\n",
        "print(arange_data)"
      ],
      "metadata": {
        "colab": {
          "base_uri": "https://localhost:8080/"
        },
        "id": "nT-biuVRqbOz",
        "outputId": "9dd58869-ad87-4326-a27e-6f55efbc29bc"
      },
      "execution_count": null,
      "outputs": [
        {
          "output_type": "stream",
          "name": "stdout",
          "text": [
            "[3, 4, 5]\n",
            "[3, -1, 5]\n",
            "[0, 1, 2, 3, 4, 5, 6, 7, 8, 9] \n",
            "\n",
            "[3 4 5]\n",
            "[ 3 -1  5]\n",
            "[ 0  1  2  3 -1  5  6  7  8  9]\n"
          ]
        }
      ]
    },
    {
      "cell_type": "code",
      "source": [
        "#다차원 또한 동일함\n",
        "print(arange_array)\n",
        "arange_array[1, :2] = -1\n",
        "print(arange_array)"
      ],
      "metadata": {
        "colab": {
          "base_uri": "https://localhost:8080/"
        },
        "id": "28OppB3nthks",
        "outputId": "08aeb410-0807-4a90-a542-e58956f82716"
      },
      "execution_count": null,
      "outputs": [
        {
          "output_type": "stream",
          "name": "stdout",
          "text": [
            "[[ 0  1  2  3]\n",
            " [ 4  5  6  7]\n",
            " [ 8  9 10 11]\n",
            " [12 13 14 15]]\n",
            "[[ 0  1  2  3]\n",
            " [-1 -1  6  7]\n",
            " [ 8  9 10 11]\n",
            " [12 13 14 15]]\n"
          ]
        }
      ]
    },
    {
      "cell_type": "code",
      "source": [
        "#유사한 경우 => 바뀌는 것 확인 가능\n",
        "n_data = np.array([0,25, 0.5, 0.75, 1.0, 1.25])\n",
        "m_data = [n_data, n_data, n_data]\n",
        "print(m_data)\n",
        "\n",
        "n_data[0] = -1\n",
        "print(m_data)\n",
        "\n",
        "#but 둘 다 ndarray의 경우 안바뀜\n",
        "n_data = np.array([0,25, 0.5, 0.75, 1.0, 1.25])\n",
        "m_data = np.array([n_data, n_data, n_data])\n",
        "print(m_data)\n",
        "\n",
        "n_data[0] = -1\n",
        "print(m_data)"
      ],
      "metadata": {
        "colab": {
          "base_uri": "https://localhost:8080/"
        },
        "id": "6LKkUYJou0ar",
        "outputId": "b596fed1-5924-40f6-8eab-0878e60ff47c"
      },
      "execution_count": null,
      "outputs": [
        {
          "output_type": "stream",
          "name": "stdout",
          "text": [
            "[array([ 0.  , 25.  ,  0.5 ,  0.75,  1.  ,  1.25]), array([ 0.  , 25.  ,  0.5 ,  0.75,  1.  ,  1.25]), array([ 0.  , 25.  ,  0.5 ,  0.75,  1.  ,  1.25])]\n",
            "[array([-1.  , 25.  ,  0.5 ,  0.75,  1.  ,  1.25]), array([-1.  , 25.  ,  0.5 ,  0.75,  1.  ,  1.25]), array([-1.  , 25.  ,  0.5 ,  0.75,  1.  ,  1.25])]\n",
            "[[ 0.   25.    0.5   0.75  1.    1.25]\n",
            " [ 0.   25.    0.5   0.75  1.    1.25]\n",
            " [ 0.   25.    0.5   0.75  1.    1.25]]\n",
            "[[ 0.   25.    0.5   0.75  1.    1.25]\n",
            " [ 0.   25.    0.5   0.75  1.    1.25]\n",
            " [ 0.   25.    0.5   0.75  1.    1.25]]\n"
          ]
        }
      ]
    },
    {
      "cell_type": "code",
      "source": [
        "#.reshape() 생성한 객체 ndarray의 차원 구조 변경\n",
        "one_data = np.ones(15).reshape(3, 5)\n",
        "print(one_data, one_data.shape, \"\\n\")\n",
        "arange_data = np.arange(15).reshape(one_data.shape) #차원만 전달해줘도 괜찮음\n",
        "print(arange_data, arange_data.shape, \"\\n\")\n",
        "\n",
        "#아래 결과는 모두 동일\n",
        "print(np.reshape(arange_data, (5, 3)), arange_data.shape, \"\\n\")\n",
        "print(arange_data.reshape((5, 3)), arange_data.shape, \"\\n\")"
      ],
      "metadata": {
        "id": "_W6rvel6vG9E",
        "colab": {
          "base_uri": "https://localhost:8080/"
        },
        "outputId": "30c8389a-811d-4f99-8b52-45fa9e562092"
      },
      "execution_count": null,
      "outputs": [
        {
          "output_type": "stream",
          "name": "stdout",
          "text": [
            "[[1. 1. 1. 1. 1.]\n",
            " [1. 1. 1. 1. 1.]\n",
            " [1. 1. 1. 1. 1.]] (3, 5) \n",
            "\n",
            "[[ 0  1  2  3  4]\n",
            " [ 5  6  7  8  9]\n",
            " [10 11 12 13 14]] (3, 5) \n",
            "\n",
            "[[ 0  1  2]\n",
            " [ 3  4  5]\n",
            " [ 6  7  8]\n",
            " [ 9 10 11]\n",
            " [12 13 14]] (3, 5) \n",
            "\n",
            "[[ 0  1  2]\n",
            " [ 3  4  5]\n",
            " [ 6  7  8]\n",
            " [ 9 10 11]\n",
            " [12 13 14]] (3, 5) \n",
            "\n"
          ]
        }
      ]
    },
    {
      "cell_type": "code",
      "source": [
        "#변경된 행렬 구조 반영 필수\n",
        "arange_data = arange_data.reshape((5, 3))\n",
        "print(arange_data)\n",
        "print(arange_data.shape)\n",
        "\n",
        "#차원 정보가 -1인 경우, 적절한 차원으로 자동 생성\n",
        "arange_data = np.arange(24).reshape((2, 4, -1))\n",
        "print(arange_data.shape)\n",
        "\n",
        "arange_dat = np.arange(24).reshape((2, -1, 3))\n",
        "print(arange_data.shape)"
      ],
      "metadata": {
        "colab": {
          "base_uri": "https://localhost:8080/"
        },
        "id": "SPrDxuIqDUw4",
        "outputId": "ca1b5b75-f7c5-4a30-9566-41c6b7e5ee3b"
      },
      "execution_count": null,
      "outputs": [
        {
          "output_type": "stream",
          "name": "stdout",
          "text": [
            "[[ 0  1  2]\n",
            " [ 3  4  5]\n",
            " [ 6  7  8]\n",
            " [ 9 10 11]\n",
            " [12 13 14]]\n",
            "(5, 3)\n",
            "(2, 4, 3)\n",
            "(2, 4, 3)\n"
          ]
        }
      ]
    },
    {
      "cell_type": "code",
      "source": [
        "#다차원의 객체 ndarray를 1차원으로 일괄 변경\n",
        "arange_data = np.arange(15).reshape(3,5)\n",
        "print(arange_data, arange_data.shape, \"\\n\")\n",
        "\n",
        "arange_data2 = np.ravel(arange_data)\n",
        "print(arange_data2, arange_data2.shape, \"\\n\")\n",
        "\n",
        "#가리키기 때문에 원본 데이터에도 영향이 감\n",
        "arange_data2[0] = -1\n",
        "print(arange_data, arange_data.shape)\n",
        "print(arange_data2, arange_data2.shape)"
      ],
      "metadata": {
        "colab": {
          "base_uri": "https://localhost:8080/"
        },
        "id": "0mmxqhIfEfgd",
        "outputId": "a057fadb-25ac-49f1-b4c4-03b007d6a20e"
      },
      "execution_count": null,
      "outputs": [
        {
          "output_type": "stream",
          "name": "stdout",
          "text": [
            "[[ 0  1  2  3  4]\n",
            " [ 5  6  7  8  9]\n",
            " [10 11 12 13 14]] (3, 5) \n",
            "\n",
            "[ 0  1  2  3  4  5  6  7  8  9 10 11 12 13 14] (15,) \n",
            "\n",
            "[[-1  1  2  3  4]\n",
            " [ 5  6  7  8  9]\n",
            " [10 11 12 13 14]] (3, 5)\n",
            "[-1  1  2  3  4  5  6  7  8  9 10 11 12 13 14] (15,)\n"
          ]
        }
      ]
    },
    {
      "cell_type": "code",
      "source": [
        "#메소트 flatten은 새로운 객체 ndarray를 생성\n",
        "arange_data = np.arange(15).reshape(3,5)\n",
        "arange_data2 = arange_data.flatten()\n",
        "\n",
        "print(arange_data2, arange_data2.shape, \"\\n\")\n",
        "\n",
        "#flatten을 사용한 경우 원본 데이터 바뀌지 않음\n",
        "arange_data2[0] = -1\n",
        "print(arange_data, arange_data.shape)\n",
        "print(arange_data2, arange_data2.shape)"
      ],
      "metadata": {
        "colab": {
          "base_uri": "https://localhost:8080/"
        },
        "id": "mOangx83FZHb",
        "outputId": "ebc21292-e29d-4159-f3b9-5a781e244beb"
      },
      "execution_count": null,
      "outputs": [
        {
          "output_type": "stream",
          "name": "stdout",
          "text": [
            "[ 0  1  2  3  4  5  6  7  8  9 10 11 12 13 14] (15,) \n",
            "\n",
            "[[ 0  1  2  3  4]\n",
            " [ 5  6  7  8  9]\n",
            " [10 11 12 13 14]] (3, 5)\n",
            "[-1  1  2  3  4  5  6  7  8  9 10 11 12 13 14] (15,)\n"
          ]
        }
      ]
    },
    {
      "cell_type": "code",
      "source": [
        "#.concatenate : 매개변수로 전달받은 축 정보로 합침(axis = 0 : 행으로 추가 / 1 : 열로 추가)\n",
        "#.vstack : 행으로 합침(세로)\n",
        "#.hstack : 열로 합침(가로)\n",
        "#행으로 추가하기\n",
        "data1 = np.arange(0, 15).reshape(3,5)\n",
        "data2 = np.arange(15, 30).reshape(3,5)\n",
        "\n",
        "#아래 결과는 동일하게 나옴\n",
        "print(np.concatenate([data1, data2], 0))\n",
        "print(np.vstack((data1, data2)))"
      ],
      "metadata": {
        "colab": {
          "base_uri": "https://localhost:8080/"
        },
        "id": "VOuFDRrAGKK1",
        "outputId": "24590767-0687-43bb-b2b0-32033472cdf7"
      },
      "execution_count": null,
      "outputs": [
        {
          "output_type": "stream",
          "name": "stdout",
          "text": [
            "[[ 0  1  2  3  4]\n",
            " [ 5  6  7  8  9]\n",
            " [10 11 12 13 14]\n",
            " [15 16 17 18 19]\n",
            " [20 21 22 23 24]\n",
            " [25 26 27 28 29]]\n",
            "[[ 0  1  2  3  4]\n",
            " [ 5  6  7  8  9]\n",
            " [10 11 12 13 14]\n",
            " [15 16 17 18 19]\n",
            " [20 21 22 23 24]\n",
            " [25 26 27 28 29]]\n"
          ]
        }
      ]
    },
    {
      "cell_type": "code",
      "source": [
        "#열로 추가하기\n",
        "print(np.concatenate([data1, data2], 1))\n",
        "print(np.hstack((data1, data2)))"
      ],
      "metadata": {
        "colab": {
          "base_uri": "https://localhost:8080/"
        },
        "id": "fEfPHlCFGoTx",
        "outputId": "e27a5b62-9feb-4415-e133-5f5e8639e008"
      },
      "execution_count": null,
      "outputs": [
        {
          "output_type": "stream",
          "name": "stdout",
          "text": [
            "[[ 0  1  2  3  4 15 16 17 18 19]\n",
            " [ 5  6  7  8  9 20 21 22 23 24]\n",
            " [10 11 12 13 14 25 26 27 28 29]]\n",
            "[[ 0  1  2  3  4 15 16 17 18 19]\n",
            " [ 5  6  7  8  9 20 21 22 23 24]\n",
            " [10 11 12 13 14 25 26 27 28 29]]\n"
          ]
        }
      ]
    },
    {
      "cell_type": "code",
      "source": [
        "#ndarray의 차원을 분리하기\n",
        "#sacala 형태 : 동일한 크기의 차원으로 scals개로 분리(동일한 크기로 분리 못하면 ValueError 발생)\n",
        "#range gudxo : 총 3개로 분리하며 중간 Index 값을 입력(범위를 벗어나면 비어있는 행렬 반환)\n",
        "arange_data = np.arange(30).reshape(6, 5)\n",
        "print(arange_data)\n",
        "\n",
        "#axis = 0 : 행으로 쪼개기, 1: 열로 쪼개기\n",
        "print(np.split(arange_data, 3), \"\\n\")\n",
        "print(np.split(arange_data, [2,3], 0), '\\n')\n",
        "print(np.split(arange_data, [2,3], 1), \"\\n\")\n",
        "print(\"\")\n",
        "#default인 3개로 쪼갤꺼고 넣은 값이 중앙 값이기에 뒤에 값이 없어서 빈 array도 나옴\n",
        "print(np.split(arange_data,[2,6]))"
      ],
      "metadata": {
        "colab": {
          "base_uri": "https://localhost:8080/"
        },
        "id": "cezKN9z0HAKJ",
        "outputId": "596a2076-f69b-4ff2-9649-c9ca0e70315f"
      },
      "execution_count": null,
      "outputs": [
        {
          "output_type": "stream",
          "name": "stdout",
          "text": [
            "[[ 0  1  2  3  4]\n",
            " [ 5  6  7  8  9]\n",
            " [10 11 12 13 14]\n",
            " [15 16 17 18 19]\n",
            " [20 21 22 23 24]\n",
            " [25 26 27 28 29]]\n",
            "[array([[0, 1, 2, 3, 4],\n",
            "       [5, 6, 7, 8, 9]]), array([[10, 11, 12, 13, 14],\n",
            "       [15, 16, 17, 18, 19]]), array([[20, 21, 22, 23, 24],\n",
            "       [25, 26, 27, 28, 29]])] \n",
            "\n",
            "[array([[0, 1, 2, 3, 4],\n",
            "       [5, 6, 7, 8, 9]]), array([[10, 11, 12, 13, 14]]), array([[15, 16, 17, 18, 19],\n",
            "       [20, 21, 22, 23, 24],\n",
            "       [25, 26, 27, 28, 29]])] \n",
            "\n",
            "[array([[ 0,  1],\n",
            "       [ 5,  6],\n",
            "       [10, 11],\n",
            "       [15, 16],\n",
            "       [20, 21],\n",
            "       [25, 26]]), array([[ 2],\n",
            "       [ 7],\n",
            "       [12],\n",
            "       [17],\n",
            "       [22],\n",
            "       [27]]), array([[ 3,  4],\n",
            "       [ 8,  9],\n",
            "       [13, 14],\n",
            "       [18, 19],\n",
            "       [23, 24],\n",
            "       [28, 29]])] \n",
            "\n",
            "\n",
            "[array([[0, 1, 2, 3, 4],\n",
            "       [5, 6, 7, 8, 9]]), array([[10, 11, 12, 13, 14],\n",
            "       [15, 16, 17, 18, 19],\n",
            "       [20, 21, 22, 23, 24],\n",
            "       [25, 26, 27, 28, 29]]), array([], shape=(0, 5), dtype=int64)]\n"
          ]
        }
      ]
    },
    {
      "cell_type": "code",
      "source": [
        "#vsplit : 행(가로)으로 분리\n",
        "print(\"원본 데이터\")\n",
        "arange_data = np.arange(30).reshape(6, 5)\n",
        "print(arange_data, \"\\n\")\n",
        "\n",
        "print(\"vsplit 사용\")\n",
        "print(np.vsplit(arange_data, 3), \"\\n\") #3개 행으로 분리\n",
        "print(np.vsplit(arange_data, [2, 3]), \"\\n\") #2,3번 행을 중간 index로 지정\n",
        "print(np.vsplit(arange_data, [2, 5]), \"\\n\") #2,3,4,번 행을 중간 index로 지정 \n",
        "print(np.vsplit(arange_data, [2, 6]), \"\\n\") #2,3,4,5 번 행을 중간 index로 지정, 뒤에 행 없으면 빈 행렬 반환 "
      ],
      "metadata": {
        "colab": {
          "base_uri": "https://localhost:8080/"
        },
        "id": "ctyWm5cgHl3r",
        "outputId": "0d043fc1-9194-4d89-ffe1-02db47eb6396"
      },
      "execution_count": null,
      "outputs": [
        {
          "output_type": "stream",
          "name": "stdout",
          "text": [
            "원본 데이터\n",
            "[[ 0  1  2  3  4]\n",
            " [ 5  6  7  8  9]\n",
            " [10 11 12 13 14]\n",
            " [15 16 17 18 19]\n",
            " [20 21 22 23 24]\n",
            " [25 26 27 28 29]] \n",
            "\n",
            "vsplit 사용\n",
            "[array([[0, 1, 2, 3, 4],\n",
            "       [5, 6, 7, 8, 9]]), array([[10, 11, 12, 13, 14],\n",
            "       [15, 16, 17, 18, 19]]), array([[20, 21, 22, 23, 24],\n",
            "       [25, 26, 27, 28, 29]])] \n",
            "\n",
            "[array([[0, 1, 2, 3, 4],\n",
            "       [5, 6, 7, 8, 9]]), array([[10, 11, 12, 13, 14]]), array([[15, 16, 17, 18, 19],\n",
            "       [20, 21, 22, 23, 24],\n",
            "       [25, 26, 27, 28, 29]])] \n",
            "\n",
            "[array([[0, 1, 2, 3, 4],\n",
            "       [5, 6, 7, 8, 9]]), array([[10, 11, 12, 13, 14],\n",
            "       [15, 16, 17, 18, 19],\n",
            "       [20, 21, 22, 23, 24]]), array([[25, 26, 27, 28, 29]])] \n",
            "\n",
            "[array([[0, 1, 2, 3, 4],\n",
            "       [5, 6, 7, 8, 9]]), array([[10, 11, 12, 13, 14],\n",
            "       [15, 16, 17, 18, 19],\n",
            "       [20, 21, 22, 23, 24],\n",
            "       [25, 26, 27, 28, 29]]), array([], shape=(0, 5), dtype=int64)] \n",
            "\n"
          ]
        }
      ]
    },
    {
      "cell_type": "code",
      "source": [
        "#hsplit : 열(세로)로 분리\n",
        "print(\"hsplit 사용\")\n",
        "print(arange_data)\n",
        "print(np.split(arange_data, 5, 1)) #axis = 1 열 방향으로 5등분\n",
        "print(np.hsplit(arange_data, 5)) #3번 열을 중간 index로 지정\n",
        "print(np.hsplit(arange_data, [1, 2])) #1번 열을 중간 indxe로 지정\n",
        "print(np.hsplit(arange_data, [1, 3])) #1,2 번 열을 중간 indxe로 지정"
      ],
      "metadata": {
        "colab": {
          "base_uri": "https://localhost:8080/"
        },
        "id": "ipRALgxNXxcJ",
        "outputId": "25720a16-c430-43d9-f684-6131a295c291"
      },
      "execution_count": null,
      "outputs": [
        {
          "output_type": "stream",
          "name": "stdout",
          "text": [
            "hsplit 사용\n",
            "[[ 0  1  2  3  4]\n",
            " [ 5  6  7  8  9]\n",
            " [10 11 12 13 14]\n",
            " [15 16 17 18 19]\n",
            " [20 21 22 23 24]\n",
            " [25 26 27 28 29]]\n",
            "[array([[ 0],\n",
            "       [ 5],\n",
            "       [10],\n",
            "       [15],\n",
            "       [20],\n",
            "       [25]]), array([[ 1],\n",
            "       [ 6],\n",
            "       [11],\n",
            "       [16],\n",
            "       [21],\n",
            "       [26]]), array([[ 2],\n",
            "       [ 7],\n",
            "       [12],\n",
            "       [17],\n",
            "       [22],\n",
            "       [27]]), array([[ 3],\n",
            "       [ 8],\n",
            "       [13],\n",
            "       [18],\n",
            "       [23],\n",
            "       [28]]), array([[ 4],\n",
            "       [ 9],\n",
            "       [14],\n",
            "       [19],\n",
            "       [24],\n",
            "       [29]])]\n",
            "[array([[ 0],\n",
            "       [ 5],\n",
            "       [10],\n",
            "       [15],\n",
            "       [20],\n",
            "       [25]]), array([[ 1],\n",
            "       [ 6],\n",
            "       [11],\n",
            "       [16],\n",
            "       [21],\n",
            "       [26]]), array([[ 2],\n",
            "       [ 7],\n",
            "       [12],\n",
            "       [17],\n",
            "       [22],\n",
            "       [27]]), array([[ 3],\n",
            "       [ 8],\n",
            "       [13],\n",
            "       [18],\n",
            "       [23],\n",
            "       [28]]), array([[ 4],\n",
            "       [ 9],\n",
            "       [14],\n",
            "       [19],\n",
            "       [24],\n",
            "       [29]])]\n",
            "[array([[ 0],\n",
            "       [ 5],\n",
            "       [10],\n",
            "       [15],\n",
            "       [20],\n",
            "       [25]]), array([[ 1],\n",
            "       [ 6],\n",
            "       [11],\n",
            "       [16],\n",
            "       [21],\n",
            "       [26]]), array([[ 2,  3,  4],\n",
            "       [ 7,  8,  9],\n",
            "       [12, 13, 14],\n",
            "       [17, 18, 19],\n",
            "       [22, 23, 24],\n",
            "       [27, 28, 29]])]\n",
            "[array([[ 0],\n",
            "       [ 5],\n",
            "       [10],\n",
            "       [15],\n",
            "       [20],\n",
            "       [25]]), array([[ 1,  2],\n",
            "       [ 6,  7],\n",
            "       [11, 12],\n",
            "       [16, 17],\n",
            "       [21, 22],\n",
            "       [26, 27]]), array([[ 3,  4],\n",
            "       [ 8,  9],\n",
            "       [13, 14],\n",
            "       [18, 19],\n",
            "       [23, 24],\n",
            "       [28, 29]])]\n"
          ]
        }
      ]
    },
    {
      "cell_type": "code",
      "source": [
        "#repeat : 행렬을 반복, scala 형태만 가능\n",
        "arange_data = np.arange(5)\n",
        "print(arange_data)\n",
        "\n",
        "#5번씩 반복\n",
        "print(np.repeat(arange_data, 5))\n",
        "\n",
        "#각 요소별 다르게 반복\n",
        "print(np.repeat(arange_data, [1, 1, 3, 2, 1]))\n",
        "print(np.repeat(arange_data, [0, 0, 3, 0, 0]))"
      ],
      "metadata": {
        "colab": {
          "base_uri": "https://localhost:8080/"
        },
        "id": "4EU6RLCkJSfZ",
        "outputId": "f41f6769-bf7e-489f-c688-2dfd7b6ab50a"
      },
      "execution_count": null,
      "outputs": [
        {
          "output_type": "stream",
          "name": "stdout",
          "text": [
            "[0 1 2 3 4]\n",
            "[0 0 0 0 0 1 1 1 1 1 2 2 2 2 2 3 3 3 3 3 4 4 4 4 4]\n",
            "[0 1 2 2 2 3 3 4]\n",
            "[2 2 2]\n"
          ]
        }
      ]
    },
    {
      "cell_type": "code",
      "source": [
        "#tile : 행렬 자체 행 혹은 열 방향으로 반복, shape처럼 배열 형태로 전달 가능\n",
        "print(np.tile(arange_data, 2))\n",
        "print(np.tile(arange_data, (1, 3)))\n",
        "print(np.tile(arange_data, (3, 1)))"
      ],
      "metadata": {
        "colab": {
          "base_uri": "https://localhost:8080/"
        },
        "id": "DjXgByq1Jg7_",
        "outputId": "14275912-c70a-41e1-a0c7-4d435df6f425"
      },
      "execution_count": null,
      "outputs": [
        {
          "output_type": "stream",
          "name": "stdout",
          "text": [
            "[0 1 2 3 4 0 1 2 3 4]\n",
            "[[0 1 2 3 4 0 1 2 3 4 0 1 2 3 4]]\n",
            "[[0 1 2 3 4]\n",
            " [0 1 2 3 4]\n",
            " [0 1 2 3 4]]\n"
          ]
        }
      ]
    },
    {
      "cell_type": "code",
      "source": [
        "#다차원 행렬에서의 반복\n",
        "arange_data = np.arange(15).reshape((3, 5))\n",
        "print(np.repeat(arange_data, 2), \"\\n\") #다차원 행렬에서 메소드 repeat는 축 정보가 없으면 평탄화 발생\n",
        "\n",
        "print(np.repeat(arange_data, 2, 0)) #axis = 0 : 행 방향 추가\n",
        "print(np.repeat(arange_data, 2, 1), \"\\n\") #axis = 1 : 열 방향 추가\n",
        "\n",
        "print(np.tile(arange_data, 2), \"\\n\") #전체 반복\n",
        "print(np.tile(arange_data, (1, 3)), \"\\n\")\n",
        "print(np.tile(arange_data, (3, 2)))"
      ],
      "metadata": {
        "colab": {
          "base_uri": "https://localhost:8080/"
        },
        "id": "gXHrSNQ6Jx4k",
        "outputId": "89d8c99f-f7d7-4676-c35e-9b4ca05737da"
      },
      "execution_count": null,
      "outputs": [
        {
          "output_type": "stream",
          "name": "stdout",
          "text": [
            "[ 0  0  1  1  2  2  3  3  4  4  5  5  6  6  7  7  8  8  9  9 10 10 11 11\n",
            " 12 12 13 13 14 14] \n",
            "\n",
            "[[ 0  1  2  3  4]\n",
            " [ 0  1  2  3  4]\n",
            " [ 5  6  7  8  9]\n",
            " [ 5  6  7  8  9]\n",
            " [10 11 12 13 14]\n",
            " [10 11 12 13 14]]\n",
            "[[ 0  0  1  1  2  2  3  3  4  4]\n",
            " [ 5  5  6  6  7  7  8  8  9  9]\n",
            " [10 10 11 11 12 12 13 13 14 14]] \n",
            "\n",
            "[[ 0  1  2  3  4  0  1  2  3  4]\n",
            " [ 5  6  7  8  9  5  6  7  8  9]\n",
            " [10 11 12 13 14 10 11 12 13 14]] \n",
            "\n",
            "[[ 0  1  2  3  4  0  1  2  3  4  0  1  2  3  4]\n",
            " [ 5  6  7  8  9  5  6  7  8  9  5  6  7  8  9]\n",
            " [10 11 12 13 14 10 11 12 13 14 10 11 12 13 14]] \n",
            "\n",
            "[[ 0  1  2  3  4  0  1  2  3  4]\n",
            " [ 5  6  7  8  9  5  6  7  8  9]\n",
            " [10 11 12 13 14 10 11 12 13 14]\n",
            " [ 0  1  2  3  4  0  1  2  3  4]\n",
            " [ 5  6  7  8  9  5  6  7  8  9]\n",
            " [10 11 12 13 14 10 11 12 13 14]\n",
            " [ 0  1  2  3  4  0  1  2  3  4]\n",
            " [ 5  6  7  8  9  5  6  7  8  9]\n",
            " [10 11 12 13 14 10 11 12 13 14]]\n"
          ]
        }
      ]
    },
    {
      "cell_type": "code",
      "source": [
        "#indexing / slicing 확장\n",
        "#데이터 수가 많아, 출력화면의 가로축이 협소할 수 있음 => 가로축 무제한으로 늘리는 방법\n",
        "import numpy as np\n",
        "np.set_printoptions(linewidth=np.inf) #무제한으로 설정\n",
        "np.set_printoptions(linewidth=75) #default는 75"
      ],
      "metadata": {
        "id": "gz-NFAbEKWvx"
      },
      "execution_count": null,
      "outputs": []
    },
    {
      "cell_type": "code",
      "source": [
        "man_name = ['월화', '지빈', '하람', '지환', '명환', '진호']\n",
        "woman_name = ['보경', '연지', '예담', '유리', '이령', '다희']\n",
        "\n",
        "name_arr = np.array(['지빈', '명환', '연지', '하람', '연지', '진호', '월하', '연지'])\n",
        "data_arr = np.random.randn(8, 4)\n",
        "\n",
        "print(name_arr)\n",
        "print(data_arr)"
      ],
      "metadata": {
        "colab": {
          "base_uri": "https://localhost:8080/"
        },
        "id": "R-Fqr-LNLx71",
        "outputId": "418a76a8-afa3-42f9-92e3-489ed660fb8b"
      },
      "execution_count": null,
      "outputs": [
        {
          "output_type": "stream",
          "name": "stdout",
          "text": [
            "['지빈' '명환' '연지' '하람' '연지' '진호' '월하' '연지']\n",
            "[[-0.29328103 -0.22242053  0.54910688  0.91494522]\n",
            " [ 0.2863458  -0.05648714 -1.76886857  0.32965203]\n",
            " [ 1.45282117 -0.48131736 -0.11466913 -0.87196527]\n",
            " [-0.48235925  0.66061707  1.16550195 -1.2294553 ]\n",
            " [ 0.24536411  0.89414005 -0.30706926  1.31847257]\n",
            " [-0.22343436  1.09889078 -0.59373514  0.68180308]\n",
            " [ 1.38830303 -1.11068124 -0.86322786  1.37884826]\n",
            " [-0.04764955 -0.31243761 -0.52817884 -0.21344169]]\n",
            "[False False  True False  True False False  True]\n"
          ]
        }
      ]
    },
    {
      "cell_type": "code",
      "source": [
        "#index = 3,5,8은 True\n",
        "print(name_arr == '연지')"
      ],
      "metadata": {
        "colab": {
          "base_uri": "https://localhost:8080/"
        },
        "id": "I8-sOGDEMPdW",
        "outputId": "21fbb500-444d-43b9-a4d5-9d7b76412085"
      },
      "execution_count": null,
      "outputs": [
        {
          "output_type": "stream",
          "name": "stdout",
          "text": [
            "[False False  True False  True False False  True]\n"
          ]
        }
      ]
    },
    {
      "cell_type": "code",
      "source": [
        "#True인 배열의 행(row) 전체 출력\n",
        "print(data_arr[name_arr == '연지'])"
      ],
      "metadata": {
        "colab": {
          "base_uri": "https://localhost:8080/"
        },
        "id": "-lH5UqcNMXEL",
        "outputId": "d719d4fc-2d07-4760-c47f-0f1028c63a13"
      },
      "execution_count": null,
      "outputs": [
        {
          "output_type": "stream",
          "name": "stdout",
          "text": [
            "[[ 1.45282117 -0.48131736 -0.11466913 -0.87196527]\n",
            " [ 0.24536411  0.89414005 -0.30706926  1.31847257]\n",
            " [-0.04764955 -0.31243761 -0.52817884 -0.21344169]]\n"
          ]
        }
      ]
    },
    {
      "cell_type": "code",
      "source": [
        "print(data_arr[name_arr == \"연지\", 2:], \"\\n\") #True 중 2~마짐막 열까지\n",
        "print(data_arr[name_arr == '연지', 3], \"\\n\") #True 중 마지막 열 하나의 배열로\n",
        "print(data_arr[name_arr == '연지', 3:4]) #True 중 마지막 열 원본 그대로"
      ],
      "metadata": {
        "colab": {
          "base_uri": "https://localhost:8080/"
        },
        "id": "WMMam8wAMbAr",
        "outputId": "c6c0dd9f-1a00-4c6d-977a-f1969cde4eb5"
      },
      "execution_count": null,
      "outputs": [
        {
          "output_type": "stream",
          "name": "stdout",
          "text": [
            "[[-0.11466913 -0.87196527]\n",
            " [-0.30706926  1.31847257]\n",
            " [-0.52817884 -0.21344169]] \n",
            "\n",
            "[-0.87196527  1.31847257 -0.21344169] \n",
            "\n",
            "[[-0.87196527]\n",
            " [ 1.31847257]\n",
            " [-0.21344169]]\n"
          ]
        }
      ]
    },
    {
      "cell_type": "code",
      "source": [
        "#and / or 연산의 경우 주소에 바로 입력할 수 없음\n",
        "or_opp = (name_arr == '지빈') | (name_arr == '월하')\n",
        "print(or_opp)\n",
        "print(data_arr[or_opp])\n",
        "print(\"\")\n",
        "#not 연산은 ~로 활용\n",
        "not_opp = ~(name_arr == '하람')\n",
        "print(not_opp)\n",
        "print(data_arr[not_opp])"
      ],
      "metadata": {
        "colab": {
          "base_uri": "https://localhost:8080/"
        },
        "id": "-6UpLPNHNLKf",
        "outputId": "1f1d8076-e7c8-4ba3-ccc2-540172b696cd"
      },
      "execution_count": null,
      "outputs": [
        {
          "output_type": "stream",
          "name": "stdout",
          "text": [
            "[ True False False False False False  True False]\n",
            "[[-0.29328103 -0.22242053  0.54910688  0.91494522]\n",
            " [ 1.38830303 -1.11068124 -0.86322786  1.37884826]]\n",
            "\n",
            "[ True  True  True False  True  True  True  True]\n",
            "[[-0.29328103 -0.22242053  0.54910688  0.91494522]\n",
            " [ 0.2863458  -0.05648714 -1.76886857  0.32965203]\n",
            " [ 1.45282117 -0.48131736 -0.11466913 -0.87196527]\n",
            " [ 0.24536411  0.89414005 -0.30706926  1.31847257]\n",
            " [-0.22343436  1.09889078 -0.59373514  0.68180308]\n",
            " [ 1.38830303 -1.11068124 -0.86322786  1.37884826]\n",
            " [-0.04764955 -0.31243761 -0.52817884 -0.21344169]]\n"
          ]
        }
      ]
    },
    {
      "cell_type": "code",
      "source": [
        "#비교 연산으로 특정 조건에 해당하는 값 변경\n",
        "data_arr[name_arr == '명환'] = 7\n",
        "print(data_arr, \"\\n\")\n",
        "\n",
        "#dtype이 정수나 실수인 경우, 크고 작은 비교 연산도 가능\n",
        "data_arr[data_arr < 0] = 0\n",
        "print(data_arr)"
      ],
      "metadata": {
        "colab": {
          "base_uri": "https://localhost:8080/"
        },
        "id": "Sy4S5wpJN7bh",
        "outputId": "181e09a5-ab3d-4524-d1b6-58f8eb932508"
      },
      "execution_count": null,
      "outputs": [
        {
          "output_type": "stream",
          "name": "stdout",
          "text": [
            "[[-0.29328103 -0.22242053  0.54910688  0.91494522]\n",
            " [ 7.          7.          7.          7.        ]\n",
            " [ 1.45282117 -0.48131736 -0.11466913 -0.87196527]\n",
            " [-0.48235925  0.66061707  1.16550195 -1.2294553 ]\n",
            " [ 0.24536411  0.89414005 -0.30706926  1.31847257]\n",
            " [-0.22343436  1.09889078 -0.59373514  0.68180308]\n",
            " [ 1.38830303 -1.11068124 -0.86322786  1.37884826]\n",
            " [-0.04764955 -0.31243761 -0.52817884 -0.21344169]] \n",
            "\n",
            "[[0.         0.         0.54910688 0.91494522]\n",
            " [7.         7.         7.         7.        ]\n",
            " [1.45282117 0.         0.         0.        ]\n",
            " [0.         0.66061707 1.16550195 0.        ]\n",
            " [0.24536411 0.89414005 0.         1.31847257]\n",
            " [0.         1.09889078 0.         0.68180308]\n",
            " [1.38830303 0.         0.         1.37884826]\n",
            " [0.         0.         0.         0.        ]]\n"
          ]
        }
      ]
    },
    {
      "cell_type": "code",
      "source": [
        "#Fancy Indexing : 정수 배열을 이용하여 행렬을 Indexing\n",
        "#1차원 행령을 특정 차원으로 변경\n",
        "arange_data = np.arange(32)\n",
        "print(arange_data, \"\\n\")\n",
        "\n",
        "arange_data = arange_data.reshape((8,4))\n",
        "print(arange_data, arange_data.shape)"
      ],
      "metadata": {
        "colab": {
          "base_uri": "https://localhost:8080/"
        },
        "id": "J65Jen_3Oi-8",
        "outputId": "9796afa1-30e8-4e66-fd2a-aa506256e465"
      },
      "execution_count": null,
      "outputs": [
        {
          "output_type": "stream",
          "name": "stdout",
          "text": [
            "[ 0  1  2  3  4  5  6  7  8  9 10 11 12 13 14 15 16 17 18 19 20 21 22 23\n",
            " 24 25 26 27 28 29 30 31] \n",
            "\n",
            "[[ 0  1  2  3]\n",
            " [ 4  5  6  7]\n",
            " [ 8  9 10 11]\n",
            " [12 13 14 15]\n",
            " [16 17 18 19]\n",
            " [20 21 22 23]\n",
            " [24 25 26 27]\n",
            " [28 29 30 31]] (8, 4)\n"
          ]
        }
      ]
    },
    {
      "cell_type": "code",
      "source": [
        "print(arange_data, \"\\n\")\n",
        "#8행 중 3번째/2번째/0번째/6번째 행을 출력\n",
        "print(arange_data[[3,2,0,6]], \"\\n\")\n",
        "#8행 중 마지막/마지막에서 5번째/마지막에서 두번째/마지막 행을 출력\n",
        "print(arange_data[[-1, -5, -2, -1]])"
      ],
      "metadata": {
        "colab": {
          "base_uri": "https://localhost:8080/"
        },
        "id": "FVHlkjFGPSr6",
        "outputId": "3d3f5b0c-83f8-4b44-cd27-9c5d86fa87ce"
      },
      "execution_count": null,
      "outputs": [
        {
          "output_type": "stream",
          "name": "stdout",
          "text": [
            "[[ 0  1  2  3]\n",
            " [ 4  5  6  7]\n",
            " [ 8  9 10 11]\n",
            " [12 13 14 15]\n",
            " [16 17 18 19]\n",
            " [20 21 22 23]\n",
            " [24 25 26 27]\n",
            " [28 29 30 31]] \n",
            "\n",
            "[[12 13 14 15]\n",
            " [ 8  9 10 11]\n",
            " [ 0  1  2  3]\n",
            " [24 25 26 27]] \n",
            "\n",
            "[[28 29 30 31]\n",
            " [12 13 14 15]\n",
            " [24 25 26 27]\n",
            " [28 29 30 31]]\n"
          ]
        }
      ]
    },
    {
      "cell_type": "code",
      "source": [
        "print(arange_data, \"\\n\")\n",
        "#3행 1열, 2행 0열, 0행 3열, 6행 2열 출력\n",
        "print(arange_data[[3,2,0,6], [1,0,3,2]], \"\\n\")\n",
        "#3행 1열이 포함된 행, 2행 0열이 포함된 행, 0행 3열이 포함된 행, 6행 2열이 포함된 행 출력\n",
        "print(arange_data[[3,2,0,6]][:, [1,0,3,2]])"
      ],
      "metadata": {
        "colab": {
          "base_uri": "https://localhost:8080/"
        },
        "id": "iXHB1MrSQEu7",
        "outputId": "a9fadabb-a5f8-444b-bd79-87493a869224"
      },
      "execution_count": null,
      "outputs": [
        {
          "output_type": "stream",
          "name": "stdout",
          "text": [
            "[[ 0  1  2  3]\n",
            " [ 4  5  6  7]\n",
            " [ 8  9 10 11]\n",
            " [12 13 14 15]\n",
            " [16 17 18 19]\n",
            " [20 21 22 23]\n",
            " [24 25 26 27]\n",
            " [28 29 30 31]] \n",
            "\n",
            "[13  8  3 26] \n",
            "\n",
            "[[13 12 15 14]\n",
            " [ 9  8 11 10]\n",
            " [ 1  0  3  2]\n",
            " [25 24 27 26]]\n"
          ]
        }
      ]
    },
    {
      "cell_type": "code",
      "source": [
        "#Transpose / SwapAxes : 행과 열을 맞바꾼 전치 행렬\n",
        "#2차원 행렬일 경우, 행과 열을 바꿈\n",
        "#메소드 transpose는 새로운 객체 ndarray를 생성하지 않음\n",
        "arange_data = np.arange(15).reshape((3, 5))\n",
        "print(arange_data, \"\\n\")\n",
        "print(arange_data.T, \"\\n\")\n",
        "print(np.transpose(arange_data))"
      ],
      "metadata": {
        "colab": {
          "base_uri": "https://localhost:8080/"
        },
        "id": "M8n2zB1bQXiF",
        "outputId": "62b640be-6f15-47fe-e391-5bc7f917f2e2"
      },
      "execution_count": null,
      "outputs": [
        {
          "output_type": "stream",
          "name": "stdout",
          "text": [
            "[[ 0  1  2  3  4]\n",
            " [ 5  6  7  8  9]\n",
            " [10 11 12 13 14]] \n",
            "\n",
            "[[ 0  5 10]\n",
            " [ 1  6 11]\n",
            " [ 2  7 12]\n",
            " [ 3  8 13]\n",
            " [ 4  9 14]] \n",
            "\n",
            "[[ 0  5 10]\n",
            " [ 1  6 11]\n",
            " [ 2  7 12]\n",
            " [ 3  8 13]\n",
            " [ 4  9 14]]\n"
          ]
        }
      ]
    },
    {
      "cell_type": "code",
      "source": [
        "#3차원 이상의 행렬일 경우, 바꾸고자 하는 축을 입력\n",
        "#1. 2층 4행 3열의 3차원 행렬 생성\n",
        "arange_data =np.arange(24).reshape((2, 4, 3))\n",
        "print(arange_data)\n",
        "print(arange_data.shape, \"\\n\")\n",
        "\n",
        "#2. 3층 2행 4열 / 2,0,1 : 원본 arange_data에서 열 / 층 / 행 값\n",
        "print(np.transpose(arange_data, (2, 0, 1)))\n",
        "print(np.transpose(arange_data, (2, 0, 1)).shape, \"\\n\")\n",
        "\n",
        "#3. 4층 3열 2행 / 1,2,0 : 원본 arange_data에서 행 / 열 / 층 값\n",
        "print(np.transpose(arange_data, (1, 2, 0)))\n",
        "print(np.transpose(arange_data, (1, 2, 0)).shape, \"\\n\")"
      ],
      "metadata": {
        "colab": {
          "base_uri": "https://localhost:8080/"
        },
        "id": "H9Kv9C4FRwzl",
        "outputId": "aad19f02-d4b9-40ea-a701-257acbc2fcc2"
      },
      "execution_count": null,
      "outputs": [
        {
          "output_type": "stream",
          "name": "stdout",
          "text": [
            "[[[ 0  1  2]\n",
            "  [ 3  4  5]\n",
            "  [ 6  7  8]\n",
            "  [ 9 10 11]]\n",
            "\n",
            " [[12 13 14]\n",
            "  [15 16 17]\n",
            "  [18 19 20]\n",
            "  [21 22 23]]]\n",
            "(2, 4, 3) \n",
            "\n",
            "[[[ 0  3  6  9]\n",
            "  [12 15 18 21]]\n",
            "\n",
            " [[ 1  4  7 10]\n",
            "  [13 16 19 22]]\n",
            "\n",
            " [[ 2  5  8 11]\n",
            "  [14 17 20 23]]]\n",
            "(3, 2, 4) \n",
            "\n",
            "[[[ 0 12]\n",
            "  [ 1 13]\n",
            "  [ 2 14]]\n",
            "\n",
            " [[ 3 15]\n",
            "  [ 4 16]\n",
            "  [ 5 17]]\n",
            "\n",
            " [[ 6 18]\n",
            "  [ 7 19]\n",
            "  [ 8 20]]\n",
            "\n",
            " [[ 9 21]\n",
            "  [10 22]\n",
            "  [11 23]]]\n",
            "(4, 3, 2) \n",
            "\n"
          ]
        }
      ]
    },
    {
      "cell_type": "code",
      "source": [
        "#예시\n",
        "arange_data = np.arange(16).reshape((2,2,4)) #2층 2행 4열의 행렬 생성\n",
        "print(arange_data, \"\\n\")\n",
        "\n",
        "print(\"transpose 후\")\n",
        "print(arange_data.transpose(1,0,2)) #2층 2행 4열 생성 > 층과 행 변경"
      ],
      "metadata": {
        "colab": {
          "base_uri": "https://localhost:8080/"
        },
        "id": "F6G1Clj5SUsC",
        "outputId": "613bccbe-11b7-4c9b-c998-b7a303a2bb24"
      },
      "execution_count": null,
      "outputs": [
        {
          "output_type": "stream",
          "name": "stdout",
          "text": [
            "[[[ 0  1  2  3]\n",
            "  [ 4  5  6  7]]\n",
            "\n",
            " [[ 8  9 10 11]\n",
            "  [12 13 14 15]]] \n",
            "\n",
            "transpose 후\n",
            "[[[ 0  1  2  3]\n",
            "  [ 8  9 10 11]]\n",
            "\n",
            " [[ 4  5  6  7]\n",
            "  [12 13 14 15]]]\n"
          ]
        }
      ]
    },
    {
      "cell_type": "code",
      "source": [
        "#두 개의 축만 바꾸고 싶은 경우\n",
        "aragne_data = np.arange(24).reshape((2, 4, 3))\n",
        "print(arange_data, \"\\n\")\n",
        "\n",
        "print(\"층과 행 변경\")\n",
        "print(np.swapaxes(arange_data, 0, 1))\n",
        "print(np.swapaxes(arange_data, 0, 1).shape, \"\\n\")\n",
        "\n",
        "print(\"행과 열 변경\")\n",
        "print(np.swapaxes(arange_data, 1, 2))\n",
        "print(np.swapaxes(arange_data, 1, 2).shape, \"\\n\")\n",
        "\n",
        "print(\"층과 열 변경\")\n",
        "print(np.swapaxes(arange_data, 0, 2))\n",
        "print(np.swapaxes(arange_data, 0, 2).shape)"
      ],
      "metadata": {
        "colab": {
          "base_uri": "https://localhost:8080/"
        },
        "id": "glf6LRmJV10S",
        "outputId": "3105de1f-9c15-42f3-bd98-36c708fba922"
      },
      "execution_count": null,
      "outputs": [
        {
          "output_type": "stream",
          "name": "stdout",
          "text": [
            "[[[ 0  1  2  3]\n",
            "  [ 4  5  6  7]]\n",
            "\n",
            " [[ 8  9 10 11]\n",
            "  [12 13 14 15]]] \n",
            "\n",
            "층과 행 변경\n",
            "[[[ 0  1  2  3]\n",
            "  [ 8  9 10 11]]\n",
            "\n",
            " [[ 4  5  6  7]\n",
            "  [12 13 14 15]]]\n",
            "(2, 2, 4) \n",
            "\n",
            "행과 열 변경\n",
            "[[[ 0  4]\n",
            "  [ 1  5]\n",
            "  [ 2  6]\n",
            "  [ 3  7]]\n",
            "\n",
            " [[ 8 12]\n",
            "  [ 9 13]\n",
            "  [10 14]\n",
            "  [11 15]]]\n",
            "(2, 4, 2) \n",
            "\n",
            "층과 열 변경\n",
            "[[[ 0  8]\n",
            "  [ 4 12]]\n",
            "\n",
            " [[ 1  9]\n",
            "  [ 5 13]]\n",
            "\n",
            " [[ 2 10]\n",
            "  [ 6 14]]\n",
            "\n",
            " [[ 3 11]\n",
            "  [ 7 15]]]\n",
            "(4, 2, 2)\n"
          ]
        }
      ]
    },
    {
      "cell_type": "markdown",
      "source": [
        "random - 컴퓨터 내부에서 계산된 의사난수\n",
        "\n",
        "표준 정규 분포를 따르는 평균 0 / 분산 1 형태로 출력"
      ],
      "metadata": {
        "id": "O_JPXYjgI3kA"
      }
    },
    {
      "cell_type": "code",
      "source": [
        "#randn은 표준 정규 분포를 따르는 평균 0 , 분산 1 형태로 출력\n",
        "import numpy as np\n",
        "rand_data1 = np.random.randn()\n",
        "rand_data2 = np.random.randn(10)\n",
        "rand_data3 = np.random.randn(2,5)\n",
        "print(rand_data1,'\\n')\n",
        "print(rand_data2, '\\n')\n",
        "print(rand_data3)"
      ],
      "metadata": {
        "id": "nM63yquWWZIw",
        "colab": {
          "base_uri": "https://localhost:8080/"
        },
        "outputId": "d1b7aa72-60d9-407a-8cd4-5a706540bbf9"
      },
      "execution_count": 3,
      "outputs": [
        {
          "output_type": "stream",
          "name": "stdout",
          "text": [
            "-0.146222277849422 \n",
            "\n",
            "[-0.44642648 -0.53517165  0.71678501  1.70646448  0.7870709   0.42655827\n",
            " -0.77655943  0.23556666 -0.37649706  0.84856506] \n",
            "\n",
            "[[-0.52409089  0.49333531  0.85589956 -0.88525934 -0.23027916]\n",
            " [-0.73460794  0.63107693  0.46371754 -0.65150437  0.27962544]]\n"
          ]
        }
      ]
    },
    {
      "cell_type": "code",
      "source": [
        "#메소드 normal은 다른 정규 확률 분포를 따르는 난수 생성 가능 - 매개변수로 평균 분산 받음\n",
        "#randn/normal은 표준 정규분포를 따르기 때문세 소수점 단위의(실수형) 난수 생성\n",
        "rand_data = np.random.normal(0, 1, 10)\n",
        "print(rand_data, '\\n')\n",
        "\n",
        "rand_data = np.random.normal(0, 1, (2,3))\n",
        "print(rand_data)"
      ],
      "metadata": {
        "colab": {
          "base_uri": "https://localhost:8080/"
        },
        "id": "dh7gy2a7JXcv",
        "outputId": "d1c5b0e6-1016-4965-b884-069fe89a2369"
      },
      "execution_count": 6,
      "outputs": [
        {
          "output_type": "stream",
          "name": "stdout",
          "text": [
            "[ 0.15326544 -0.29595145  0.00719733 -0.67510987 -1.03475313  0.90536232\n",
            " -1.59444431  0.91954343  1.21371647  0.17825616] \n",
            "\n",
            "[[-0.78104526  0.23247635  0.1095519 ]\n",
            " [ 1.74532705  0.68241261  0.56108492]]\n"
          ]
        }
      ]
    },
    {
      "cell_type": "code",
      "source": [
        "#메소드 randint는 매개변수로 low/high 사이의 정수 현태 난수 생성\n",
        "rand_data = np.random.randint(2, 9, 20)\n",
        "print(rand_data, '\\n')\n",
        "\n",
        "rand_data = np.random.randint(2, 9, (2,5))\n",
        "print(rand_data)"
      ],
      "metadata": {
        "colab": {
          "base_uri": "https://localhost:8080/"
        },
        "id": "xhnmCblbJrIJ",
        "outputId": "5fa28fd6-ceb8-438f-8baa-ece0c619f9e0"
      },
      "execution_count": 7,
      "outputs": [
        {
          "output_type": "stream",
          "name": "stdout",
          "text": [
            "[3 2 3 3 5 2 5 5 4 8 5 8 2 5 3 5 3 4 8 7] \n",
            "\n",
            "[[4 8 4 3 2]\n",
            " [5 6 7 6 8]]\n"
          ]
        }
      ]
    },
    {
      "cell_type": "code",
      "source": [
        "#where : Numpy의 삼항 연산자(Ternary Operator) - 주로 행렬의 특정 조건에 해당하는 값만 출력\n",
        "rand_data = np.random.randn(10)\n",
        "print(rand_data)\n",
        "\n",
        "#기존 파이썬 문법\n",
        "result = [True if i > 0 else False for i in rand_data]\n",
        "print(result)\n",
        "print(type(result), '\\n')"
      ],
      "metadata": {
        "colab": {
          "base_uri": "https://localhost:8080/"
        },
        "id": "51JzXy6DJ2a7",
        "outputId": "75b0c0aa-5bae-4082-cbf5-e05b3f42d8f8"
      },
      "execution_count": 17,
      "outputs": [
        {
          "output_type": "stream",
          "name": "stdout",
          "text": [
            "[ 0.10631046 -0.02408327 -0.18420627 -0.33980109  0.4069303  -1.53502556\n",
            "  1.07154799  1.15848578 -2.67041129 -1.53822331]\n",
            "[True, False, False, False, True, False, True, True, False, False]\n",
            "<class 'list'> \n",
            "\n",
            "[ True False False False  True False  True  True False False]\n",
            "<class 'numpy.ndarray'> bool\n"
          ]
        }
      ]
    },
    {
      "cell_type": "code",
      "source": [
        "#메소드 where을 이용한 True/False 행렬 출력\n",
        "#i는 for 반복문에서 발생한 변수로 왼쪽에는 맞는 경우 오른쪽에는 틀린 경우 출력값 입력\n",
        "#결과는 리스트 형식으로 출력\n",
        "result = np.where(rand_data > 0, True, False)\n",
        "\n",
        "print(result)\n",
        "print(type(result), result.dtype)"
      ],
      "metadata": {
        "colab": {
          "base_uri": "https://localhost:8080/"
        },
        "id": "kPPtTskqLqym",
        "outputId": "55208554-8b88-4ac8-c189-bfb5156ed23a"
      },
      "execution_count": 19,
      "outputs": [
        {
          "output_type": "stream",
          "name": "stdout",
          "text": [
            "[ True False False False  True False  True  True False False]\n",
            "<class 'numpy.ndarray'> bool\n"
          ]
        }
      ]
    },
    {
      "cell_type": "code",
      "source": [
        "#객#메소드 where을 이용한 True / 원래 값 행렬 출력\n",
        "result1 = np.where(rand_data > 0, True, rand_data)\n",
        "\n",
        "print(result1)\n",
        "print(type(result1), result1.dtype, '\\n')"
      ],
      "metadata": {
        "colab": {
          "base_uri": "https://localhost:8080/"
        },
        "id": "vlX2rTJPKefY",
        "outputId": "f7c0e407-e49d-499c-d155-229253d69a62"
      },
      "execution_count": 18,
      "outputs": [
        {
          "output_type": "stream",
          "name": "stdout",
          "text": [
            "[ 1.         -0.02408327 -0.18420627 -0.33980109  1.         -1.53502556\n",
            "  1.          1.         -2.67041129 -1.53822331]\n",
            "<class 'numpy.ndarray'> float64 \n",
            "\n"
          ]
        }
      ]
    },
    {
      "cell_type": "code",
      "source": [
        "#행렬과 통계학\n",
        "rand_data = np.random.normal(0, 1, 10)\n",
        "print(rand_data)\n",
        "\n",
        "print(np.sum(rand_data))\n",
        "print(np.mean(rand_data))\n",
        "print(np.std(rand_data))\n",
        "print(np.var(rand_data))"
      ],
      "metadata": {
        "colab": {
          "base_uri": "https://localhost:8080/"
        },
        "id": "df8KWlDwLU16",
        "outputId": "f06b4a54-5b51-426a-86d0-081addfc2149"
      },
      "execution_count": 21,
      "outputs": [
        {
          "output_type": "stream",
          "name": "stdout",
          "text": [
            "[-0.65370176 -1.55352402 -0.55246992  2.45927116  3.11623895  0.42934511\n",
            " -1.1101896   0.40896608 -0.47613666  0.65411159]\n",
            "2.7219109154640373\n",
            "0.27219109154640375\n",
            "1.428381787043484\n",
            "2.040274529557537\n"
          ]
        }
      ]
    },
    {
      "cell_type": "code",
      "source": [
        "#다차원 행렬 분석\n",
        "rand_data = np.random.randn(2,5)\n",
        "print(rand_data)\n",
        "\n",
        "#axis 지정을 통해 계산 방향 지정\n",
        "print(np.sum(rand_data))\n",
        "print(np.sum(rand_data, 0),'\\n')\n",
        "print(np.sum(rand_data, 1), '\\n')\n",
        "\n",
        "print(rand_data.mean())\n",
        "print(rand_data.mean(0))\n",
        "print(rand_data.mean(1))"
      ],
      "metadata": {
        "colab": {
          "base_uri": "https://localhost:8080/"
        },
        "id": "oYPA846iL_zB",
        "outputId": "1fb645d6-3227-4e6d-ba74-525b1ac6c4a4"
      },
      "execution_count": 24,
      "outputs": [
        {
          "output_type": "stream",
          "name": "stdout",
          "text": [
            "[[ 0.17980734 -0.0418954   0.22084632 -0.46118427  0.20009965]\n",
            " [ 0.21812341 -0.42089174 -0.27746401 -1.02337189  0.81270949]]\n",
            "-0.5932210896360595\n",
            "[ 0.39793075 -0.46278714 -0.05661769 -1.48455616  1.01280914] \n",
            "\n",
            "[ 0.09767365 -0.69089474] \n",
            "\n",
            "-0.05932210896360594\n",
            "[ 0.19896538 -0.23139357 -0.02830884 -0.74227808  0.50640457]\n",
            "[ 0.01953473 -0.13817895]\n"
          ]
        }
      ]
    },
    {
      "cell_type": "code",
      "source": [
        "#누적 합과 누적 곱\n",
        "arange_data = np.arange(12).reshape(3,4)\n",
        "print(arange_data, '\\n')\n",
        "\n",
        "print(np.cumsum(arange_data), '\\n')\n",
        "print(np.cumsum(arange_data, 0), '\\n')\n",
        "print(np.cumsum(arange_data, 1), '\\n')\n",
        "\n",
        "#누적곱\n",
        "print(np.cumprod(arange_data, 0))"
      ],
      "metadata": {
        "colab": {
          "base_uri": "https://localhost:8080/"
        },
        "id": "wI8X0ZJqMSdL",
        "outputId": "8dc6f188-33ce-4aa7-a97e-fc1ad1e3e1c2"
      },
      "execution_count": 26,
      "outputs": [
        {
          "output_type": "stream",
          "name": "stdout",
          "text": [
            "[[ 0  1  2  3]\n",
            " [ 4  5  6  7]\n",
            " [ 8  9 10 11]] \n",
            "\n",
            "[ 0  1  3  6 10 15 21 28 36 45 55 66] \n",
            "\n",
            "[[ 0  1  2  3]\n",
            " [ 4  6  8 10]\n",
            " [12 15 18 21]] \n",
            "\n",
            "[[ 0  1  3  6]\n",
            " [ 4  9 15 22]\n",
            " [ 8 17 27 38]] \n",
            "\n",
            "[[  0   1   2   3]\n",
            " [  0   5  12  21]\n",
            " [  0  45 120 231]]\n"
          ]
        }
      ]
    },
    {
      "cell_type": "markdown",
      "source": [
        "Numpy 정렬은 오름차순 정렬만 가능\n",
        "\n",
        "메소드 sort에서 축에 대한 매개변수 기본값은 -1\n",
        "\n",
        "- 2차원 행 / 열 일 경우 열\n",
        "- 3차원 층 / 행 / 열 일 경우 열\n",
        "- 매개변수가 None이며 평탄화 후 정렬"
      ],
      "metadata": {
        "id": "K6ABmeXQNGOc"
      }
    },
    {
      "cell_type": "code",
      "source": [
        "rand_data = np.random.normal(0, 1, 10)\n",
        "print(rand_data)\n",
        "print(np.sort(rand_data))"
      ],
      "metadata": {
        "colab": {
          "base_uri": "https://localhost:8080/"
        },
        "id": "GQVQVJRDMuQ1",
        "outputId": "2b044428-2f3e-4813-e8fa-2d3ab9cf7f56"
      },
      "execution_count": 27,
      "outputs": [
        {
          "output_type": "stream",
          "name": "stdout",
          "text": [
            "[-0.89457722 -0.00746867 -0.19272595 -0.62752953  0.68264794  1.76586498\n",
            " -0.06420966  0.64739599 -0.81700796 -0.09552344]\n",
            "[-0.89457722 -0.81700796 -0.62752953 -0.19272595 -0.09552344 -0.06420966\n",
            " -0.00746867  0.64739599  0.68264794  1.76586498]\n"
          ]
        }
      ]
    },
    {
      "cell_type": "code",
      "source": [
        "rand_data = np.random.randn(3,5)\n",
        "print(rand_data, '\\n')\n",
        "print(np.sort(rand_data),'\\n')\n",
        "print(np.sort(rand_data, -1), '\\n')\n",
        "print(np.sort(rand_data, None))"
      ],
      "metadata": {
        "colab": {
          "base_uri": "https://localhost:8080/"
        },
        "id": "4UVsdrOyNfJa",
        "outputId": "a23bff22-0dea-4b0d-8d60-be4018133e78"
      },
      "execution_count": 28,
      "outputs": [
        {
          "output_type": "stream",
          "name": "stdout",
          "text": [
            "[[ 0.95464969 -0.82682105  0.87078102  0.51255814 -0.27568212]\n",
            " [-0.84110758  1.9912795   2.13096044 -1.76255382  0.74194816]\n",
            " [ 0.01874784 -1.59516228  0.47376094 -2.36552101  0.54219639]] \n",
            "\n",
            "[[-0.82682105 -0.27568212  0.51255814  0.87078102  0.95464969]\n",
            " [-1.76255382 -0.84110758  0.74194816  1.9912795   2.13096044]\n",
            " [-2.36552101 -1.59516228  0.01874784  0.47376094  0.54219639]] \n",
            "\n",
            "[[-0.82682105 -0.27568212  0.51255814  0.87078102  0.95464969]\n",
            " [-1.76255382 -0.84110758  0.74194816  1.9912795   2.13096044]\n",
            " [-2.36552101 -1.59516228  0.01874784  0.47376094  0.54219639]] \n",
            "\n",
            "[-2.36552101 -1.76255382 -1.59516228 -0.84110758 -0.82682105 -0.27568212\n",
            "  0.01874784  0.47376094  0.51255814  0.54219639  0.74194816  0.87078102\n",
            "  0.95464969  1.9912795   2.13096044]\n"
          ]
        }
      ]
    },
    {
      "cell_type": "code",
      "source": [
        "#클래스 Numpy 메소드 sort는 정렬한 결과를 반환\n",
        "#크랫스 ndarray 메소드 sort는 정렬한 결과를 객체에 적용\n",
        "print(np.sort(rand_data))\n",
        "print(rand_data)\n",
        "print(rand_data.sort())\n",
        "print(rand_data)\n",
        "\n",
        "print(\"\")\n",
        "#메소드 argsort는 오름차순 순서를 알려줌, 중복된 값은 생략\n",
        "print(np.argsort([8,2,9,4,2,5,2,1]))"
      ],
      "metadata": {
        "colab": {
          "base_uri": "https://localhost:8080/"
        },
        "id": "WR9UBpOcNrxp",
        "outputId": "b9e1cce8-b776-4c08-a85c-5204605db520"
      },
      "execution_count": 30,
      "outputs": [
        {
          "output_type": "stream",
          "name": "stdout",
          "text": [
            "[[-0.82682105 -0.27568212  0.51255814  0.87078102  0.95464969]\n",
            " [-1.76255382 -0.84110758  0.74194816  1.9912795   2.13096044]\n",
            " [-2.36552101 -1.59516228  0.01874784  0.47376094  0.54219639]]\n",
            "[[ 0.95464969 -0.82682105  0.87078102  0.51255814 -0.27568212]\n",
            " [-0.84110758  1.9912795   2.13096044 -1.76255382  0.74194816]\n",
            " [ 0.01874784 -1.59516228  0.47376094 -2.36552101  0.54219639]]\n",
            "None\n",
            "[[-0.82682105 -0.27568212  0.51255814  0.87078102  0.95464969]\n",
            " [-1.76255382 -0.84110758  0.74194816  1.9912795   2.13096044]\n",
            " [-2.36552101 -1.59516228  0.01874784  0.47376094  0.54219639]]\n",
            "\n",
            "[7 1 4 6 3 5 0 2]\n"
          ]
        }
      ]
    },
    {
      "cell_type": "code",
      "source": [
        "#고유값 찾기\n",
        "#메소드 randint의 2~9사이의 값은 총 7개\n",
        "#20개를 추출할 경우, 확률적으로 모든 값은 2번 이상 반복\n",
        "#매개변수 return_counts가 True일 경우, 해당 고유값이 몇 번 발생했는지도 반환\n",
        "rand_data = np.random.randint(2, 9, 20)\n",
        "print(rand_data)\n",
        "\n",
        "#고유 값 찾기\n",
        "print(np.unique(rand_data))\n",
        "\n",
        "print(np.unique(rand_data, return_counts=True))"
      ],
      "metadata": {
        "colab": {
          "base_uri": "https://localhost:8080/"
        },
        "id": "cxsXns2GOIXY",
        "outputId": "64c5cb88-e30e-43b4-ae07-ab6cdfe25e03"
      },
      "execution_count": 31,
      "outputs": [
        {
          "output_type": "stream",
          "name": "stdout",
          "text": [
            "[4 7 7 5 8 7 2 5 6 4 4 2 6 4 6 2 6 5 5 2]\n",
            "[2 4 5 6 7 8]\n",
            "(array([2, 4, 5, 6, 7, 8]), array([4, 4, 4, 4, 3, 1]))\n"
          ]
        }
      ]
    },
    {
      "cell_type": "code",
      "source": [
        "#행렬의 특정 값 찾기\n",
        "#in1d : 행렬에서 특정 값에 해당하는 값만 True / 그 외에는 False\n",
        "rand_data = np.random.randint(2, 9, 5)\n",
        "print(rand_data)\n",
        "\n",
        "print(np.in1d(rand_data, [2,3]))"
      ],
      "metadata": {
        "colab": {
          "base_uri": "https://localhost:8080/"
        },
        "id": "irJBbUa0OlSM",
        "outputId": "f807ab84-8296-46d0-af4d-48ff2830c509"
      },
      "execution_count": 33,
      "outputs": [
        {
          "output_type": "stream",
          "name": "stdout",
          "text": [
            "[7 2 3 2 4]\n",
            "[False  True  True  True False]\n"
          ]
        }
      ]
    },
    {
      "cell_type": "code",
      "source": [
        "#intersect1d : 두 행렬의 교집합을 정렬해서 반환\n",
        "#union1d : 두 행렬의 합집합을 정렬해서 반환\n",
        "#setdiff1d : 두 행렬의 차집합을 정렬해서 반환 - 두 행렬의 순서에 따라 다른 결과가 출력될 수 있음\n",
        "rand_data = np.random.randint(2, 9, (2,5))\n",
        "print(rand_data, '\\n')\n",
        "\n",
        "print(np.intersect1d(rand_data[0], rand_data[1]))\n",
        "print(np.union1d(rand_data[0], rand_data[1]))\n",
        "print(np.setdiff1d(rand_data[0], rand_data[1]))\n",
        "print(np.setdiff1d(rand_data[1], rand_data[0]))"
      ],
      "metadata": {
        "colab": {
          "base_uri": "https://localhost:8080/"
        },
        "id": "_Bv019qcO-cd",
        "outputId": "d86c6925-6ffc-4b71-c1c1-1ee1846abd05"
      },
      "execution_count": 35,
      "outputs": [
        {
          "output_type": "stream",
          "name": "stdout",
          "text": [
            "[[5 6 7 3 8]\n",
            " [4 3 2 8 3]] \n",
            "\n",
            "[3 8]\n",
            "[2 3 4 5 6 7 8]\n",
            "[5 6 7]\n",
            "[2 4]\n"
          ]
        }
      ]
    },
    {
      "cell_type": "code",
      "source": [
        "#특정 조건에 부합하는 요소의 수 세기\n",
        "arange_data = np.arange(1, 10)\n",
        "print(arange_data)\n",
        "\n",
        "#관행적으로 False = 0, True = 1\n",
        "result = np.where(arange_data > 0, True, False).sum()\n",
        "print(result)"
      ],
      "metadata": {
        "colab": {
          "base_uri": "https://localhost:8080/"
        },
        "id": "-CTlCqUkPpP5",
        "outputId": "07b173fc-02a7-473b-8510-d2ec4d8bfc0e"
      },
      "execution_count": 36,
      "outputs": [
        {
          "output_type": "stream",
          "name": "stdout",
          "text": [
            "[1 2 3 4 5 6 7 8 9]\n",
            "9\n"
          ]
        }
      ]
    },
    {
      "cell_type": "code",
      "source": [
        ""
      ],
      "metadata": {
        "id": "cGvpIMK3QD3z"
      },
      "execution_count": null,
      "outputs": []
    }
  ]
}