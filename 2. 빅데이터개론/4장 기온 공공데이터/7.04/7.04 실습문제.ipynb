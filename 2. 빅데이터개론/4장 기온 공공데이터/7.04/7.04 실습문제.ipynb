{
 "cells": [
  {
   "cell_type": "code",
   "execution_count": 121,
   "id": "097706fe",
   "metadata": {},
   "outputs": [
    {
     "name": "stdout",
     "output_type": "stream",
     "text": [
      "           일시  평균기온(°C)  최대 풍속(m/s)  평균 풍속(m/s)\n",
      "0  2010-08-01      28.7         8.3         3.4\n",
      "1  2010-08-02      25.2         8.7         3.8\n",
      "2  2010-08-03      22.1         6.3         2.9\n",
      "              일시  평균기온(°C)  최대 풍속(m/s)  평균 풍속(m/s)\n",
      "3650  2020-07-29      21.6         3.2         1.0\n",
      "3651  2020-07-30      22.9         9.7         2.4\n",
      "3652  2020-07-31      25.7         4.8         2.5\n"
     ]
    }
   ],
   "source": [
    "#실습문제 1-1\n",
    "import pandas as pd \n",
    "\n",
    "weather = pd.read_csv(\"weather.csv\", encoding='cp949')\n",
    "print(weather.head(3))\n",
    "print(weather.tail(3))"
   ]
  },
  {
   "cell_type": "code",
   "execution_count": 6,
   "id": "a63af722",
   "metadata": {},
   "outputs": [
    {
     "name": "stdout",
     "output_type": "stream",
     "text": [
      "평균기온(°C)      16.6\n",
      "최대 풍속(m/s)     4.4\n",
      "평균 풍속(m/s)     1.9\n",
      "Name: 2015-06-06, dtype: float64\n",
      "            평균기온(°C)  최대 풍속(m/s)  평균 풍속(m/s)\n",
      "일시                                          \n",
      "2015-06-06      16.6         4.4         1.9\n"
     ]
    }
   ],
   "source": [
    "#실습문제 1-2\n",
    "import pandas as pd \n",
    "\n",
    "weather = pd.read_csv(\"weather.csv\", index_col = 0, encoding='cp949')\n",
    "\n",
    "print(weather.loc['2015-06-06']) \n",
    "\n",
    "# [[]] 두겹을 사용하면 2차원 df 형태로 출력\n",
    "print(weather.loc[['2015-06-06']])"
   ]
  },
  {
   "cell_type": "code",
   "execution_count": 123,
   "id": "46481e02",
   "metadata": {},
   "outputs": [
    {
     "name": "stdout",
     "output_type": "stream",
     "text": [
      "31.3\n"
     ]
    }
   ],
   "source": [
    "#실습문제 1-3\n",
    "print(weather[\"평균기온(°C)\"].max())"
   ]
  },
  {
   "cell_type": "code",
   "execution_count": 8,
   "id": "49c171a2",
   "metadata": {},
   "outputs": [
    {
     "name": "stdout",
     "output_type": "stream",
     "text": [
      "            평균기온(°C)  최대 풍속(m/s)  평균 풍속(m/s)\n",
      "일시                                          \n",
      "2013-08-08      31.3         7.8         4.6\n"
     ]
    }
   ],
   "source": [
    "#실습문제 1-4\n",
    "import pandas as pd \n",
    "\n",
    "weather = pd.read_csv(\"weather.csv\", index_col=0, encoding='cp949')\n",
    "\n",
    "print(weather[weather[\"평균기온(°C)\"] == weather[\"평균기온(°C)\"].max()])"
   ]
  },
  {
   "cell_type": "code",
   "execution_count": 7,
   "id": "57338769",
   "metadata": {},
   "outputs": [
    {
     "name": "stdout",
     "output_type": "stream",
     "text": [
      "            평균기온(°C)  최대 풍속(m/s)  평균 풍속(m/s)\n",
      "일시                                          \n",
      "2013-08-08      31.3         7.8         4.6\n",
      "2013-08-09      30.6         9.9         6.4\n",
      "2013-08-10      30.6         7.4         3.8\n",
      "2018-07-23      30.5         6.5         1.6\n",
      "2018-08-04      30.3         5.8         3.0\n"
     ]
    }
   ],
   "source": [
    "#실습문제 1-5\n",
    "import pandas as pd \n",
    "\n",
    "weather = pd.read_csv(\"weather.csv\", index_col=0, encoding='cp949')\n",
    "\n",
    "print(weather[weather[\"평균기온(°C)\"] >= 30])"
   ]
  },
  {
   "cell_type": "code",
   "execution_count": 81,
   "id": "5378331e",
   "metadata": {},
   "outputs": [
    {
     "name": "stdout",
     "output_type": "stream",
     "text": [
      "  name  horse power  weight  efficiency\n",
      "0    A          130     1.9        16.3\n",
      "1    B          250     2.6        10.2\n",
      "2    C          190     2.2        11.1\n",
      "3    D          300     2.9         7.1\n",
      "4    E          210     2.4        12.1\n",
      "5    F          220     2.3        13.2\n",
      "6    G          170     2.2        14.2\n"
     ]
    }
   ],
   "source": [
    "#실습문제 2\n",
    "import pandas as pd \n",
    "\n",
    "df = pd.DataFrame({\n",
    "    'name' : ['A', 'B', 'C', 'D', 'E', 'F', 'G'],\n",
    "    'horse power' : [130, 250, 190, 300, 210, 220, 170],\n",
    "    'weight' : [1.9, 2.6, 2.2, 2.9, 2.4, 2.3, 2.2],\n",
    "    'efficiency': [16.3, 10.2, 11.1, 7.1, 12.1, 13.2, 14.2] })\n",
    "\n",
    "print(df)"
   ]
  },
  {
   "cell_type": "code",
   "execution_count": 128,
   "id": "3d717575",
   "metadata": {},
   "outputs": [
    {
     "name": "stdout",
     "output_type": "stream",
     "text": [
      "      horse power  weight  efficiency\n",
      "name                                 \n",
      "A             130     1.9        16.3\n",
      "B             250     2.6        10.2\n",
      "C             190     2.2        11.1\n"
     ]
    }
   ],
   "source": [
    "#실습문제 2-1\n",
    "import pandas as pd \n",
    "\n",
    "df = pd.DataFrame({\n",
    "    'name' : ['A', 'B', 'C', 'D', 'E', 'F', 'G'],\n",
    "    'horse power' : [130, 250, 190, 300, 210, 220, 170],\n",
    "    'weight' : [1.9, 2.6, 2.2, 2.9, 2.4, 2.3, 2.2],\n",
    "    'efficiency': [16.3, 10.2, 11.1, 7.1, 12.1, 13.2, 14.2] })\n",
    "\n",
    "df = df.set_index('name')\n",
    "print(df.head(3))"
   ]
  },
  {
   "cell_type": "code",
   "execution_count": 130,
   "id": "df0d2579",
   "metadata": {},
   "outputs": [
    {
     "name": "stdout",
     "output_type": "stream",
     "text": [
      "      horse power  weight  efficiency\n",
      "name                                 \n",
      "D             300     2.9         7.1\n"
     ]
    }
   ],
   "source": [
    "#실습문제 2-2\n",
    "import pandas as pd \n",
    "\n",
    "df = pd.DataFrame({\n",
    "    'name' : ['A', 'B', 'C', 'D', 'E', 'F', 'G'],\n",
    "    'horse power' : [130, 250, 190, 300, 210, 220, 170],\n",
    "    'weight' : [1.9, 2.6, 2.2, 2.9, 2.4, 2.3, 2.2],\n",
    "    'efficiency': [16.3, 10.2, 11.1, 7.1, 12.1, 13.2, 14.2] })\n",
    "\n",
    "df = df.set_index('name')\n",
    "\n",
    "print(df[df['horse power'] == df['horse power'].max()])"
   ]
  },
  {
   "cell_type": "code",
   "execution_count": 131,
   "id": "cf94546b",
   "metadata": {},
   "outputs": [
    {
     "name": "stdout",
     "output_type": "stream",
     "text": [
      "      horse power  weight  efficiency  hp x mile\n",
      "name                                            \n",
      "F             220     2.3        13.2     2904.0\n"
     ]
    }
   ],
   "source": [
    "#실습문제 2-3\n",
    "import pandas as pd\n",
    "\n",
    "df = pd.DataFrame({\n",
    "   'name' : ['A', 'B', 'C', 'D', 'E', 'F', 'G'],\n",
    "    'horse power' : [130, 250, 190, 300, 210, 220, 170],\n",
    "    'weight' : [1.9, 2.6, 2.2, 2.9, 2.4, 2.3, 2.2],\n",
    "    'efficiency': [16.3, 10.2, 11.1, 7.1, 12.1, 13.2, 14.2] })\n",
    "df = df.set_index('name')\n",
    "\n",
    "# 마력과 연비를 곱한 결과를 'hp x mile' 이름으로 추가\n",
    "df['hp x mile'] = df['horse power'] * df['efficiency']\n",
    "\n",
    "# hp x mile이 가장 높은 차량의 데이터 출력\n",
    "print(df[df['hp x mile'] == df['hp x mile'].max()])"
   ]
  },
  {
   "cell_type": "code",
   "execution_count": 10,
   "id": "ef73f284",
   "metadata": {},
   "outputs": [
    {
     "name": "stdout",
     "output_type": "stream",
     "text": [
      "      horse power  weight  efficiency\n",
      "name                                 \n",
      "A             120     1.9        18.3\n",
      "B             220     2.1        19.2\n",
      "C             120     1.5        21.1\n",
      "D             200     2.9        17.3\n"
     ]
    }
   ],
   "source": [
    "#실습문제 3-1\n",
    "import pandas as pd\n",
    "\n",
    "df1 = pd.DataFrame({\n",
    "    'name' : ['A', 'B', 'C', 'D'],\n",
    "    'horse power' : [120, 220, 120, 200],\n",
    "    'weight' : [1.9, 2.1, 1.5, 2.9],\n",
    "    'efficiency': [18.3, 19.2, 21.1, 17.3] })\n",
    "\n",
    "df1 = df1.set_index('name')\n",
    "# name 열을 index로 사용\n",
    "\n",
    "print(df1)"
   ]
  },
  {
   "cell_type": "code",
   "execution_count": 16,
   "id": "3bab4036",
   "metadata": {},
   "outputs": [
    {
     "name": "stdout",
     "output_type": "stream",
     "text": [
      "  name  horse power  weight  efficiency\n",
      "0    A          130     1.9        16.3\n",
      "1    B          250     2.6        10.2\n",
      "2    C          190     2.2        11.1\n",
      "3    D          300     2.9         7.1\n",
      "4    E          210     2.4        12.1\n",
      "5    F          220     2.3        13.2\n",
      "6    G          170     2.2        14.2\n",
      "0    A          120     1.9        18.3\n",
      "1    B          220     2.1        19.2\n",
      "2    C          120     1.5        21.1\n",
      "3    D          200     2.9        17.3\n"
     ]
    }
   ],
   "source": [
    "#실습문제 3-2\n",
    "import pandas as pd\n",
    "\n",
    "df1 = pd.DataFrame({\n",
    "    'name' : ['A', 'B', 'C', 'D', 'E', 'F', 'G'],\n",
    "    'horse power' : [130, 250, 190, 300, 210, 220, 170],\n",
    "    'weight' : [1.9, 2.6, 2.2, 2.9, 2.4, 2.3, 2.2],\n",
    "    'efficiency': [16.3, 10.2, 11.1, 7.1, 12.1, 13.2, 14.2] })\n",
    "\n",
    "df2 = pd.DataFrame({\n",
    "    'name' : ['A', 'B', 'C', 'D'],\n",
    "    'horse power' : [120, 220, 120, 200],\n",
    "    'weight' : [1.9, 2.1, 1.5, 2.9],\n",
    "    'efficiency': [18.3, 19.2, 21.1, 17.3] })\n",
    "\n",
    "df3 = pd.concat([df1, df2])\n",
    "\n",
    "print(df3)"
   ]
  },
  {
   "cell_type": "code",
   "execution_count": 17,
   "id": "d6d40c7e",
   "metadata": {},
   "outputs": [
    {
     "name": "stdout",
     "output_type": "stream",
     "text": [
      "  name  horse power  weight  efficiency com\n",
      "0    A          130     1.9        16.3   P\n",
      "1    B          250     2.6        10.2   P\n",
      "2    C          190     2.2        11.1   P\n",
      "3    D          300     2.9         7.1   P\n",
      "4    E          210     2.4        12.1   P\n",
      "5    F          220     2.3        13.2   P\n",
      "6    G          170     2.2        14.2   P\n",
      "0    A          120     1.9        18.3   Q\n",
      "1    B          220     2.1        19.2   Q\n",
      "2    C          120     1.5        21.1   Q\n",
      "3    D          200     2.9        17.3   Q\n"
     ]
    }
   ],
   "source": [
    "#실습문제 3-3\n",
    "import pandas as pd\n",
    "\n",
    "df1 = pd.DataFrame({\n",
    "    'name' : ['A', 'B', 'C', 'D', 'E', 'F', 'G'],\n",
    "    'horse power' : [130, 250, 190, 300, 210, 220, 170],\n",
    "    'weight' : [1.9, 2.6, 2.2, 2.9, 2.4, 2.3, 2.2],\n",
    "    'efficiency': [16.3, 10.2, 11.1, 7.1, 12.1, 13.2, 14.2] })\n",
    "df1['com'] = 'P'\n",
    "\n",
    "df2 = pd.DataFrame({\n",
    "    'name' : ['A', 'B', 'C', 'D'],\n",
    "    'horse power' : [120, 220, 120, 200],\n",
    "    'weight' : [1.9, 2.1, 1.5, 2.9],\n",
    "    'efficiency': [18.3, 19.2, 21.1, 17.3] })\n",
    "df2['com'] = 'Q'\n",
    "\n",
    "df3 = pd.concat([df1, df2])\n",
    "#concat으로 합친 다음 추가하는 방법도 있음\n",
    "# df3[\"com\"]=[\"P\", \"P\", \"P\", \"P\", \"P\", \"P\", \"P\", \"Q\", \"Q\", \"Q\", \"Q\"]\n",
    "print(df3)"
   ]
  },
  {
   "cell_type": "code",
   "execution_count": null,
   "id": "d4279871",
   "metadata": {},
   "outputs": [],
   "source": []
  }
 ],
 "metadata": {
  "kernelspec": {
   "display_name": "Python 3 (ipykernel)",
   "language": "python",
   "name": "python3"
  },
  "language_info": {
   "codemirror_mode": {
    "name": "ipython",
    "version": 3
   },
   "file_extension": ".py",
   "mimetype": "text/x-python",
   "name": "python",
   "nbconvert_exporter": "python",
   "pygments_lexer": "ipython3",
   "version": "3.9.12"
  }
 },
 "nbformat": 4,
 "nbformat_minor": 5
}
