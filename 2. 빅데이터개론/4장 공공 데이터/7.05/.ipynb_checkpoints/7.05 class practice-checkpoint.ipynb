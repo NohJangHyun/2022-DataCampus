{
 "cells": [
  {
   "cell_type": "code",
   "execution_count": 2,
   "id": "55ddc313",
   "metadata": {
    "scrolled": true
   },
   "outputs": [
    {
     "data": {
      "image/png": "[encoded data removed]",
      "text/plain": [
       "<Figure size 432x288 with 1 Axes>"
      ]
     },
     "metadata": {
      "needs_background": "light"
     },
     "output_type": "display_data"
    }
   ],
   "source": [
    "#최고 기온 데이터 히스토그램으로 표현\n",
    "import csv\n",
    "import matplotlib.pyplot as plt\n",
    "\n",
    "f = open('seoul.csv')\n",
    "data = csv.reader(f)\n",
    "next(data)\n",
    "result = []\n",
    "\n",
    "for row in data:\n",
    "    if row[-1] != '':\n",
    "        result.append(float(row[-1]))\n",
    "        \n",
    "plt.hist(result, bins=100, color='r')\n",
    "plt.show()"
   ]
  },
  {
   "cell_type": "code",
   "execution_count": 11,
   "id": "7419cb38",
   "metadata": {},
   "outputs": [
    {
     "data": {
      "image/png": "[encoded data removed]",
      "text/plain": [
       "<Figure size 432x288 with 1 Axes>"
      ]
     },
     "metadata": {
      "needs_background": "light"
     },
     "output_type": "display_data"
    }
   ],
   "source": [
    "#8월의 최고 기온 데이터 히스토그램으로 표현\n",
    "import csv\n",
    "import matplotlib.pyplot as plt\n",
    "\n",
    "f = open('seoul.csv')\n",
    "data = csv.reader(f)\n",
    "next(data)\n",
    "Aug = []\n",
    "\n",
    "for row in data:\n",
    "    if row[-1] != \"\":\n",
    "        if row[0].split('-')[1] == \"08\":\n",
    "            Aug.append(float(row[-1]))\n",
    "        \n",
    "plt.hist(Aug, bins=100, color='r')\n",
    "plt.show()"
   ]
  },
  {
   "cell_type": "code",
   "execution_count": 23,
   "id": "2a582f87",
   "metadata": {
    "scrolled": true
   },
   "outputs": [
    {
     "data": {
      "image/png": "[encoded data removed]",
      "text/plain": [
       "<Figure size 432x288 with 1 Axes>"
      ]
     },
     "metadata": {
      "needs_background": "light"
     },
     "output_type": "display_data"
    }
   ],
   "source": [
    "#1월과 8월의 최고 기온 데이터 히스토그램으로 표현\n",
    "import csv\n",
    "import matplotlib.pyplot as plt\n",
    "\n",
    "f = open('seoul.csv')\n",
    "data = csv.reader(f)\n",
    "next(data)\n",
    "Jan = []\n",
    "Aug = []\n",
    "\n",
    "for row in data:\n",
    "    if row[-1] != \"\":\n",
    "        if row[0].split('-')[1] == \"01\":\n",
    "            Jan.append(float(row[-1]))\n",
    "        if row[0].split('-')[1] == \"08\":\n",
    "            Aug.append(float(row[-1]))\n",
    "\n",
    "plt.hist(Jan, bins=100, color=\"b\", label = \"Jan\")\n",
    "plt.hist(Aug, bins=100, color='r', label= \"Aug\")\n",
    "plt.legend()\n",
    "plt.show()"
   ]
  },
  {
   "cell_type": "code",
   "execution_count": 31,
   "id": "e4cee564",
   "metadata": {},
   "outputs": [
    {
     "name": "stdout",
     "output_type": "stream",
     "text": [
      "[12, 49, 170, 266, 509, 583, 586, 628, 738, 838]\n",
      "1/4: 194.0\n",
      "2/4: 546.0\n",
      "3/4: 617.5\n"
     ]
    },
    {
     "data": {
      "image/png": "[encoded data removed]",
      "text/plain": [
       "<Figure size 432x288 with 1 Axes>"
      ]
     },
     "metadata": {
      "needs_background": "light"
     },
     "output_type": "display_data"
    }
   ],
   "source": [
    "#boxplot 연습\n",
    "import matplotlib.pyplot as plt\n",
    "import random\n",
    "import numpy as np\n",
    "#plt.figure(dpi = 300)\n",
    "\n",
    "result = []\n",
    "\n",
    "for i in range(10) :\n",
    "    result.append(random.randint(1,1000))\n",
    "print(sorted(result))\n",
    "\n",
    "result = np.array(result)\n",
    "\n",
    "print(\"1/4: \" + str(np.percentile(result,25)))\n",
    "print(\"2/4: \" + str(np.percentile(result,50)))\n",
    "print(\"3/4: \" + str(np.percentile(result,75)))\n",
    "plt.boxplot(result)\n",
    "plt.show()"
   ]
  },
  {
   "cell_type": "code",
   "execution_count": 30,
   "id": "70948823",
   "metadata": {},
   "outputs": [
    {
     "data": {
      "image/png": "[encoded data removed]",
      "text/plain": [
       "<Figure size 432x288 with 1 Axes>"
      ]
     },
     "metadata": {
      "needs_background": "light"
     },
     "output_type": "display_data"
    }
   ],
   "source": [
    "#문제 1\n",
    "#최고 기온 데이터 상자 그림으로 표현\n",
    "import csv\n",
    "import matplotlib.pyplot as plt\n",
    "\n",
    "f = open('seoul.csv')\n",
    "data = csv.reader(f)\n",
    "next(data)\n",
    "result = []\n",
    "\n",
    "for row in data:\n",
    "    if row[-1] != \"\":\n",
    "        result.append(float(row[-1]))\n",
    "\n",
    "plt.boxplot(result)\n",
    "plt.show()"
   ]
  },
  {
   "cell_type": "code",
   "execution_count": 27,
   "id": "874d17bc",
   "metadata": {},
   "outputs": [
    {
     "data": {
      "image/png": "[encoded data removed]",
      "text/plain": [
       "<Figure size 432x288 with 1 Axes>"
      ]
     },
     "metadata": {
      "needs_background": "light"
     },
     "output_type": "display_data"
    }
   ],
   "source": [
    "#문제 2\n",
    "#1월과 8월의 최고 기온 데이터 상자 그림으로 표현\n",
    "import csv\n",
    "import matplotlib.pyplot as plt\n",
    "\n",
    "f = open('seoul.csv')\n",
    "data = csv.reader(f)\n",
    "next(data)\n",
    "Jan = []\n",
    "Aug = []\n",
    "\n",
    "for row in data:\n",
    "    if row[-1] != \"\":\n",
    "        if row[0].split('-')[1] == \"01\":\n",
    "            Jan.append(float(row[-1]))\n",
    "        if row[0].split('-')[1] == \"08\":\n",
    "            Aug.append(float(row[-1]))\n",
    "\n",
    "plt.boxplot([Jan, Aug])\n",
    "plt.show()"
   ]
  },
  {
   "cell_type": "code",
   "execution_count": 38,
   "id": "a8569f7a",
   "metadata": {},
   "outputs": [
    {
     "data": {
      "image/png": "[encoded data removed]",
      "text/plain": [
       "<Figure size 432x288 with 1 Axes>"
      ]
     },
     "metadata": {
      "needs_background": "light"
     },
     "output_type": "display_data"
    }
   ],
   "source": [
    "#문제 3\n",
    "#1~12월까지 최고 기온 데이터 상자 그림으로 표현하기\n",
    "import csv\n",
    "import matplotlib.pyplot as plt\n",
    "\n",
    "f = open('seoul.csv')\n",
    "data = csv.reader(f)\n",
    "next(data)\n",
    "Jan = []\n",
    "Feb = []\n",
    "Mar = []\n",
    "Apr = []\n",
    "May = []\n",
    "Jun = []\n",
    "Jul = []\n",
    "Aug = []\n",
    "Sep = []\n",
    "Oct = []\n",
    "Nov = []\n",
    "Dec = []\n",
    "\n",
    "#월별 데이터를 저장할 리스트 month 생성(12개)\n",
    "# month = [[],[],[],[],[],[],[],[],[],[],[],[]]\n",
    "\n",
    "for row in data:\n",
    "    if row[-1] != \"\":\n",
    "        if row[0].split('-')[1] == \"01\":\n",
    "            Jan.append(float(row[-1]))\n",
    "        if row[0].split('-')[1] == \"02\":\n",
    "            Feb.append(float(row[-1]))\n",
    "        if row[0].split('-')[1] == \"03\":\n",
    "            Mar.append(float(row[-1]))\n",
    "        if row[0].split('-')[1] == \"04\":\n",
    "            Apr.append(float(row[-1]))\n",
    "        if row[0].split('-')[1] == \"05\":\n",
    "            May.append(float(row[-1]))\n",
    "        if row[0].split('-')[1] == \"06\":\n",
    "            Jun.append(float(row[-1]))\n",
    "        if row[0].split('-')[1] == \"07\":\n",
    "            Jul.append(float(row[-1]))\n",
    "        if row[0].split('-')[1] == \"08\":\n",
    "            Aug.append(float(row[-1]))\n",
    "        if row[0].split('-')[1] == \"08\":\n",
    "            Sep.append(float(row[-1]))\n",
    "        if row[0].split('-')[1] == \"10\":\n",
    "            Oct.append(float(row[-1]))\n",
    "        if row[0].split('-')[1] == \"11\":\n",
    "            Nov.append(float(row[-1]))\n",
    "        if row[0].split('-')[1] == \"12\":\n",
    "            Dec.append(float(row[-1]))\n",
    "#         month[int(row[0].split('-')[1])-1].append(float(row[-1]))\n",
    "\n",
    "plt.boxplot([Jan, Feb, Mar, Apr, May, Jun, Jul, Aug, Sep, Oct, Nov, Dec])\n",
    "#plt.boxplot(month)\n",
    "plt.show()"
   ]
  },
  {
   "cell_type": "markdown",
   "id": "bc49d364",
   "metadata": {},
   "source": [
    "우리 동네 인구조사: age.csv"
   ]
  },
  {
   "cell_type": "code",
   "execution_count": 39,
   "id": "0a0001b2",
   "metadata": {},
   "outputs": [
    {
     "name": "stdout",
     "output_type": "stream",
     "text": [
      "['서울특별시 구로구 신도림동(1153051000)', '37,268', '37,268', '326', '334', '406', '413', '389', '408', '417', '434', '411', '387', '420', '383', '354', '357', '340', '338', '349', '339', '407', '380', '390', '453', '424', '516', '451', '466', '448', '484', '471', '476', '558', '541', '579', '619', '638', '740', '756', '792', '745', '789', '671', '687', '700', '636', '726', '691', '657', '619', '649', '585', '579', '470', '522', '534', '563', '445', '511', '569', '572', '513', '532', '456', '426', '497', '379', '384', '399', '279', '289', '276', '268', '271', '223', '170', '150', '154', '177', '140', '126', '114', '121', '97', '86', '80', '59', '48', '44', '43', '28', '29', '22', '15', '13', '12', '5', '8', '5', '4', '2', '3', '7']\n"
     ]
    }
   ],
   "source": [
    "#age.csv 읽고 신도림동 데이터 행 출력\n",
    "import csv\n",
    "\n",
    "f = open('age.csv')\n",
    "data = csv.reader(f)\n",
    "\n",
    "for row in data:\n",
    "    if '신도림' in row[0]:\n",
    "        print(row)\n"
   ]
  },
  {
   "cell_type": "code",
   "execution_count": 52,
   "id": "f5b3c122",
   "metadata": {},
   "outputs": [
    {
     "name": "stdout",
     "output_type": "stream",
     "text": [
      "326\n",
      "334\n",
      "406\n",
      "413\n",
      "389\n",
      "408\n",
      "417\n",
      "434\n",
      "411\n",
      "387\n",
      "420\n",
      "383\n",
      "354\n",
      "357\n",
      "340\n",
      "338\n",
      "349\n",
      "339\n",
      "407\n",
      "380\n",
      "390\n",
      "453\n",
      "424\n",
      "516\n",
      "451\n",
      "466\n",
      "448\n",
      "484\n",
      "471\n",
      "476\n",
      "558\n",
      "541\n",
      "579\n",
      "619\n",
      "638\n",
      "740\n",
      "756\n",
      "792\n",
      "745\n",
      "789\n",
      "671\n",
      "687\n",
      "700\n",
      "636\n",
      "726\n",
      "691\n",
      "657\n",
      "619\n",
      "649\n",
      "585\n",
      "579\n",
      "470\n",
      "522\n",
      "534\n",
      "563\n",
      "445\n",
      "511\n",
      "569\n",
      "572\n",
      "513\n",
      "532\n",
      "456\n",
      "426\n",
      "497\n",
      "379\n",
      "384\n",
      "399\n",
      "279\n",
      "289\n",
      "276\n",
      "268\n",
      "271\n",
      "223\n",
      "170\n",
      "150\n",
      "154\n",
      "177\n",
      "140\n",
      "126\n",
      "114\n",
      "121\n",
      "97\n",
      "86\n",
      "80\n",
      "59\n",
      "48\n",
      "44\n",
      "43\n",
      "28\n",
      "29\n",
      "22\n",
      "15\n",
      "13\n",
      "12\n",
      "5\n",
      "8\n",
      "5\n",
      "4\n",
      "2\n",
      "3\n",
      "7\n"
     ]
    }
   ],
   "source": [
    "#우리 동네 연령별 인구수 출력하기\n",
    "import csv\n",
    "\n",
    "f = open('age.csv')\n",
    "data = csv.reader(f)\n",
    "\n",
    "for row in data:\n",
    "    if '신도림' in row[0]:\n",
    "        for i in row[3:]:\n",
    "            print(i)"
   ]
  },
  {
   "cell_type": "code",
   "execution_count": 53,
   "id": "471dd2b7",
   "metadata": {},
   "outputs": [
    {
     "name": "stdout",
     "output_type": "stream",
     "text": [
      "[326, 334, 406, 413, 389, 408, 417, 434, 411, 387, 420, 383, 354, 357, 340, 338, 349, 339, 407, 380, 390, 453, 424, 516, 451, 466, 448, 484, 471, 476, 558, 541, 579, 619, 638, 740, 756, 792, 745, 789, 671, 687, 700, 636, 726, 691, 657, 619, 649, 585, 579, 470, 522, 534, 563, 445, 511, 569, 572, 513, 532, 456, 426, 497, 379, 384, 399, 279, 289, 276, 268, 271, 223, 170, 150, 154, 177, 140, 126, 114, 121, 97, 86, 80, 59, 48, 44, 43, 28, 29, 22, 15, 13, 12, 5, 8, 5, 4, 2, 3, 7]\n"
     ]
    }
   ],
   "source": [
    "#문제4\n",
    "#우리 동네 연련별 인구수 result 리스트에 저장하기\n",
    "import csv\n",
    "\n",
    "f = open('age.csv')\n",
    "data = csv.reader(f)\n",
    "result = []\n",
    "for row in data:\n",
    "    if '신도림' in row[0]:\n",
    "        for i in row[3:]:\n",
    "            result.append(int(i)) #문자 데이터 정수로 변환\n",
    "            \n",
    "print(result)"
   ]
  },
  {
   "cell_type": "code",
   "execution_count": 59,
   "id": "6c9092c8",
   "metadata": {},
   "outputs": [
    {
     "data": {
      "image/png": "[encoded data removed]",
      "text/plain": [
       "<Figure size 432x288 with 1 Axes>"
      ]
     },
     "metadata": {},
     "output_type": "display_data"
    }
   ],
   "source": [
    "#문제 5\n",
    "#우리 동네 연령별 인구수 데이터 시각화\n",
    "import csv\n",
    "import matplotlib.pyplot as plt\n",
    "\n",
    "f = open('age.csv')\n",
    "data = csv.reader(f)\n",
    "result = []\n",
    "for row in data:\n",
    "    if '신도림' in row[0]:\n",
    "        for i in row[3:]:\n",
    "            result.append(int(i))\n",
    "\n",
    "plt.style.use('ggplot')\n",
    "plt.plot(result)\n",
    "plt.show()"
   ]
  },
  {
   "cell_type": "code",
   "execution_count": 67,
   "id": "72d39ab9",
   "metadata": {},
   "outputs": [
    {
     "name": "stdout",
     "output_type": "stream",
     "text": [
      "인구 구조가 알고 싶은 지역의 이름(읍면동 단위)을 입력해주세요 : 아름동\n"
     ]
    },
    {
     "data": {
      "image/png": "[encoded data removed]",
      "text/plain": [
       "<Figure size 432x288 with 1 Axes>"
      ]
     },
     "metadata": {},
     "output_type": "display_data"
    }
   ],
   "source": [
    "#문제 6\n",
    "#지역명을 입력 받아서 연령별 인구수 데이터를 시각화\n",
    "import csv\n",
    "import matplotlib.pyplot as plt\n",
    "\n",
    "f = open('age.csv')\n",
    "data = csv.reader(f)\n",
    "result = []\n",
    "\n",
    "name = input(\"인구 구조가 알고 싶은 지역의 이름(읍면동 단위)을 입력해주세요 : \")\n",
    "\n",
    "for row in data:\n",
    "    if name in row[0]:\n",
    "        for i in row[3:]:\n",
    "            result.append(int(i)) #문자 데이터 정수로 변환\n",
    "\n",
    "plt.style.use('ggplot')\n",
    "plt.rc('font', family = 'Malgun Gothic')\n",
    "plt.title(name +  \" 지역의 인구 구조\")\n",
    "plt.plot(result)\n",
    "plt.show()"
   ]
  },
  {
   "cell_type": "code",
   "execution_count": null,
   "id": "214f8b00",
   "metadata": {},
   "outputs": [],
   "source": []
  }
 ],
 "metadata": {
  "kernelspec": {
   "display_name": "Python 3 (ipykernel)",
   "language": "python",
   "name": "python3"
  },
  "language_info": {
   "codemirror_mode": {
    "name": "ipython",
    "version": 3
   },
   "file_extension": ".py",
   "mimetype": "text/x-python",
   "name": "python",
   "nbconvert_exporter": "python",
   "pygments_lexer": "ipython3",
   "version": "3.9.12"
  }
 },
 "nbformat": 4,
 "nbformat_minor": 5
}
